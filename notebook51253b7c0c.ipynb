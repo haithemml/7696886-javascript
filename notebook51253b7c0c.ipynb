{
 "cells": [
  {
   "cell_type": "code",
   "execution_count": 1,
   "id": "6a554208",
   "metadata": {
    "_cell_guid": "b1076dfc-b9ad-4769-8c92-a6c4dae69d19",
    "_uuid": "8f2839f25d086af736a60e9eeb907d3b93b6e0e5",
    "execution": {
     "iopub.execute_input": "2025-06-22T10:09:27.700412Z",
     "iopub.status.busy": "2025-06-22T10:09:27.699976Z",
     "iopub.status.idle": "2025-06-22T10:09:29.656575Z",
     "shell.execute_reply": "2025-06-22T10:09:29.655565Z"
    },
    "papermill": {
     "duration": 1.963266,
     "end_time": "2025-06-22T10:09:29.658169",
     "exception": false,
     "start_time": "2025-06-22T10:09:27.694903",
     "status": "completed"
    },
    "tags": []
   },
   "outputs": [
    {
     "name": "stdout",
     "output_type": "stream",
     "text": [
      "/kaggle/input/latest-world-news-2025/News_2025.csv\n"
     ]
    }
   ],
   "source": [
    "# This Python 3 environment comes with many helpful analytics libraries installed\n",
    "# It is defined by the kaggle/python Docker image: https://github.com/kaggle/docker-python\n",
    "# For example, here's several helpful packages to load\n",
    "\n",
    "import numpy as np # linear algebra\n",
    "import pandas as pd # data processing, CSV file I/O (e.g. pd.read_csv)\n",
    "\n",
    "# Input data files are available in the read-only \"../input/\" directory\n",
    "# For example, running this (by clicking run or pressing Shift+Enter) will list all files under the input directory\n",
    "\n",
    "import os\n",
    "for dirname, _, filenames in os.walk('/kaggle/input'):\n",
    "    for filename in filenames:\n",
    "        print(os.path.join(dirname, filename))\n",
    "\n",
    "# You can write up to 20GB to the current directory (/kaggle/working/) that gets preserved as output when you create a version using \"Save & Run All\" \n",
    "# You can also write temporary files to /kaggle/temp/, but they won't be saved outside of the current session"
   ]
  },
  {
   "cell_type": "code",
   "execution_count": null,
   "id": "ad0d32c9",
   "metadata": {
    "papermill": {
     "duration": 0.002861,
     "end_time": "2025-06-22T10:09:29.664728",
     "exception": false,
     "start_time": "2025-06-22T10:09:29.661867",
     "status": "completed"
    },
    "tags": []
   },
   "outputs": [],
   "source": []
  },
  {
   "cell_type": "code",
   "execution_count": 2,
   "id": "3f321cb0",
   "metadata": {
    "execution": {
     "iopub.execute_input": "2025-06-22T10:09:29.672239Z",
     "iopub.status.busy": "2025-06-22T10:09:29.671782Z",
     "iopub.status.idle": "2025-06-22T10:09:32.315771Z",
     "shell.execute_reply": "2025-06-22T10:09:32.314837Z"
    },
    "papermill": {
     "duration": 2.649647,
     "end_time": "2025-06-22T10:09:32.317434",
     "exception": false,
     "start_time": "2025-06-22T10:09:29.667787",
     "status": "completed"
    },
    "tags": []
   },
   "outputs": [],
   "source": [
    "from sklearn.feature_extraction import text\n",
    "from sklearn.metrics.pairwise import cosine_similarity\n",
    "import plotly.express as px\n",
    "import plotly.graph_objects as go"
   ]
  },
  {
   "cell_type": "code",
   "execution_count": 3,
   "id": "c434aeb7",
   "metadata": {
    "execution": {
     "iopub.execute_input": "2025-06-22T10:09:32.325255Z",
     "iopub.status.busy": "2025-06-22T10:09:32.324769Z",
     "iopub.status.idle": "2025-06-22T10:09:32.363670Z",
     "shell.execute_reply": "2025-06-22T10:09:32.362660Z"
    },
    "papermill": {
     "duration": 0.044662,
     "end_time": "2025-06-22T10:09:32.365391",
     "exception": false,
     "start_time": "2025-06-22T10:09:32.320729",
     "status": "completed"
    },
    "tags": []
   },
   "outputs": [
    {
     "name": "stdout",
     "output_type": "stream",
     "text": [
      "                                               image  \\\n",
      "0  https://static01.nyt.com/images/2025/06/17/mul...   \n",
      "1  https://npr.brightspotcdn.com/dims3/default/st...   \n",
      "2  https://static.toiimg.com/thumb/msid-121947693...   \n",
      "3  https://www.sciencealert.com/images/2025/06/dr...   \n",
      "4  https://scx2.b-cdn.net/gfx/news/hires/2025/whe...   \n",
      "\n",
      "                                               title              source  \\\n",
      "0  At Chile’s Vera Rubin Observatory, Earth’s Lar...  The New York Times   \n",
      "1  Israel vows to intensify attacks after Iranian...                 NPR   \n",
      "2  Who is Karen Read? Boston woman acquitted of m...      Times of India   \n",
      "3  1930s 'Dragon Man' Finally Gives Elusive Ancie...        ScienceAlert   \n",
      "4  When Earth iced over, early life may have shel...            Phys.org   \n",
      "\n",
      "                             sourceUrl               publishedAt  \\\n",
      "0              https://www.nytimes.com  2025-06-19T14:53:48.000Z   \n",
      "1                  https://www.npr.org  2025-06-19T10:32:02.000Z   \n",
      "2  https://timesofindia.indiatimes.com  2025-06-19T07:06:00.000Z   \n",
      "3         https://www.sciencealert.com  2025-06-19T13:01:21.000Z   \n",
      "4                     https://phys.org  2025-06-19T09:00:07.000Z   \n",
      "\n",
      "                                                link  \n",
      "0  https://www.nytimes.com/interactive/2025/06/19...  \n",
      "1  https://www.npr.org/2025/06/19/nx-s1-5439075/i...  \n",
      "2  https://timesofindia.indiatimes.com/world/us/w...  \n",
      "3  https://www.sciencealert.com/1930s-dragon-man-...  \n",
      "4  https://phys.org/news/2025-06-earth-iced-early...  \n"
     ]
    }
   ],
   "source": [
    "data = pd.read_csv('/kaggle/input/latest-world-news-2025/News_2025.csv')\n",
    "print(data.head(5))"
   ]
  },
  {
   "cell_type": "code",
   "execution_count": 4,
   "id": "4f1706ba",
   "metadata": {
    "execution": {
     "iopub.execute_input": "2025-06-22T10:09:32.376921Z",
     "iopub.status.busy": "2025-06-22T10:09:32.376449Z",
     "iopub.status.idle": "2025-06-22T10:09:32.386849Z",
     "shell.execute_reply": "2025-06-22T10:09:32.384574Z"
    },
    "papermill": {
     "duration": 0.018302,
     "end_time": "2025-06-22T10:09:32.389438",
     "exception": false,
     "start_time": "2025-06-22T10:09:32.371136",
     "status": "completed"
    },
    "tags": []
   },
   "outputs": [
    {
     "data": {
      "text/plain": [
       "Index(['image', 'title', 'source', 'sourceUrl', 'publishedAt', 'link'], dtype='object')"
      ]
     },
     "execution_count": 4,
     "metadata": {},
     "output_type": "execute_result"
    }
   ],
   "source": [
    "data.columns"
   ]
  },
  {
   "cell_type": "code",
   "execution_count": 5,
   "id": "60ec4d8c",
   "metadata": {
    "execution": {
     "iopub.execute_input": "2025-06-22T10:09:32.402803Z",
     "iopub.status.busy": "2025-06-22T10:09:32.402075Z",
     "iopub.status.idle": "2025-06-22T10:09:34.420624Z",
     "shell.execute_reply": "2025-06-22T10:09:34.419731Z"
    },
    "papermill": {
     "duration": 2.02701,
     "end_time": "2025-06-22T10:09:34.422286",
     "exception": false,
     "start_time": "2025-06-22T10:09:32.395276",
     "status": "completed"
    },
    "tags": []
   },
   "outputs": [
    {
     "data": {
      "text/html": [
       "<html>\n",
       "<head><meta charset=\"utf-8\" /></head>\n",
       "<body>\n",
       "    <div>            <script src=\"https://cdnjs.cloudflare.com/ajax/libs/mathjax/2.7.5/MathJax.js?config=TeX-AMS-MML_SVG\"></script><script type=\"text/javascript\">if (window.MathJax && window.MathJax.Hub && window.MathJax.Hub.Config) {window.MathJax.Hub.Config({SVG: {font: \"STIX-Web\"}});}</script>                <script type=\"text/javascript\">window.PlotlyConfig = {MathJaxConfig: 'local'};</script>\n",
       "        <script charset=\"utf-8\" src=\"https://cdn.plot.ly/plotly-2.35.2.min.js\"></script>                <div id=\"855f08cf-5d58-48cd-99b5-7f571616b634\" class=\"plotly-graph-div\" style=\"height:525px; width:100%;\"></div>            <script type=\"text/javascript\">                                    window.PLOTLYENV=window.PLOTLYENV || {};                                    if (document.getElementById(\"855f08cf-5d58-48cd-99b5-7f571616b634\")) {                    Plotly.newPlot(                        \"855f08cf-5d58-48cd-99b5-7f571616b634\",                        [{\"alignmentgroup\":\"True\",\"hovertemplate\":\"x=%{x}\\u003cbr\\u003ey=%{y}\\u003cextra\\u003e\\u003c\\u002fextra\\u003e\",\"legendgroup\":\"\",\"marker\":{\"color\":\"#636efa\",\"pattern\":{\"shape\":\"\"}},\"name\":\"\",\"offsetgroup\":\"\",\"orientation\":\"v\",\"showlegend\":false,\"textposition\":\"auto\",\"x\":[\"The Daily Galaxy\",\"The New York Times\",\"Space\",\"BBC\",\"Forbes\",\"ScienceAlert\",\"NPR\",\"Yahoo\",\"ABC News - Breaking News, Latest News and Videos\",\"Politico\",\"Reuters\",\"Earth.com\",\"Eurogamer\",\"Indian Defence Review\",\"CNN\",\"Axios\",\"Barron's\",\"9to5Google\",\"Phys.org\",\"Video Games Chronicle\",\"Los Angeles Times\",\"MacRumors\",\"The Jerusalem Post\",\"Nintendo Everything\",\"AP News\",\"TrueAchievements\",\"SciTechDaily\",\"IFLScience\",\"Kotaku\",\"TechCrunch\",\"Tom's Guide\",\"Live Science\",\"The Guardian\",\"CNBC\",\"NBC News\",\"NASA (.gov)\",\"SpaceNews\",\"Big Think\",\"Rude Baguette\",\"Nintendo Life\",\"The Economist\",\"NASA Science (.gov)\",\"Hindustan Times\",\"RPG Site\",\"EatingWell\",\"Wccftech\",\"The Conversation\",\"Common Dreams\",\"Center For Politics\",\"Pure Xbox\",\"Gizmodo\",\"CNET\",\"Farmingdale Observer\",\"Rocket League\",\"Al Arabiya English\",\"RockstarINTEL\",\"Phoronix\",\"Windows Central\",\"Android Authority\",\"ComicBook.com\",\"Times of India\",\"Cageside Seats\",\"Boy Genius Report\",\"Game Informer\",\"Inverse\",\"The Transmitter\",\"WHYY\",\"Android Central\",\"Al Jazeera\",\"Newser\",\"politico.eu\",\"NASA Watch\",\"BBC Wildlife Magazine\",\"Sammy Fans\",\"KOAT\",\"PhoneArena\",\"WSTM\",\"9to5Mac\",\"Syracuse.com\",\"France 24\",\"The Salt Lake Tribune\",\"Stewartville Star\",\"The Times of Israel\",\"USA Today\",\"Haaretz\",\"Android Police\",\"CBS News\",\"Dexerto\",\"SamMobile\",\"The Washington Post\",\"The Detroit News\",\"The Independent\",\"STAT\",\"Engadget\",\"Daily Mail\",\"The Dodo - For Animal People\",\"GSMArena.com\",\"Lifehacker\"],\"xaxis\":\"x\",\"y\":[13,11,8,7,5,5,5,5,5,4,4,4,3,3,3,3,3,3,3,3,2,2,2,2,2,2,2,2,2,2,2,2,2,2,2,2,2,1,1,1,1,1,1,1,1,1,1,1,1,1,1,1,1,1,1,1,1,1,1,1,1,1,1,1,1,1,1,1,1,1,1,1,1,1,1,1,1,1,1,1,1,1,1,1,1,1,1,1,1,1,1,1,1,1,1,1,1,1],\"yaxis\":\"y\",\"type\":\"bar\"}],                        {\"template\":{\"data\":{\"histogram2dcontour\":[{\"type\":\"histogram2dcontour\",\"colorbar\":{\"outlinewidth\":0,\"ticks\":\"\"},\"colorscale\":[[0.0,\"#0d0887\"],[0.1111111111111111,\"#46039f\"],[0.2222222222222222,\"#7201a8\"],[0.3333333333333333,\"#9c179e\"],[0.4444444444444444,\"#bd3786\"],[0.5555555555555556,\"#d8576b\"],[0.6666666666666666,\"#ed7953\"],[0.7777777777777778,\"#fb9f3a\"],[0.8888888888888888,\"#fdca26\"],[1.0,\"#f0f921\"]]}],\"choropleth\":[{\"type\":\"choropleth\",\"colorbar\":{\"outlinewidth\":0,\"ticks\":\"\"}}],\"histogram2d\":[{\"type\":\"histogram2d\",\"colorbar\":{\"outlinewidth\":0,\"ticks\":\"\"},\"colorscale\":[[0.0,\"#0d0887\"],[0.1111111111111111,\"#46039f\"],[0.2222222222222222,\"#7201a8\"],[0.3333333333333333,\"#9c179e\"],[0.4444444444444444,\"#bd3786\"],[0.5555555555555556,\"#d8576b\"],[0.6666666666666666,\"#ed7953\"],[0.7777777777777778,\"#fb9f3a\"],[0.8888888888888888,\"#fdca26\"],[1.0,\"#f0f921\"]]}],\"heatmap\":[{\"type\":\"heatmap\",\"colorbar\":{\"outlinewidth\":0,\"ticks\":\"\"},\"colorscale\":[[0.0,\"#0d0887\"],[0.1111111111111111,\"#46039f\"],[0.2222222222222222,\"#7201a8\"],[0.3333333333333333,\"#9c179e\"],[0.4444444444444444,\"#bd3786\"],[0.5555555555555556,\"#d8576b\"],[0.6666666666666666,\"#ed7953\"],[0.7777777777777778,\"#fb9f3a\"],[0.8888888888888888,\"#fdca26\"],[1.0,\"#f0f921\"]]}],\"heatmapgl\":[{\"type\":\"heatmapgl\",\"colorbar\":{\"outlinewidth\":0,\"ticks\":\"\"},\"colorscale\":[[0.0,\"#0d0887\"],[0.1111111111111111,\"#46039f\"],[0.2222222222222222,\"#7201a8\"],[0.3333333333333333,\"#9c179e\"],[0.4444444444444444,\"#bd3786\"],[0.5555555555555556,\"#d8576b\"],[0.6666666666666666,\"#ed7953\"],[0.7777777777777778,\"#fb9f3a\"],[0.8888888888888888,\"#fdca26\"],[1.0,\"#f0f921\"]]}],\"contourcarpet\":[{\"type\":\"contourcarpet\",\"colorbar\":{\"outlinewidth\":0,\"ticks\":\"\"}}],\"contour\":[{\"type\":\"contour\",\"colorbar\":{\"outlinewidth\":0,\"ticks\":\"\"},\"colorscale\":[[0.0,\"#0d0887\"],[0.1111111111111111,\"#46039f\"],[0.2222222222222222,\"#7201a8\"],[0.3333333333333333,\"#9c179e\"],[0.4444444444444444,\"#bd3786\"],[0.5555555555555556,\"#d8576b\"],[0.6666666666666666,\"#ed7953\"],[0.7777777777777778,\"#fb9f3a\"],[0.8888888888888888,\"#fdca26\"],[1.0,\"#f0f921\"]]}],\"surface\":[{\"type\":\"surface\",\"colorbar\":{\"outlinewidth\":0,\"ticks\":\"\"},\"colorscale\":[[0.0,\"#0d0887\"],[0.1111111111111111,\"#46039f\"],[0.2222222222222222,\"#7201a8\"],[0.3333333333333333,\"#9c179e\"],[0.4444444444444444,\"#bd3786\"],[0.5555555555555556,\"#d8576b\"],[0.6666666666666666,\"#ed7953\"],[0.7777777777777778,\"#fb9f3a\"],[0.8888888888888888,\"#fdca26\"],[1.0,\"#f0f921\"]]}],\"mesh3d\":[{\"type\":\"mesh3d\",\"colorbar\":{\"outlinewidth\":0,\"ticks\":\"\"}}],\"scatter\":[{\"fillpattern\":{\"fillmode\":\"overlay\",\"size\":10,\"solidity\":0.2},\"type\":\"scatter\"}],\"parcoords\":[{\"type\":\"parcoords\",\"line\":{\"colorbar\":{\"outlinewidth\":0,\"ticks\":\"\"}}}],\"scatterpolargl\":[{\"type\":\"scatterpolargl\",\"marker\":{\"colorbar\":{\"outlinewidth\":0,\"ticks\":\"\"}}}],\"bar\":[{\"error_x\":{\"color\":\"#2a3f5f\"},\"error_y\":{\"color\":\"#2a3f5f\"},\"marker\":{\"line\":{\"color\":\"#E5ECF6\",\"width\":0.5},\"pattern\":{\"fillmode\":\"overlay\",\"size\":10,\"solidity\":0.2}},\"type\":\"bar\"}],\"scattergeo\":[{\"type\":\"scattergeo\",\"marker\":{\"colorbar\":{\"outlinewidth\":0,\"ticks\":\"\"}}}],\"scatterpolar\":[{\"type\":\"scatterpolar\",\"marker\":{\"colorbar\":{\"outlinewidth\":0,\"ticks\":\"\"}}}],\"histogram\":[{\"marker\":{\"pattern\":{\"fillmode\":\"overlay\",\"size\":10,\"solidity\":0.2}},\"type\":\"histogram\"}],\"scattergl\":[{\"type\":\"scattergl\",\"marker\":{\"colorbar\":{\"outlinewidth\":0,\"ticks\":\"\"}}}],\"scatter3d\":[{\"type\":\"scatter3d\",\"line\":{\"colorbar\":{\"outlinewidth\":0,\"ticks\":\"\"}},\"marker\":{\"colorbar\":{\"outlinewidth\":0,\"ticks\":\"\"}}}],\"scattermapbox\":[{\"type\":\"scattermapbox\",\"marker\":{\"colorbar\":{\"outlinewidth\":0,\"ticks\":\"\"}}}],\"scatterternary\":[{\"type\":\"scatterternary\",\"marker\":{\"colorbar\":{\"outlinewidth\":0,\"ticks\":\"\"}}}],\"scattercarpet\":[{\"type\":\"scattercarpet\",\"marker\":{\"colorbar\":{\"outlinewidth\":0,\"ticks\":\"\"}}}],\"carpet\":[{\"aaxis\":{\"endlinecolor\":\"#2a3f5f\",\"gridcolor\":\"white\",\"linecolor\":\"white\",\"minorgridcolor\":\"white\",\"startlinecolor\":\"#2a3f5f\"},\"baxis\":{\"endlinecolor\":\"#2a3f5f\",\"gridcolor\":\"white\",\"linecolor\":\"white\",\"minorgridcolor\":\"white\",\"startlinecolor\":\"#2a3f5f\"},\"type\":\"carpet\"}],\"table\":[{\"cells\":{\"fill\":{\"color\":\"#EBF0F8\"},\"line\":{\"color\":\"white\"}},\"header\":{\"fill\":{\"color\":\"#C8D4E3\"},\"line\":{\"color\":\"white\"}},\"type\":\"table\"}],\"barpolar\":[{\"marker\":{\"line\":{\"color\":\"#E5ECF6\",\"width\":0.5},\"pattern\":{\"fillmode\":\"overlay\",\"size\":10,\"solidity\":0.2}},\"type\":\"barpolar\"}],\"pie\":[{\"automargin\":true,\"type\":\"pie\"}]},\"layout\":{\"autotypenumbers\":\"strict\",\"colorway\":[\"#636efa\",\"#EF553B\",\"#00cc96\",\"#ab63fa\",\"#FFA15A\",\"#19d3f3\",\"#FF6692\",\"#B6E880\",\"#FF97FF\",\"#FECB52\"],\"font\":{\"color\":\"#2a3f5f\"},\"hovermode\":\"closest\",\"hoverlabel\":{\"align\":\"left\"},\"paper_bgcolor\":\"white\",\"plot_bgcolor\":\"#E5ECF6\",\"polar\":{\"bgcolor\":\"#E5ECF6\",\"angularaxis\":{\"gridcolor\":\"white\",\"linecolor\":\"white\",\"ticks\":\"\"},\"radialaxis\":{\"gridcolor\":\"white\",\"linecolor\":\"white\",\"ticks\":\"\"}},\"ternary\":{\"bgcolor\":\"#E5ECF6\",\"aaxis\":{\"gridcolor\":\"white\",\"linecolor\":\"white\",\"ticks\":\"\"},\"baxis\":{\"gridcolor\":\"white\",\"linecolor\":\"white\",\"ticks\":\"\"},\"caxis\":{\"gridcolor\":\"white\",\"linecolor\":\"white\",\"ticks\":\"\"}},\"coloraxis\":{\"colorbar\":{\"outlinewidth\":0,\"ticks\":\"\"}},\"colorscale\":{\"sequential\":[[0.0,\"#0d0887\"],[0.1111111111111111,\"#46039f\"],[0.2222222222222222,\"#7201a8\"],[0.3333333333333333,\"#9c179e\"],[0.4444444444444444,\"#bd3786\"],[0.5555555555555556,\"#d8576b\"],[0.6666666666666666,\"#ed7953\"],[0.7777777777777778,\"#fb9f3a\"],[0.8888888888888888,\"#fdca26\"],[1.0,\"#f0f921\"]],\"sequentialminus\":[[0.0,\"#0d0887\"],[0.1111111111111111,\"#46039f\"],[0.2222222222222222,\"#7201a8\"],[0.3333333333333333,\"#9c179e\"],[0.4444444444444444,\"#bd3786\"],[0.5555555555555556,\"#d8576b\"],[0.6666666666666666,\"#ed7953\"],[0.7777777777777778,\"#fb9f3a\"],[0.8888888888888888,\"#fdca26\"],[1.0,\"#f0f921\"]],\"diverging\":[[0,\"#8e0152\"],[0.1,\"#c51b7d\"],[0.2,\"#de77ae\"],[0.3,\"#f1b6da\"],[0.4,\"#fde0ef\"],[0.5,\"#f7f7f7\"],[0.6,\"#e6f5d0\"],[0.7,\"#b8e186\"],[0.8,\"#7fbc41\"],[0.9,\"#4d9221\"],[1,\"#276419\"]]},\"xaxis\":{\"gridcolor\":\"white\",\"linecolor\":\"white\",\"ticks\":\"\",\"title\":{\"standoff\":15},\"zerolinecolor\":\"white\",\"automargin\":true,\"zerolinewidth\":2},\"yaxis\":{\"gridcolor\":\"white\",\"linecolor\":\"white\",\"ticks\":\"\",\"title\":{\"standoff\":15},\"zerolinecolor\":\"white\",\"automargin\":true,\"zerolinewidth\":2},\"scene\":{\"xaxis\":{\"backgroundcolor\":\"#E5ECF6\",\"gridcolor\":\"white\",\"linecolor\":\"white\",\"showbackground\":true,\"ticks\":\"\",\"zerolinecolor\":\"white\",\"gridwidth\":2},\"yaxis\":{\"backgroundcolor\":\"#E5ECF6\",\"gridcolor\":\"white\",\"linecolor\":\"white\",\"showbackground\":true,\"ticks\":\"\",\"zerolinecolor\":\"white\",\"gridwidth\":2},\"zaxis\":{\"backgroundcolor\":\"#E5ECF6\",\"gridcolor\":\"white\",\"linecolor\":\"white\",\"showbackground\":true,\"ticks\":\"\",\"zerolinecolor\":\"white\",\"gridwidth\":2}},\"shapedefaults\":{\"line\":{\"color\":\"#2a3f5f\"}},\"annotationdefaults\":{\"arrowcolor\":\"#2a3f5f\",\"arrowhead\":0,\"arrowwidth\":1},\"geo\":{\"bgcolor\":\"white\",\"landcolor\":\"#E5ECF6\",\"subunitcolor\":\"white\",\"showland\":true,\"showlakes\":true,\"lakecolor\":\"white\"},\"title\":{\"x\":0.05},\"mapbox\":{\"style\":\"light\"}}},\"xaxis\":{\"anchor\":\"y\",\"domain\":[0.0,1.0],\"title\":{\"text\":\"x\"}},\"yaxis\":{\"anchor\":\"x\",\"domain\":[0.0,1.0],\"title\":{\"text\":\"y\"}},\"legend\":{\"tracegroupgap\":0},\"title\":{\"text\":\"sources of the news\"},\"barmode\":\"relative\"},                        {\"responsive\": true}                    ).then(function(){\n",
       "                            \n",
       "var gd = document.getElementById('855f08cf-5d58-48cd-99b5-7f571616b634');\n",
       "var x = new MutationObserver(function (mutations, observer) {{\n",
       "        var display = window.getComputedStyle(gd).display;\n",
       "        if (!display || display === 'none') {{\n",
       "            console.log([gd, 'removed!']);\n",
       "            Plotly.purge(gd);\n",
       "            observer.disconnect();\n",
       "        }}\n",
       "}});\n",
       "\n",
       "// Listen for the removal of the full notebook cells\n",
       "var notebookContainer = gd.closest('#notebook-container');\n",
       "if (notebookContainer) {{\n",
       "    x.observe(notebookContainer, {childList: true});\n",
       "}}\n",
       "\n",
       "// Listen for the clearing of the current output cell\n",
       "var outputEl = gd.closest('.output');\n",
       "if (outputEl) {{\n",
       "    x.observe(outputEl, {childList: true});\n",
       "}}\n",
       "\n",
       "                        })                };                            </script>        </div>\n",
       "</body>\n",
       "</html>"
      ]
     },
     "metadata": {},
     "output_type": "display_data"
    }
   ],
   "source": [
    "# Look at the sources\n",
    "categories = data[\"source\"].value_counts()\n",
    "label = categories.index\n",
    "counts = categories.values\n",
    "figure = px.bar(data, x=label, \n",
    "                y = counts, \n",
    "            title=\"sources of the news\")\n",
    "figure.show()"
   ]
  },
  {
   "cell_type": "markdown",
   "id": "9a8b1737",
   "metadata": {
    "papermill": {
     "duration": 0.003253,
     "end_time": "2025-06-22T10:09:34.429337",
     "exception": false,
     "start_time": "2025-06-22T10:09:34.426084",
     "status": "completed"
    },
    "tags": []
   },
   "source": [
    "The Daily Galaxy stands out as the most prominent source, contributing the highest number of news articles.\n",
    "Other notable contributors include Space.com, Phys.org, and Reuters, each providing a moderate number of articles.\n",
    "A long tail of sources contributes a relatively smaller number of articles, which indicates a diverse and dispersed set of news providers.\n",
    "Several well-known global outlets such as ABC News, The Guardian, and NBC News are also present, though their contribution in this dataset is limited compared to The Daily Galaxy.\n",
    "The dataset seems to have a skewed distribution, where a few sources dominate the content volume.\n",
    "The presence of many niche or scientific sources (like Phys.org and Space.com) suggests that the dataset might have a focus on science or technology-related topics.\n",
    "\n"
   ]
  },
  {
   "cell_type": "code",
   "execution_count": 6,
   "id": "aca164b0",
   "metadata": {
    "execution": {
     "iopub.execute_input": "2025-06-22T10:09:34.437712Z",
     "iopub.status.busy": "2025-06-22T10:09:34.437394Z",
     "iopub.status.idle": "2025-06-22T10:09:34.442856Z",
     "shell.execute_reply": "2025-06-22T10:09:34.441682Z"
    },
    "papermill": {
     "duration": 0.011551,
     "end_time": "2025-06-22T10:09:34.444403",
     "exception": false,
     "start_time": "2025-06-22T10:09:34.432852",
     "status": "completed"
    },
    "tags": []
   },
   "outputs": [
    {
     "name": "stdout",
     "output_type": "stream",
     "text": [
      "['BaseEstimator', 'CountVectorizer', 'ENGLISH_STOP_WORDS', 'FLOAT_DTYPES', 'FeatureHasher', 'HasMethods', 'HashingVectorizer', 'Integral', 'Interval', 'Mapping', 'NotFittedError', 'OneToOneFeatureMixin', 'Real', 'StrOptions', 'TfidfTransformer', 'TfidfVectorizer', 'TransformerMixin', '_IS_32BIT', '_VectorizerMixin', '__all__', '__builtins__', '__cached__', '__doc__', '__file__', '__loader__', '__name__', '__package__', '__spec__', '_analyze', '_check_stop_list', '_document_frequency', '_make_int_array', '_preprocess', 'array', 'check_array', 'check_is_fitted', 'defaultdict', 'itemgetter', 'normalize', 'np', 'partial', 're', 'sp', 'strip_accents_ascii', 'strip_accents_unicode', 'strip_tags', 'unicodedata', 'warnings']\n"
     ]
    }
   ],
   "source": [
    "import sklearn.feature_extraction.text\n",
    "print(dir(sklearn.feature_extraction.text))\n"
   ]
  },
  {
   "cell_type": "code",
   "execution_count": 7,
   "id": "435a703e",
   "metadata": {
    "execution": {
     "iopub.execute_input": "2025-06-22T10:09:34.453062Z",
     "iopub.status.busy": "2025-06-22T10:09:34.452724Z",
     "iopub.status.idle": "2025-06-22T10:09:34.483940Z",
     "shell.execute_reply": "2025-06-22T10:09:34.482449Z"
    },
    "papermill": {
     "duration": 0.037604,
     "end_time": "2025-06-22T10:09:34.485731",
     "exception": false,
     "start_time": "2025-06-22T10:09:34.448127",
     "status": "completed"
    },
    "tags": []
   },
   "outputs": [],
   "source": [
    "from sklearn.feature_extraction.text import TfidfVectorizer\n",
    "from sklearn.metrics.pairwise import cosine_similarity\n",
    "\n",
    "# Get the list of titles\n",
    "feature = data['title'].tolist()\n",
    "\n",
    "# Create the vectorizer\n",
    "tfidf = TfidfVectorizer(stop_words='english')\n",
    "\n",
    "# Fit and transform the data\n",
    "tfidf_matrix = tfidf.fit_transform(feature)\n",
    "\n",
    "# Compute cosine similarity\n",
    "similarity = cosine_similarity(tfidf_matrix)\n"
   ]
  },
  {
   "cell_type": "code",
   "execution_count": 8,
   "id": "c0c38f26",
   "metadata": {
    "execution": {
     "iopub.execute_input": "2025-06-22T10:09:34.494604Z",
     "iopub.status.busy": "2025-06-22T10:09:34.494104Z",
     "iopub.status.idle": "2025-06-22T10:09:34.500186Z",
     "shell.execute_reply": "2025-06-22T10:09:34.499340Z"
    },
    "papermill": {
     "duration": 0.012332,
     "end_time": "2025-06-22T10:09:34.501819",
     "exception": false,
     "start_time": "2025-06-22T10:09:34.489487",
     "status": "completed"
    },
    "tags": []
   },
   "outputs": [],
   "source": [
    "indices = pd.Series(data.index, index=data['title']).drop_duplicates()"
   ]
  },
  {
   "cell_type": "code",
   "execution_count": 9,
   "id": "3e87b1b1",
   "metadata": {
    "execution": {
     "iopub.execute_input": "2025-06-22T10:09:34.510193Z",
     "iopub.status.busy": "2025-06-22T10:09:34.509902Z",
     "iopub.status.idle": "2025-06-22T10:09:34.516130Z",
     "shell.execute_reply": "2025-06-22T10:09:34.515172Z"
    },
    "papermill": {
     "duration": 0.012046,
     "end_time": "2025-06-22T10:09:34.517631",
     "exception": false,
     "start_time": "2025-06-22T10:09:34.505585",
     "status": "completed"
    },
    "tags": []
   },
   "outputs": [
    {
     "name": "stdout",
     "output_type": "stream",
     "text": [
      "<function news_topic at 0x7a25e8f9a520>\n"
     ]
    }
   ],
   "source": [
    "def news_topic(title, similarity = similarity):\n",
    "    index = indices[title]\n",
    "    similarity_scores = list(enumerate(similarity[index]))\n",
    "    similarity_scores = sorted(similarity_scores, \n",
    "    key=lambda x: x[1], reverse=True)\n",
    "    similarity_scores = similarity_scores[0:10]\n",
    "    newsindices = [i[0] for i in similarity_scores]\n",
    "    return data['title'].iloc[newsindices]\n",
    "\n",
    "print(news_topic)"
   ]
  },
  {
   "cell_type": "code",
   "execution_count": 10,
   "id": "7d8d407d",
   "metadata": {
    "execution": {
     "iopub.execute_input": "2025-06-22T10:09:34.526188Z",
     "iopub.status.busy": "2025-06-22T10:09:34.525886Z",
     "iopub.status.idle": "2025-06-22T10:09:34.532787Z",
     "shell.execute_reply": "2025-06-22T10:09:34.531820Z"
    },
    "papermill": {
     "duration": 0.012694,
     "end_time": "2025-06-22T10:09:34.534120",
     "exception": false,
     "start_time": "2025-06-22T10:09:34.521426",
     "status": "completed"
    },
    "tags": []
   },
   "outputs": [
    {
     "name": "stdout",
     "output_type": "stream",
     "text": [
      " Top 20 Most Important Words (TF-IDF):\n",
      "iran: 4.87\n",
      "trump: 3.96\n",
      "new: 3.92\n",
      "israel: 3.29\n",
      "earth: 2.75\n",
      "scientists: 2.62\n",
      "switch: 2.49\n",
      "update: 2.27\n",
      "nasa: 2.24\n",
      "years: 2.02\n",
      "apple: 1.99\n",
      "say: 1.88\n",
      "attack: 1.80\n",
      "conflict: 1.79\n",
      "largest: 1.70\n",
      "discovery: 1.70\n",
      "solar: 1.67\n",
      "galaxy: 1.66\n",
      "samsung: 1.57\n",
      "says: 1.54\n"
     ]
    }
   ],
   "source": [
    "\n",
    "feature_names = tfidf.get_feature_names_out()\n",
    "top_n = 20\n",
    "\n",
    "# Sum of TF-IDF weights per word\n",
    "tfidf_sums = tfidf_matrix.sum(axis=0).A1\n",
    "top_indices = np.argsort(tfidf_sums)[::-1][:top_n]\n",
    "\n",
    "print(\" Top 20 Most Important Words (TF-IDF):\")\n",
    "for idx in top_indices:\n",
    "    print(f\"{feature_names[idx]}: {tfidf_sums[idx]:.2f}\")\n"
   ]
  },
  {
   "cell_type": "code",
   "execution_count": 11,
   "id": "aba7f5e4",
   "metadata": {
    "execution": {
     "iopub.execute_input": "2025-06-22T10:09:34.542738Z",
     "iopub.status.busy": "2025-06-22T10:09:34.542433Z",
     "iopub.status.idle": "2025-06-22T10:09:35.057455Z",
     "shell.execute_reply": "2025-06-22T10:09:35.056546Z"
    },
    "papermill": {
     "duration": 0.520937,
     "end_time": "2025-06-22T10:09:35.058816",
     "exception": false,
     "start_time": "2025-06-22T10:09:34.537879",
     "status": "completed"
    },
    "tags": []
   },
   "outputs": [
    {
     "name": "stdout",
     "output_type": "stream",
     "text": [
      "\n",
      " Cluster 0:\n",
      "At Chile’s Vera Rubin Observatory, Earth’s Larg...\n",
      "Who is Karen Read? Boston woman acquitted of mu...\n",
      "1930s 'Dragon Man' Finally Gives Elusive Ancien...\n",
      "\n",
      " Cluster 1:\n",
      "Nearby Sculptor galaxy revealed in ultra-detail...\n",
      "Samsung Galaxy S24 took its first big step towa...\n",
      "iPhone 17 Pro launch: After using the iPhone 16...\n",
      "\n",
      " Cluster 2:\n",
      "Israel vows to intensify attacks after Iranian ...\n",
      "Rwanda and DR Congo agree draft peace deal to e...\n",
      "What are the risks of bombing Iran's nuclear si...\n",
      "\n",
      " Cluster 3:\n",
      "I Tried the Future of Smart Glasses at WWDC. Th...\n",
      "Evacuations ordered for wildfires in southwest ...\n",
      "Finland Makes New Move to Defend Itself From Ru...\n",
      "\n",
      " Cluster 4:\n",
      "         The island city where Juneteenth was born\n",
      "Why Israel wants US bunker busters to hit Iran’...\n",
      "NASA Engineers Simulate Lunar Lighting for Arte...\n"
     ]
    },
    {
     "name": "stderr",
     "output_type": "stream",
     "text": [
      "/usr/local/lib/python3.11/dist-packages/sklearn/cluster/_kmeans.py:870: FutureWarning:\n",
      "\n",
      "The default value of `n_init` will change from 10 to 'auto' in 1.4. Set the value of `n_init` explicitly to suppress the warning\n",
      "\n"
     ]
    }
   ],
   "source": [
    "from sklearn.cluster import KMeans\n",
    "\n",
    "# Group number\n",
    "k = 5\n",
    "model = KMeans(n_clusters=k, random_state=42)\n",
    "labels = model.fit_predict(tfidf_matrix)\n",
    "\n",
    "# Add labels to the dataframe\n",
    "data['cluster'] = labels\n",
    "\n",
    "for cluster in range(k):\n",
    "    print(f\"\\n Cluster {cluster}:\")\n",
    "    print(data[data['cluster'] == cluster]['title'].head(3).to_string(index=False))\n"
   ]
  },
  {
   "cell_type": "code",
   "execution_count": 12,
   "id": "db6d297d",
   "metadata": {
    "execution": {
     "iopub.execute_input": "2025-06-22T10:09:35.067735Z",
     "iopub.status.busy": "2025-06-22T10:09:35.067425Z",
     "iopub.status.idle": "2025-06-22T10:09:36.364050Z",
     "shell.execute_reply": "2025-06-22T10:09:36.363087Z"
    },
    "papermill": {
     "duration": 1.303006,
     "end_time": "2025-06-22T10:09:36.365650",
     "exception": false,
     "start_time": "2025-06-22T10:09:35.062644",
     "status": "completed"
    },
    "tags": []
   },
   "outputs": [
    {
     "data": {
      "image/png": "[encoded data removed]",
      "text/plain": [
       "<Figure size 1000x700 with 1 Axes>"
      ]
     },
     "metadata": {},
     "output_type": "display_data"
    }
   ],
   "source": [
    "from sklearn.manifold import TSNE\n",
    "import matplotlib.pyplot as plt\n",
    "\n",
    "X_reduced = TSNE(n_components=2, perplexity=30, random_state=42).fit_transform(tfidf_matrix.toarray())\n",
    "\n",
    "plt.figure(figsize=(10, 7))\n",
    "plt.scatter(X_reduced[:, 0], X_reduced[:, 1], c=data['cluster'], cmap='tab10')\n",
    "plt.title(\"visualization of article clusters\")\n",
    "plt.show()\n"
   ]
  }
 ],
 "metadata": {
  "kaggle": {
   "accelerator": "none",
   "dataSources": [
    {
     "datasetId": 7699247,
     "sourceId": 12220654,
     "sourceType": "datasetVersion"
    }
   ],
   "dockerImageVersionId": 31040,
   "isGpuEnabled": false,
   "isInternetEnabled": true,
   "language": "python",
   "sourceType": "notebook"
  },
  "kernelspec": {
   "display_name": "Python 3",
   "language": "python",
   "name": "python3"
  },
  "language_info": {
   "codemirror_mode": {
    "name": "ipython",
    "version": 3
   },
   "file_extension": ".py",
   "mimetype": "text/x-python",
   "name": "python",
   "nbconvert_exporter": "python",
   "pygments_lexer": "ipython3",
   "version": "3.11.11"
  },
  "papermill": {
   "default_parameters": {},
   "duration": 14.408312,
   "end_time": "2025-06-22T10:09:37.192071",
   "environment_variables": {},
   "exception": null,
   "input_path": "__notebook__.ipynb",
   "output_path": "__notebook__.ipynb",
   "parameters": {},
   "start_time": "2025-06-22T10:09:22.783759",
   "version": "2.6.0"
  }
 },
 "nbformat": 4,
 "nbformat_minor": 5
}
