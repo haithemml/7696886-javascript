{
 "cells": [
  {
   "cell_type": "code",
   "execution_count": 1,
   "id": "b5825742",
   "metadata": {
    "_cell_guid": "b1076dfc-b9ad-4769-8c92-a6c4dae69d19",
    "_uuid": "8f2839f25d086af736a60e9eeb907d3b93b6e0e5",
    "execution": {
     "iopub.execute_input": "2025-06-21T22:17:00.498158Z",
     "iopub.status.busy": "2025-06-21T22:17:00.497833Z",
     "iopub.status.idle": "2025-06-21T22:17:02.424590Z",
     "shell.execute_reply": "2025-06-21T22:17:02.423623Z"
    },
    "papermill": {
     "duration": 1.934372,
     "end_time": "2025-06-21T22:17:02.426073",
     "exception": false,
     "start_time": "2025-06-21T22:17:00.491701",
     "status": "completed"
    },
    "tags": []
   },
   "outputs": [
    {
     "name": "stdout",
     "output_type": "stream",
     "text": [
      "/kaggle/input/latest-world-news-2025/News_2025.csv\n"
     ]
    }
   ],
   "source": [
    "# This Python 3 environment comes with many helpful analytics libraries installed\n",
    "# It is defined by the kaggle/python Docker image: https://github.com/kaggle/docker-python\n",
    "# For example, here's several helpful packages to load\n",
    "\n",
    "import numpy as np # linear algebra\n",
    "import pandas as pd # data processing, CSV file I/O (e.g. pd.read_csv)\n",
    "\n",
    "# Input data files are available in the read-only \"../input/\" directory\n",
    "# For example, running this (by clicking run or pressing Shift+Enter) will list all files under the input directory\n",
    "\n",
    "import os\n",
    "for dirname, _, filenames in os.walk('/kaggle/input'):\n",
    "    for filename in filenames:\n",
    "        print(os.path.join(dirname, filename))\n",
    "\n",
    "# You can write up to 20GB to the current directory (/kaggle/working/) that gets preserved as output when you create a version using \"Save & Run All\" \n",
    "# You can also write temporary files to /kaggle/temp/, but they won't be saved outside of the current session"
   ]
  },
  {
   "cell_type": "code",
   "execution_count": 2,
   "id": "7a33752c",
   "metadata": {
    "execution": {
     "iopub.execute_input": "2025-06-21T22:17:02.433304Z",
     "iopub.status.busy": "2025-06-21T22:17:02.432911Z",
     "iopub.status.idle": "2025-06-21T22:17:04.978407Z",
     "shell.execute_reply": "2025-06-21T22:17:04.977370Z"
    },
    "papermill": {
     "duration": 2.55079,
     "end_time": "2025-06-21T22:17:04.980166",
     "exception": false,
     "start_time": "2025-06-21T22:17:02.429376",
     "status": "completed"
    },
    "tags": []
   },
   "outputs": [],
   "source": [
    "from sklearn.feature_extraction import text\n",
    "from sklearn.metrics.pairwise import cosine_similarity\n",
    "import plotly.express as px\n",
    "import plotly.graph_objects as go"
   ]
  },
  {
   "cell_type": "code",
   "execution_count": 3,
   "id": "ae86638a",
   "metadata": {
    "execution": {
     "iopub.execute_input": "2025-06-21T22:17:04.987375Z",
     "iopub.status.busy": "2025-06-21T22:17:04.986921Z",
     "iopub.status.idle": "2025-06-21T22:17:05.017295Z",
     "shell.execute_reply": "2025-06-21T22:17:05.016263Z"
    },
    "papermill": {
     "duration": 0.035738,
     "end_time": "2025-06-21T22:17:05.018968",
     "exception": false,
     "start_time": "2025-06-21T22:17:04.983230",
     "status": "completed"
    },
    "tags": []
   },
   "outputs": [
    {
     "name": "stdout",
     "output_type": "stream",
     "text": [
      "                                               image  \\\n",
      "0  https://static01.nyt.com/images/2025/06/17/mul...   \n",
      "1  https://npr.brightspotcdn.com/dims3/default/st...   \n",
      "2  https://static.toiimg.com/thumb/msid-121947693...   \n",
      "3  https://www.sciencealert.com/images/2025/06/dr...   \n",
      "4  https://scx2.b-cdn.net/gfx/news/hires/2025/whe...   \n",
      "\n",
      "                                               title              source  \\\n",
      "0  At Chile’s Vera Rubin Observatory, Earth’s Lar...  The New York Times   \n",
      "1  Israel vows to intensify attacks after Iranian...                 NPR   \n",
      "2  Who is Karen Read? Boston woman acquitted of m...      Times of India   \n",
      "3  1930s 'Dragon Man' Finally Gives Elusive Ancie...        ScienceAlert   \n",
      "4  When Earth iced over, early life may have shel...            Phys.org   \n",
      "\n",
      "                             sourceUrl               publishedAt  \\\n",
      "0              https://www.nytimes.com  2025-06-19T14:53:48.000Z   \n",
      "1                  https://www.npr.org  2025-06-19T10:32:02.000Z   \n",
      "2  https://timesofindia.indiatimes.com  2025-06-19T07:06:00.000Z   \n",
      "3         https://www.sciencealert.com  2025-06-19T13:01:21.000Z   \n",
      "4                     https://phys.org  2025-06-19T09:00:07.000Z   \n",
      "\n",
      "                                                link  \n",
      "0  https://www.nytimes.com/interactive/2025/06/19...  \n",
      "1  https://www.npr.org/2025/06/19/nx-s1-5439075/i...  \n",
      "2  https://timesofindia.indiatimes.com/world/us/w...  \n",
      "3  https://www.sciencealert.com/1930s-dragon-man-...  \n",
      "4  https://phys.org/news/2025-06-earth-iced-early...  \n"
     ]
    }
   ],
   "source": [
    "data = pd.read_csv('/kaggle/input/latest-world-news-2025/News_2025.csv')\n",
    "print(data.head(5))"
   ]
  },
  {
   "cell_type": "code",
   "execution_count": 4,
   "id": "a5231069",
   "metadata": {
    "execution": {
     "iopub.execute_input": "2025-06-21T22:17:05.026708Z",
     "iopub.status.busy": "2025-06-21T22:17:05.026313Z",
     "iopub.status.idle": "2025-06-21T22:17:05.034586Z",
     "shell.execute_reply": "2025-06-21T22:17:05.033776Z"
    },
    "papermill": {
     "duration": 0.014094,
     "end_time": "2025-06-21T22:17:05.036199",
     "exception": false,
     "start_time": "2025-06-21T22:17:05.022105",
     "status": "completed"
    },
    "tags": []
   },
   "outputs": [
    {
     "data": {
      "text/plain": [
       "Index(['image', 'title', 'source', 'sourceUrl', 'publishedAt', 'link'], dtype='object')"
      ]
     },
     "execution_count": 4,
     "metadata": {},
     "output_type": "execute_result"
    }
   ],
   "source": [
    "data.columns"
   ]
  },
  {
   "cell_type": "code",
   "execution_count": 5,
   "id": "85423cff",
   "metadata": {
    "execution": {
     "iopub.execute_input": "2025-06-21T22:17:05.043861Z",
     "iopub.status.busy": "2025-06-21T22:17:05.043111Z",
     "iopub.status.idle": "2025-06-21T22:17:07.009833Z",
     "shell.execute_reply": "2025-06-21T22:17:07.008902Z"
    },
    "papermill": {
     "duration": 1.972206,
     "end_time": "2025-06-21T22:17:07.011525",
     "exception": false,
     "start_time": "2025-06-21T22:17:05.039319",
     "status": "completed"
    },
    "tags": []
   },
   "outputs": [
    {
     "data": {
      "text/html": [
       "<html>\n",
       "<head><meta charset=\"utf-8\" /></head>\n",
       "<body>\n",
       "    <div>            <script src=\"https://cdnjs.cloudflare.com/ajax/libs/mathjax/2.7.5/MathJax.js?config=TeX-AMS-MML_SVG\"></script><script type=\"text/javascript\">if (window.MathJax && window.MathJax.Hub && window.MathJax.Hub.Config) {window.MathJax.Hub.Config({SVG: {font: \"STIX-Web\"}});}</script>                <script type=\"text/javascript\">window.PlotlyConfig = {MathJaxConfig: 'local'};</script>\n",
       "        <script charset=\"utf-8\" src=\"https://cdn.plot.ly/plotly-2.35.2.min.js\"></script>                <div id=\"b30294c1-94f6-4b18-aac1-80e779f03ed8\" class=\"plotly-graph-div\" style=\"height:525px; width:100%;\"></div>            <script type=\"text/javascript\">                                    window.PLOTLYENV=window.PLOTLYENV || {};                                    if (document.getElementById(\"b30294c1-94f6-4b18-aac1-80e779f03ed8\")) {                    Plotly.newPlot(                        \"b30294c1-94f6-4b18-aac1-80e779f03ed8\",                        [{\"alignmentgroup\":\"True\",\"hovertemplate\":\"x=%{x}\\u003cbr\\u003ey=%{y}\\u003cextra\\u003e\\u003c\\u002fextra\\u003e\",\"legendgroup\":\"\",\"marker\":{\"color\":\"#636efa\",\"pattern\":{\"shape\":\"\"}},\"name\":\"\",\"offsetgroup\":\"\",\"orientation\":\"v\",\"showlegend\":false,\"textposition\":\"auto\",\"x\":[\"The Daily Galaxy\",\"The New York Times\",\"Space\",\"BBC\",\"Forbes\",\"ScienceAlert\",\"NPR\",\"Yahoo\",\"ABC News - Breaking News, Latest News and Videos\",\"Politico\",\"Reuters\",\"Earth.com\",\"Eurogamer\",\"Indian Defence Review\",\"CNN\",\"Axios\",\"Barron's\",\"9to5Google\",\"Phys.org\",\"Video Games Chronicle\",\"Los Angeles Times\",\"MacRumors\",\"The Jerusalem Post\",\"Nintendo Everything\",\"AP News\",\"TrueAchievements\",\"SciTechDaily\",\"IFLScience\",\"Kotaku\",\"TechCrunch\",\"Tom's Guide\",\"Live Science\",\"The Guardian\",\"CNBC\",\"NBC News\",\"NASA (.gov)\",\"SpaceNews\",\"Big Think\",\"Rude Baguette\",\"Nintendo Life\",\"The Economist\",\"NASA Science (.gov)\",\"Hindustan Times\",\"RPG Site\",\"EatingWell\",\"Wccftech\",\"The Conversation\",\"Common Dreams\",\"Center For Politics\",\"Pure Xbox\",\"Gizmodo\",\"CNET\",\"Farmingdale Observer\",\"Rocket League\",\"Al Arabiya English\",\"RockstarINTEL\",\"Phoronix\",\"Windows Central\",\"Android Authority\",\"ComicBook.com\",\"Times of India\",\"Cageside Seats\",\"Boy Genius Report\",\"Game Informer\",\"Inverse\",\"The Transmitter\",\"WHYY\",\"Android Central\",\"Al Jazeera\",\"Newser\",\"politico.eu\",\"NASA Watch\",\"BBC Wildlife Magazine\",\"Sammy Fans\",\"KOAT\",\"PhoneArena\",\"WSTM\",\"9to5Mac\",\"Syracuse.com\",\"France 24\",\"The Salt Lake Tribune\",\"Stewartville Star\",\"The Times of Israel\",\"USA Today\",\"Haaretz\",\"Android Police\",\"CBS News\",\"Dexerto\",\"SamMobile\",\"The Washington Post\",\"The Detroit News\",\"The Independent\",\"STAT\",\"Engadget\",\"Daily Mail\",\"The Dodo - For Animal People\",\"GSMArena.com\",\"Lifehacker\"],\"xaxis\":\"x\",\"y\":[13,11,8,7,5,5,5,5,5,4,4,4,3,3,3,3,3,3,3,3,2,2,2,2,2,2,2,2,2,2,2,2,2,2,2,2,2,1,1,1,1,1,1,1,1,1,1,1,1,1,1,1,1,1,1,1,1,1,1,1,1,1,1,1,1,1,1,1,1,1,1,1,1,1,1,1,1,1,1,1,1,1,1,1,1,1,1,1,1,1,1,1,1,1,1,1,1,1],\"yaxis\":\"y\",\"type\":\"bar\"}],                        {\"template\":{\"data\":{\"histogram2dcontour\":[{\"type\":\"histogram2dcontour\",\"colorbar\":{\"outlinewidth\":0,\"ticks\":\"\"},\"colorscale\":[[0.0,\"#0d0887\"],[0.1111111111111111,\"#46039f\"],[0.2222222222222222,\"#7201a8\"],[0.3333333333333333,\"#9c179e\"],[0.4444444444444444,\"#bd3786\"],[0.5555555555555556,\"#d8576b\"],[0.6666666666666666,\"#ed7953\"],[0.7777777777777778,\"#fb9f3a\"],[0.8888888888888888,\"#fdca26\"],[1.0,\"#f0f921\"]]}],\"choropleth\":[{\"type\":\"choropleth\",\"colorbar\":{\"outlinewidth\":0,\"ticks\":\"\"}}],\"histogram2d\":[{\"type\":\"histogram2d\",\"colorbar\":{\"outlinewidth\":0,\"ticks\":\"\"},\"colorscale\":[[0.0,\"#0d0887\"],[0.1111111111111111,\"#46039f\"],[0.2222222222222222,\"#7201a8\"],[0.3333333333333333,\"#9c179e\"],[0.4444444444444444,\"#bd3786\"],[0.5555555555555556,\"#d8576b\"],[0.6666666666666666,\"#ed7953\"],[0.7777777777777778,\"#fb9f3a\"],[0.8888888888888888,\"#fdca26\"],[1.0,\"#f0f921\"]]}],\"heatmap\":[{\"type\":\"heatmap\",\"colorbar\":{\"outlinewidth\":0,\"ticks\":\"\"},\"colorscale\":[[0.0,\"#0d0887\"],[0.1111111111111111,\"#46039f\"],[0.2222222222222222,\"#7201a8\"],[0.3333333333333333,\"#9c179e\"],[0.4444444444444444,\"#bd3786\"],[0.5555555555555556,\"#d8576b\"],[0.6666666666666666,\"#ed7953\"],[0.7777777777777778,\"#fb9f3a\"],[0.8888888888888888,\"#fdca26\"],[1.0,\"#f0f921\"]]}],\"heatmapgl\":[{\"type\":\"heatmapgl\",\"colorbar\":{\"outlinewidth\":0,\"ticks\":\"\"},\"colorscale\":[[0.0,\"#0d0887\"],[0.1111111111111111,\"#46039f\"],[0.2222222222222222,\"#7201a8\"],[0.3333333333333333,\"#9c179e\"],[0.4444444444444444,\"#bd3786\"],[0.5555555555555556,\"#d8576b\"],[0.6666666666666666,\"#ed7953\"],[0.7777777777777778,\"#fb9f3a\"],[0.8888888888888888,\"#fdca26\"],[1.0,\"#f0f921\"]]}],\"contourcarpet\":[{\"type\":\"contourcarpet\",\"colorbar\":{\"outlinewidth\":0,\"ticks\":\"\"}}],\"contour\":[{\"type\":\"contour\",\"colorbar\":{\"outlinewidth\":0,\"ticks\":\"\"},\"colorscale\":[[0.0,\"#0d0887\"],[0.1111111111111111,\"#46039f\"],[0.2222222222222222,\"#7201a8\"],[0.3333333333333333,\"#9c179e\"],[0.4444444444444444,\"#bd3786\"],[0.5555555555555556,\"#d8576b\"],[0.6666666666666666,\"#ed7953\"],[0.7777777777777778,\"#fb9f3a\"],[0.8888888888888888,\"#fdca26\"],[1.0,\"#f0f921\"]]}],\"surface\":[{\"type\":\"surface\",\"colorbar\":{\"outlinewidth\":0,\"ticks\":\"\"},\"colorscale\":[[0.0,\"#0d0887\"],[0.1111111111111111,\"#46039f\"],[0.2222222222222222,\"#7201a8\"],[0.3333333333333333,\"#9c179e\"],[0.4444444444444444,\"#bd3786\"],[0.5555555555555556,\"#d8576b\"],[0.6666666666666666,\"#ed7953\"],[0.7777777777777778,\"#fb9f3a\"],[0.8888888888888888,\"#fdca26\"],[1.0,\"#f0f921\"]]}],\"mesh3d\":[{\"type\":\"mesh3d\",\"colorbar\":{\"outlinewidth\":0,\"ticks\":\"\"}}],\"scatter\":[{\"fillpattern\":{\"fillmode\":\"overlay\",\"size\":10,\"solidity\":0.2},\"type\":\"scatter\"}],\"parcoords\":[{\"type\":\"parcoords\",\"line\":{\"colorbar\":{\"outlinewidth\":0,\"ticks\":\"\"}}}],\"scatterpolargl\":[{\"type\":\"scatterpolargl\",\"marker\":{\"colorbar\":{\"outlinewidth\":0,\"ticks\":\"\"}}}],\"bar\":[{\"error_x\":{\"color\":\"#2a3f5f\"},\"error_y\":{\"color\":\"#2a3f5f\"},\"marker\":{\"line\":{\"color\":\"#E5ECF6\",\"width\":0.5},\"pattern\":{\"fillmode\":\"overlay\",\"size\":10,\"solidity\":0.2}},\"type\":\"bar\"}],\"scattergeo\":[{\"type\":\"scattergeo\",\"marker\":{\"colorbar\":{\"outlinewidth\":0,\"ticks\":\"\"}}}],\"scatterpolar\":[{\"type\":\"scatterpolar\",\"marker\":{\"colorbar\":{\"outlinewidth\":0,\"ticks\":\"\"}}}],\"histogram\":[{\"marker\":{\"pattern\":{\"fillmode\":\"overlay\",\"size\":10,\"solidity\":0.2}},\"type\":\"histogram\"}],\"scattergl\":[{\"type\":\"scattergl\",\"marker\":{\"colorbar\":{\"outlinewidth\":0,\"ticks\":\"\"}}}],\"scatter3d\":[{\"type\":\"scatter3d\",\"line\":{\"colorbar\":{\"outlinewidth\":0,\"ticks\":\"\"}},\"marker\":{\"colorbar\":{\"outlinewidth\":0,\"ticks\":\"\"}}}],\"scattermapbox\":[{\"type\":\"scattermapbox\",\"marker\":{\"colorbar\":{\"outlinewidth\":0,\"ticks\":\"\"}}}],\"scatterternary\":[{\"type\":\"scatterternary\",\"marker\":{\"colorbar\":{\"outlinewidth\":0,\"ticks\":\"\"}}}],\"scattercarpet\":[{\"type\":\"scattercarpet\",\"marker\":{\"colorbar\":{\"outlinewidth\":0,\"ticks\":\"\"}}}],\"carpet\":[{\"aaxis\":{\"endlinecolor\":\"#2a3f5f\",\"gridcolor\":\"white\",\"linecolor\":\"white\",\"minorgridcolor\":\"white\",\"startlinecolor\":\"#2a3f5f\"},\"baxis\":{\"endlinecolor\":\"#2a3f5f\",\"gridcolor\":\"white\",\"linecolor\":\"white\",\"minorgridcolor\":\"white\",\"startlinecolor\":\"#2a3f5f\"},\"type\":\"carpet\"}],\"table\":[{\"cells\":{\"fill\":{\"color\":\"#EBF0F8\"},\"line\":{\"color\":\"white\"}},\"header\":{\"fill\":{\"color\":\"#C8D4E3\"},\"line\":{\"color\":\"white\"}},\"type\":\"table\"}],\"barpolar\":[{\"marker\":{\"line\":{\"color\":\"#E5ECF6\",\"width\":0.5},\"pattern\":{\"fillmode\":\"overlay\",\"size\":10,\"solidity\":0.2}},\"type\":\"barpolar\"}],\"pie\":[{\"automargin\":true,\"type\":\"pie\"}]},\"layout\":{\"autotypenumbers\":\"strict\",\"colorway\":[\"#636efa\",\"#EF553B\",\"#00cc96\",\"#ab63fa\",\"#FFA15A\",\"#19d3f3\",\"#FF6692\",\"#B6E880\",\"#FF97FF\",\"#FECB52\"],\"font\":{\"color\":\"#2a3f5f\"},\"hovermode\":\"closest\",\"hoverlabel\":{\"align\":\"left\"},\"paper_bgcolor\":\"white\",\"plot_bgcolor\":\"#E5ECF6\",\"polar\":{\"bgcolor\":\"#E5ECF6\",\"angularaxis\":{\"gridcolor\":\"white\",\"linecolor\":\"white\",\"ticks\":\"\"},\"radialaxis\":{\"gridcolor\":\"white\",\"linecolor\":\"white\",\"ticks\":\"\"}},\"ternary\":{\"bgcolor\":\"#E5ECF6\",\"aaxis\":{\"gridcolor\":\"white\",\"linecolor\":\"white\",\"ticks\":\"\"},\"baxis\":{\"gridcolor\":\"white\",\"linecolor\":\"white\",\"ticks\":\"\"},\"caxis\":{\"gridcolor\":\"white\",\"linecolor\":\"white\",\"ticks\":\"\"}},\"coloraxis\":{\"colorbar\":{\"outlinewidth\":0,\"ticks\":\"\"}},\"colorscale\":{\"sequential\":[[0.0,\"#0d0887\"],[0.1111111111111111,\"#46039f\"],[0.2222222222222222,\"#7201a8\"],[0.3333333333333333,\"#9c179e\"],[0.4444444444444444,\"#bd3786\"],[0.5555555555555556,\"#d8576b\"],[0.6666666666666666,\"#ed7953\"],[0.7777777777777778,\"#fb9f3a\"],[0.8888888888888888,\"#fdca26\"],[1.0,\"#f0f921\"]],\"sequentialminus\":[[0.0,\"#0d0887\"],[0.1111111111111111,\"#46039f\"],[0.2222222222222222,\"#7201a8\"],[0.3333333333333333,\"#9c179e\"],[0.4444444444444444,\"#bd3786\"],[0.5555555555555556,\"#d8576b\"],[0.6666666666666666,\"#ed7953\"],[0.7777777777777778,\"#fb9f3a\"],[0.8888888888888888,\"#fdca26\"],[1.0,\"#f0f921\"]],\"diverging\":[[0,\"#8e0152\"],[0.1,\"#c51b7d\"],[0.2,\"#de77ae\"],[0.3,\"#f1b6da\"],[0.4,\"#fde0ef\"],[0.5,\"#f7f7f7\"],[0.6,\"#e6f5d0\"],[0.7,\"#b8e186\"],[0.8,\"#7fbc41\"],[0.9,\"#4d9221\"],[1,\"#276419\"]]},\"xaxis\":{\"gridcolor\":\"white\",\"linecolor\":\"white\",\"ticks\":\"\",\"title\":{\"standoff\":15},\"zerolinecolor\":\"white\",\"automargin\":true,\"zerolinewidth\":2},\"yaxis\":{\"gridcolor\":\"white\",\"linecolor\":\"white\",\"ticks\":\"\",\"title\":{\"standoff\":15},\"zerolinecolor\":\"white\",\"automargin\":true,\"zerolinewidth\":2},\"scene\":{\"xaxis\":{\"backgroundcolor\":\"#E5ECF6\",\"gridcolor\":\"white\",\"linecolor\":\"white\",\"showbackground\":true,\"ticks\":\"\",\"zerolinecolor\":\"white\",\"gridwidth\":2},\"yaxis\":{\"backgroundcolor\":\"#E5ECF6\",\"gridcolor\":\"white\",\"linecolor\":\"white\",\"showbackground\":true,\"ticks\":\"\",\"zerolinecolor\":\"white\",\"gridwidth\":2},\"zaxis\":{\"backgroundcolor\":\"#E5ECF6\",\"gridcolor\":\"white\",\"linecolor\":\"white\",\"showbackground\":true,\"ticks\":\"\",\"zerolinecolor\":\"white\",\"gridwidth\":2}},\"shapedefaults\":{\"line\":{\"color\":\"#2a3f5f\"}},\"annotationdefaults\":{\"arrowcolor\":\"#2a3f5f\",\"arrowhead\":0,\"arrowwidth\":1},\"geo\":{\"bgcolor\":\"white\",\"landcolor\":\"#E5ECF6\",\"subunitcolor\":\"white\",\"showland\":true,\"showlakes\":true,\"lakecolor\":\"white\"},\"title\":{\"x\":0.05},\"mapbox\":{\"style\":\"light\"}}},\"xaxis\":{\"anchor\":\"y\",\"domain\":[0.0,1.0],\"title\":{\"text\":\"x\"}},\"yaxis\":{\"anchor\":\"x\",\"domain\":[0.0,1.0],\"title\":{\"text\":\"y\"}},\"legend\":{\"tracegroupgap\":0},\"title\":{\"text\":\"sources of the news\"},\"barmode\":\"relative\"},                        {\"responsive\": true}                    ).then(function(){\n",
       "                            \n",
       "var gd = document.getElementById('b30294c1-94f6-4b18-aac1-80e779f03ed8');\n",
       "var x = new MutationObserver(function (mutations, observer) {{\n",
       "        var display = window.getComputedStyle(gd).display;\n",
       "        if (!display || display === 'none') {{\n",
       "            console.log([gd, 'removed!']);\n",
       "            Plotly.purge(gd);\n",
       "            observer.disconnect();\n",
       "        }}\n",
       "}});\n",
       "\n",
       "// Listen for the removal of the full notebook cells\n",
       "var notebookContainer = gd.closest('#notebook-container');\n",
       "if (notebookContainer) {{\n",
       "    x.observe(notebookContainer, {childList: true});\n",
       "}}\n",
       "\n",
       "// Listen for the clearing of the current output cell\n",
       "var outputEl = gd.closest('.output');\n",
       "if (outputEl) {{\n",
       "    x.observe(outputEl, {childList: true});\n",
       "}}\n",
       "\n",
       "                        })                };                            </script>        </div>\n",
       "</body>\n",
       "</html>"
      ]
     },
     "metadata": {},
     "output_type": "display_data"
    }
   ],
   "source": [
    "# Look at the sources\n",
    "categories = data[\"source\"].value_counts()\n",
    "label = categories.index\n",
    "counts = categories.values\n",
    "figure = px.bar(data, x=label, \n",
    "                y = counts, \n",
    "            title=\"sources of the news\")\n",
    "figure.show()"
   ]
  },
  {
   "cell_type": "markdown",
   "id": "b2e2bfc5",
   "metadata": {
    "papermill": {
     "duration": 0.002909,
     "end_time": "2025-06-21T22:17:07.017941",
     "exception": false,
     "start_time": "2025-06-21T22:17:07.015032",
     "status": "completed"
    },
    "tags": []
   },
   "source": [
    "The Daily Galaxy stands out as the most prominent source, contributing the highest number of news articles.\n",
    "Other notable contributors include Space.com, Phys.org, and Reuters, each providing a moderate number of articles.\n",
    "A long tail of sources contributes a relatively smaller number of articles, which indicates a diverse and dispersed set of news providers.\n",
    "Several well-known global outlets such as ABC News, The Guardian, and NBC News are also present, though their contribution in this dataset is limited compared to The Daily Galaxy.\n",
    "The dataset seems to have a skewed distribution, where a few sources dominate the content volume.\n",
    "The presence of many niche or scientific sources (like Phys.org and Space.com) suggests that the dataset might have a focus on science or technology-related topics.\n",
    "\n"
   ]
  },
  {
   "cell_type": "code",
   "execution_count": 6,
   "id": "9ca9fe27",
   "metadata": {
    "execution": {
     "iopub.execute_input": "2025-06-21T22:17:07.025622Z",
     "iopub.status.busy": "2025-06-21T22:17:07.025034Z",
     "iopub.status.idle": "2025-06-21T22:17:07.030301Z",
     "shell.execute_reply": "2025-06-21T22:17:07.029097Z"
    },
    "papermill": {
     "duration": 0.011048,
     "end_time": "2025-06-21T22:17:07.032148",
     "exception": false,
     "start_time": "2025-06-21T22:17:07.021100",
     "status": "completed"
    },
    "tags": []
   },
   "outputs": [
    {
     "name": "stdout",
     "output_type": "stream",
     "text": [
      "['BaseEstimator', 'CountVectorizer', 'ENGLISH_STOP_WORDS', 'FLOAT_DTYPES', 'FeatureHasher', 'HasMethods', 'HashingVectorizer', 'Integral', 'Interval', 'Mapping', 'NotFittedError', 'OneToOneFeatureMixin', 'Real', 'StrOptions', 'TfidfTransformer', 'TfidfVectorizer', 'TransformerMixin', '_IS_32BIT', '_VectorizerMixin', '__all__', '__builtins__', '__cached__', '__doc__', '__file__', '__loader__', '__name__', '__package__', '__spec__', '_analyze', '_check_stop_list', '_document_frequency', '_make_int_array', '_preprocess', 'array', 'check_array', 'check_is_fitted', 'defaultdict', 'itemgetter', 'normalize', 'np', 'partial', 're', 'sp', 'strip_accents_ascii', 'strip_accents_unicode', 'strip_tags', 'unicodedata', 'warnings']\n"
     ]
    }
   ],
   "source": [
    "import sklearn.feature_extraction.text\n",
    "print(dir(sklearn.feature_extraction.text))\n"
   ]
  },
  {
   "cell_type": "code",
   "execution_count": 7,
   "id": "2489d722",
   "metadata": {
    "execution": {
     "iopub.execute_input": "2025-06-21T22:17:07.040128Z",
     "iopub.status.busy": "2025-06-21T22:17:07.039843Z",
     "iopub.status.idle": "2025-06-21T22:17:07.065927Z",
     "shell.execute_reply": "2025-06-21T22:17:07.064984Z"
    },
    "papermill": {
     "duration": 0.031904,
     "end_time": "2025-06-21T22:17:07.067585",
     "exception": false,
     "start_time": "2025-06-21T22:17:07.035681",
     "status": "completed"
    },
    "tags": []
   },
   "outputs": [],
   "source": [
    "from sklearn.feature_extraction.text import TfidfVectorizer\n",
    "from sklearn.metrics.pairwise import cosine_similarity\n",
    "\n",
    "# Get the list of titles\n",
    "feature = data['title'].tolist()\n",
    "\n",
    "# Create the vectorizer\n",
    "tfidf = TfidfVectorizer(stop_words='english')\n",
    "\n",
    "# Fit and transform the data\n",
    "tfidf_matrix = tfidf.fit_transform(feature)\n",
    "\n",
    "# Compute cosine similarity\n",
    "similarity = cosine_similarity(tfidf_matrix)\n"
   ]
  },
  {
   "cell_type": "code",
   "execution_count": 8,
   "id": "f810699d",
   "metadata": {
    "execution": {
     "iopub.execute_input": "2025-06-21T22:17:07.075724Z",
     "iopub.status.busy": "2025-06-21T22:17:07.075301Z",
     "iopub.status.idle": "2025-06-21T22:17:07.081199Z",
     "shell.execute_reply": "2025-06-21T22:17:07.080049Z"
    },
    "papermill": {
     "duration": 0.011951,
     "end_time": "2025-06-21T22:17:07.083039",
     "exception": false,
     "start_time": "2025-06-21T22:17:07.071088",
     "status": "completed"
    },
    "tags": []
   },
   "outputs": [],
   "source": [
    "indices = pd.Series(data.index, index=data['title']).drop_duplicates()"
   ]
  },
  {
   "cell_type": "code",
   "execution_count": 9,
   "id": "7d5379a4",
   "metadata": {
    "execution": {
     "iopub.execute_input": "2025-06-21T22:17:07.091200Z",
     "iopub.status.busy": "2025-06-21T22:17:07.090902Z",
     "iopub.status.idle": "2025-06-21T22:17:07.097582Z",
     "shell.execute_reply": "2025-06-21T22:17:07.096627Z"
    },
    "papermill": {
     "duration": 0.012442,
     "end_time": "2025-06-21T22:17:07.099077",
     "exception": false,
     "start_time": "2025-06-21T22:17:07.086635",
     "status": "completed"
    },
    "tags": []
   },
   "outputs": [
    {
     "name": "stdout",
     "output_type": "stream",
     "text": [
      "<function news_topic at 0x7d445bc50720>\n"
     ]
    }
   ],
   "source": [
    "def news_topic(title, similarity = similarity):\n",
    "    index = indices[title]\n",
    "    similarity_scores = list(enumerate(similarity[index]))\n",
    "    similarity_scores = sorted(similarity_scores, \n",
    "    key=lambda x: x[1], reverse=True)\n",
    "    similarity_scores = similarity_scores[0:10]\n",
    "    newsindices = [i[0] for i in similarity_scores]\n",
    "    return data['title'].iloc[newsindices]\n",
    "\n",
    "print(news_topic)"
   ]
  }
 ],
 "metadata": {
  "kaggle": {
   "accelerator": "none",
   "dataSources": [
    {
     "datasetId": 7699247,
     "sourceId": 12220654,
     "sourceType": "datasetVersion"
    }
   ],
   "dockerImageVersionId": 31040,
   "isGpuEnabled": false,
   "isInternetEnabled": true,
   "language": "python",
   "sourceType": "notebook"
  },
  "kernelspec": {
   "display_name": "Python 3",
   "language": "python",
   "name": "python3"
  },
  "language_info": {
   "codemirror_mode": {
    "name": "ipython",
    "version": 3
   },
   "file_extension": ".py",
   "mimetype": "text/x-python",
   "name": "python",
   "nbconvert_exporter": "python",
   "pygments_lexer": "ipython3",
   "version": "3.11.11"
  },
  "papermill": {
   "default_parameters": {},
   "duration": 13.232782,
   "end_time": "2025-06-21T22:17:07.822014",
   "environment_variables": {},
   "exception": null,
   "input_path": "__notebook__.ipynb",
   "output_path": "__notebook__.ipynb",
   "parameters": {},
   "start_time": "2025-06-21T22:16:54.589232",
   "version": "2.6.0"
  }
 },
 "nbformat": 4,
 "nbformat_minor": 5
}
