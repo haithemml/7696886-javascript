{
 "cells": [
  {
   "cell_type": "code",
   "execution_count": 1,
   "id": "2c79dc81",
   "metadata": {
    "_cell_guid": "b1076dfc-b9ad-4769-8c92-a6c4dae69d19",
    "_uuid": "8f2839f25d086af736a60e9eeb907d3b93b6e0e5",
    "execution": {
     "iopub.execute_input": "2025-07-15T13:07:11.359816Z",
     "iopub.status.busy": "2025-07-15T13:07:11.359431Z",
     "iopub.status.idle": "2025-07-15T13:07:13.228919Z",
     "shell.execute_reply": "2025-07-15T13:07:13.227637Z"
    },
    "papermill": {
     "duration": 1.876758,
     "end_time": "2025-07-15T13:07:13.230709",
     "exception": false,
     "start_time": "2025-07-15T13:07:11.353951",
     "status": "completed"
    },
    "tags": []
   },
   "outputs": [
    {
     "name": "stdout",
     "output_type": "stream",
     "text": [
      "/kaggle/input/cardiac-arrest-dataset/cardiac arrest dataset.csv\n"
     ]
    }
   ],
   "source": [
    "# This Python 3 environment comes with many helpful analytics libraries installed\n",
    "# It is defined by the kaggle/python Docker image: https://github.com/kaggle/docker-python\n",
    "# For example, here's several helpful packages to load\n",
    "\n",
    "import numpy as np # linear algebra\n",
    "import pandas as pd # data processing, CSV file I/O (e.g. pd.read_csv)\n",
    "\n",
    "# Input data files are available in the read-only \"../input/\" directory\n",
    "# For example, running this (by clicking run or pressing Shift+Enter) will list all files under the input directory\n",
    "\n",
    "import os\n",
    "for dirname, _, filenames in os.walk('/kaggle/input'):\n",
    "    for filename in filenames:\n",
    "        print(os.path.join(dirname, filename))\n",
    "\n",
    "# You can write up to 20GB to the current directory (/kaggle/working/) that gets preserved as output when you create a version using \"Save & Run All\" \n",
    "# You can also write temporary files to /kaggle/temp/, but they won't be saved outside of the current session"
   ]
  },
  {
   "cell_type": "code",
   "execution_count": 2,
   "id": "4b4e6e0b",
   "metadata": {
    "execution": {
     "iopub.execute_input": "2025-07-15T13:07:13.239242Z",
     "iopub.status.busy": "2025-07-15T13:07:13.238429Z",
     "iopub.status.idle": "2025-07-15T13:07:13.281940Z",
     "shell.execute_reply": "2025-07-15T13:07:13.281019Z"
    },
    "papermill": {
     "duration": 0.049202,
     "end_time": "2025-07-15T13:07:13.283614",
     "exception": false,
     "start_time": "2025-07-15T13:07:13.234412",
     "status": "completed"
    },
    "tags": []
   },
   "outputs": [
    {
     "data": {
      "text/html": [
       "<div>\n",
       "<style scoped>\n",
       "    .dataframe tbody tr th:only-of-type {\n",
       "        vertical-align: middle;\n",
       "    }\n",
       "\n",
       "    .dataframe tbody tr th {\n",
       "        vertical-align: top;\n",
       "    }\n",
       "\n",
       "    .dataframe thead th {\n",
       "        text-align: right;\n",
       "    }\n",
       "</style>\n",
       "<table border=\"1\" class=\"dataframe\">\n",
       "  <thead>\n",
       "    <tr style=\"text-align: right;\">\n",
       "      <th></th>\n",
       "      <th>age</th>\n",
       "      <th>sex</th>\n",
       "      <th>cp</th>\n",
       "      <th>trestbps</th>\n",
       "      <th>chol</th>\n",
       "      <th>fbs</th>\n",
       "      <th>restecg</th>\n",
       "      <th>thalach</th>\n",
       "      <th>exang</th>\n",
       "      <th>oldpeak</th>\n",
       "      <th>slope</th>\n",
       "      <th>ca</th>\n",
       "      <th>thal</th>\n",
       "      <th>target</th>\n",
       "    </tr>\n",
       "  </thead>\n",
       "  <tbody>\n",
       "    <tr>\n",
       "      <th>0</th>\n",
       "      <td>52</td>\n",
       "      <td>1</td>\n",
       "      <td>0</td>\n",
       "      <td>125</td>\n",
       "      <td>212</td>\n",
       "      <td>0</td>\n",
       "      <td>1</td>\n",
       "      <td>168</td>\n",
       "      <td>0</td>\n",
       "      <td>1.0</td>\n",
       "      <td>2</td>\n",
       "      <td>2</td>\n",
       "      <td>3</td>\n",
       "      <td>0</td>\n",
       "    </tr>\n",
       "    <tr>\n",
       "      <th>1</th>\n",
       "      <td>53</td>\n",
       "      <td>1</td>\n",
       "      <td>0</td>\n",
       "      <td>140</td>\n",
       "      <td>203</td>\n",
       "      <td>1</td>\n",
       "      <td>0</td>\n",
       "      <td>155</td>\n",
       "      <td>1</td>\n",
       "      <td>3.1</td>\n",
       "      <td>0</td>\n",
       "      <td>0</td>\n",
       "      <td>3</td>\n",
       "      <td>0</td>\n",
       "    </tr>\n",
       "    <tr>\n",
       "      <th>2</th>\n",
       "      <td>70</td>\n",
       "      <td>1</td>\n",
       "      <td>0</td>\n",
       "      <td>145</td>\n",
       "      <td>174</td>\n",
       "      <td>0</td>\n",
       "      <td>1</td>\n",
       "      <td>125</td>\n",
       "      <td>1</td>\n",
       "      <td>2.6</td>\n",
       "      <td>0</td>\n",
       "      <td>0</td>\n",
       "      <td>3</td>\n",
       "      <td>0</td>\n",
       "    </tr>\n",
       "    <tr>\n",
       "      <th>3</th>\n",
       "      <td>61</td>\n",
       "      <td>1</td>\n",
       "      <td>0</td>\n",
       "      <td>148</td>\n",
       "      <td>203</td>\n",
       "      <td>0</td>\n",
       "      <td>1</td>\n",
       "      <td>161</td>\n",
       "      <td>0</td>\n",
       "      <td>0.0</td>\n",
       "      <td>2</td>\n",
       "      <td>1</td>\n",
       "      <td>3</td>\n",
       "      <td>0</td>\n",
       "    </tr>\n",
       "    <tr>\n",
       "      <th>4</th>\n",
       "      <td>62</td>\n",
       "      <td>0</td>\n",
       "      <td>0</td>\n",
       "      <td>138</td>\n",
       "      <td>294</td>\n",
       "      <td>1</td>\n",
       "      <td>1</td>\n",
       "      <td>106</td>\n",
       "      <td>0</td>\n",
       "      <td>1.9</td>\n",
       "      <td>1</td>\n",
       "      <td>3</td>\n",
       "      <td>2</td>\n",
       "      <td>0</td>\n",
       "    </tr>\n",
       "  </tbody>\n",
       "</table>\n",
       "</div>"
      ],
      "text/plain": [
       "   age  sex  cp  trestbps  chol  fbs  restecg  thalach  exang  oldpeak  slope  \\\n",
       "0   52    1   0       125   212    0        1      168      0      1.0      2   \n",
       "1   53    1   0       140   203    1        0      155      1      3.1      0   \n",
       "2   70    1   0       145   174    0        1      125      1      2.6      0   \n",
       "3   61    1   0       148   203    0        1      161      0      0.0      2   \n",
       "4   62    0   0       138   294    1        1      106      0      1.9      1   \n",
       "\n",
       "   ca  thal  target  \n",
       "0   2     3       0  \n",
       "1   0     3       0  \n",
       "2   0     3       0  \n",
       "3   1     3       0  \n",
       "4   3     2       0  "
      ]
     },
     "execution_count": 2,
     "metadata": {},
     "output_type": "execute_result"
    }
   ],
   "source": [
    "data = pd.read_csv('/kaggle/input/cardiac-arrest-dataset/cardiac arrest dataset.csv')\n",
    "data.head()"
   ]
  },
  {
   "cell_type": "code",
   "execution_count": 3,
   "id": "58248174",
   "metadata": {
    "execution": {
     "iopub.execute_input": "2025-07-15T13:07:13.291710Z",
     "iopub.status.busy": "2025-07-15T13:07:13.291382Z",
     "iopub.status.idle": "2025-07-15T13:07:13.300724Z",
     "shell.execute_reply": "2025-07-15T13:07:13.299855Z"
    },
    "papermill": {
     "duration": 0.015196,
     "end_time": "2025-07-15T13:07:13.302270",
     "exception": false,
     "start_time": "2025-07-15T13:07:13.287074",
     "status": "completed"
    },
    "tags": []
   },
   "outputs": [
    {
     "data": {
      "text/plain": [
       "age         0\n",
       "sex         0\n",
       "cp          0\n",
       "trestbps    0\n",
       "chol        0\n",
       "fbs         0\n",
       "restecg     0\n",
       "thalach     0\n",
       "exang       0\n",
       "oldpeak     0\n",
       "slope       0\n",
       "ca          0\n",
       "thal        0\n",
       "target      0\n",
       "dtype: int64"
      ]
     },
     "execution_count": 3,
     "metadata": {},
     "output_type": "execute_result"
    }
   ],
   "source": [
    "data.isnull().sum()"
   ]
  },
  {
   "cell_type": "code",
   "execution_count": 4,
   "id": "8ffeb364",
   "metadata": {
    "execution": {
     "iopub.execute_input": "2025-07-15T13:07:13.310407Z",
     "iopub.status.busy": "2025-07-15T13:07:13.310107Z",
     "iopub.status.idle": "2025-07-15T13:07:32.461107Z",
     "shell.execute_reply": "2025-07-15T13:07:32.459852Z"
    },
    "papermill": {
     "duration": 19.157661,
     "end_time": "2025-07-15T13:07:32.463456",
     "exception": false,
     "start_time": "2025-07-15T13:07:13.305795",
     "status": "completed"
    },
    "tags": []
   },
   "outputs": [
    {
     "name": "stderr",
     "output_type": "stream",
     "text": [
      "2025-07-15 13:07:15.533509: E external/local_xla/xla/stream_executor/cuda/cuda_fft.cc:477] Unable to register cuFFT factory: Attempting to register factory for plugin cuFFT when one has already been registered\n",
      "WARNING: All log messages before absl::InitializeLog() is called are written to STDERR\n",
      "E0000 00:00:1752584835.820963      13 cuda_dnn.cc:8310] Unable to register cuDNN factory: Attempting to register factory for plugin cuDNN when one has already been registered\n",
      "E0000 00:00:1752584835.900034      13 cuda_blas.cc:1418] Unable to register cuBLAS factory: Attempting to register factory for plugin cuBLAS when one has already been registered\n"
     ]
    }
   ],
   "source": [
    "import glob\n",
    "from keras.layers import Dense, Activation\n",
    "from keras.models import Sequential\n",
    "from sklearn.model_selection import train_test_split\n",
    "from sklearn.preprocessing import LabelEncoder, MinMaxScaler\n",
    "import matplotlib.pyplot as plt"
   ]
  },
  {
   "cell_type": "code",
   "execution_count": 5,
   "id": "b8936575",
   "metadata": {
    "execution": {
     "iopub.execute_input": "2025-07-15T13:07:32.477921Z",
     "iopub.status.busy": "2025-07-15T13:07:32.476391Z",
     "iopub.status.idle": "2025-07-15T13:07:32.486208Z",
     "shell.execute_reply": "2025-07-15T13:07:32.485064Z"
    },
    "papermill": {
     "duration": 0.018932,
     "end_time": "2025-07-15T13:07:32.488134",
     "exception": false,
     "start_time": "2025-07-15T13:07:32.469202",
     "status": "completed"
    },
    "tags": []
   },
   "outputs": [
    {
     "data": {
      "text/plain": [
       "Index(['age', 'sex', 'cp', 'trestbps', 'chol', 'fbs', 'restecg', 'thalach',\n",
       "       'exang', 'oldpeak', 'slope', 'ca', 'thal', 'target'],\n",
       "      dtype='object')"
      ]
     },
     "execution_count": 5,
     "metadata": {},
     "output_type": "execute_result"
    }
   ],
   "source": [
    "data.columns"
   ]
  },
  {
   "cell_type": "code",
   "execution_count": 6,
   "id": "24764de5",
   "metadata": {
    "execution": {
     "iopub.execute_input": "2025-07-15T13:07:32.501885Z",
     "iopub.status.busy": "2025-07-15T13:07:32.501479Z",
     "iopub.status.idle": "2025-07-15T13:07:32.517504Z",
     "shell.execute_reply": "2025-07-15T13:07:32.516635Z"
    },
    "papermill": {
     "duration": 0.025329,
     "end_time": "2025-07-15T13:07:32.519744",
     "exception": false,
     "start_time": "2025-07-15T13:07:32.494415",
     "status": "completed"
    },
    "tags": []
   },
   "outputs": [
    {
     "name": "stderr",
     "output_type": "stream",
     "text": [
      "/tmp/ipykernel_13/1675137737.py:2: DeprecationWarning: Converting `np.inexact` or `np.floating` to a dtype is deprecated. The current result is `float64` which is not strictly correct.\n",
      "  if data[column].dtype == np.number:\n",
      "/tmp/ipykernel_13/1675137737.py:2: DeprecationWarning: Converting `np.inexact` or `np.floating` to a dtype is deprecated. The current result is `float64` which is not strictly correct.\n",
      "  if data[column].dtype == np.number:\n",
      "/tmp/ipykernel_13/1675137737.py:2: DeprecationWarning: Converting `np.inexact` or `np.floating` to a dtype is deprecated. The current result is `float64` which is not strictly correct.\n",
      "  if data[column].dtype == np.number:\n",
      "/tmp/ipykernel_13/1675137737.py:2: DeprecationWarning: Converting `np.inexact` or `np.floating` to a dtype is deprecated. The current result is `float64` which is not strictly correct.\n",
      "  if data[column].dtype == np.number:\n",
      "/tmp/ipykernel_13/1675137737.py:2: DeprecationWarning: Converting `np.inexact` or `np.floating` to a dtype is deprecated. The current result is `float64` which is not strictly correct.\n",
      "  if data[column].dtype == np.number:\n",
      "/tmp/ipykernel_13/1675137737.py:2: DeprecationWarning: Converting `np.inexact` or `np.floating` to a dtype is deprecated. The current result is `float64` which is not strictly correct.\n",
      "  if data[column].dtype == np.number:\n",
      "/tmp/ipykernel_13/1675137737.py:2: DeprecationWarning: Converting `np.inexact` or `np.floating` to a dtype is deprecated. The current result is `float64` which is not strictly correct.\n",
      "  if data[column].dtype == np.number:\n",
      "/tmp/ipykernel_13/1675137737.py:2: DeprecationWarning: Converting `np.inexact` or `np.floating` to a dtype is deprecated. The current result is `float64` which is not strictly correct.\n",
      "  if data[column].dtype == np.number:\n",
      "/tmp/ipykernel_13/1675137737.py:2: DeprecationWarning: Converting `np.inexact` or `np.floating` to a dtype is deprecated. The current result is `float64` which is not strictly correct.\n",
      "  if data[column].dtype == np.number:\n",
      "/tmp/ipykernel_13/1675137737.py:2: DeprecationWarning: Converting `np.inexact` or `np.floating` to a dtype is deprecated. The current result is `float64` which is not strictly correct.\n",
      "  if data[column].dtype == np.number:\n",
      "/tmp/ipykernel_13/1675137737.py:2: DeprecationWarning: Converting `np.inexact` or `np.floating` to a dtype is deprecated. The current result is `float64` which is not strictly correct.\n",
      "  if data[column].dtype == np.number:\n",
      "/tmp/ipykernel_13/1675137737.py:2: DeprecationWarning: Converting `np.inexact` or `np.floating` to a dtype is deprecated. The current result is `float64` which is not strictly correct.\n",
      "  if data[column].dtype == np.number:\n",
      "/tmp/ipykernel_13/1675137737.py:2: DeprecationWarning: Converting `np.inexact` or `np.floating` to a dtype is deprecated. The current result is `float64` which is not strictly correct.\n",
      "  if data[column].dtype == np.number:\n"
     ]
    }
   ],
   "source": [
    "for column in data.columns:\n",
    "    if data[column].dtype == np.number:\n",
    "        continue\n",
    "    data[column] = LabelEncoder().fit_transform(data[column])"
   ]
  },
  {
   "cell_type": "markdown",
   "id": "7af63933",
   "metadata": {
    "papermill": {
     "duration": 0.005304,
     "end_time": "2025-07-15T13:07:32.530757",
     "exception": false,
     "start_time": "2025-07-15T13:07:32.525453",
     "status": "completed"
    },
    "tags": []
   },
   "source": [
    "split the data and scale features"
   ]
  },
  {
   "cell_type": "code",
   "execution_count": 7,
   "id": "a66d1c08",
   "metadata": {
    "execution": {
     "iopub.execute_input": "2025-07-15T13:07:32.540918Z",
     "iopub.status.busy": "2025-07-15T13:07:32.540100Z",
     "iopub.status.idle": "2025-07-15T13:07:32.564346Z",
     "shell.execute_reply": "2025-07-15T13:07:32.563194Z"
    },
    "papermill": {
     "duration": 0.031352,
     "end_time": "2025-07-15T13:07:32.566676",
     "exception": false,
     "start_time": "2025-07-15T13:07:32.535324",
     "status": "completed"
    },
    "tags": []
   },
   "outputs": [],
   "source": [
    "X = data.drop(['target'], axis=1)\n",
    "y = data['target']\n",
    "\n",
    "x_scaler = MinMaxScaler()\n",
    "x_scaler.fit(X)\n",
    "column_names = X.columns\n",
    "X[column_names] = x_scaler.transform(X)\n",
    "\n",
    "X_train, X_test, y_train, y_test = train_test_split(X, y, test_size=0.25, random_state=42)\n",
    "\n"
   ]
  },
  {
   "cell_type": "markdown",
   "id": "68d161d9",
   "metadata": {
    "papermill": {
     "duration": 0.00334,
     "end_time": "2025-07-15T13:07:32.574186",
     "exception": false,
     "start_time": "2025-07-15T13:07:32.570846",
     "status": "completed"
    },
    "tags": []
   },
   "source": [
    "build the model"
   ]
  },
  {
   "cell_type": "code",
   "execution_count": 8,
   "id": "a77c3081",
   "metadata": {
    "execution": {
     "iopub.execute_input": "2025-07-15T13:07:32.582262Z",
     "iopub.status.busy": "2025-07-15T13:07:32.581856Z",
     "iopub.status.idle": "2025-07-15T13:07:32.589169Z",
     "shell.execute_reply": "2025-07-15T13:07:32.588120Z"
    },
    "papermill": {
     "duration": 0.013363,
     "end_time": "2025-07-15T13:07:32.590851",
     "exception": false,
     "start_time": "2025-07-15T13:07:32.577488",
     "status": "completed"
    },
    "tags": []
   },
   "outputs": [
    {
     "data": {
      "text/plain": [
       "(768, 13)"
      ]
     },
     "execution_count": 8,
     "metadata": {},
     "output_type": "execute_result"
    }
   ],
   "source": [
    "X_train.shape"
   ]
  },
  {
   "cell_type": "code",
   "execution_count": 9,
   "id": "94148212",
   "metadata": {
    "execution": {
     "iopub.execute_input": "2025-07-15T13:07:32.599730Z",
     "iopub.status.busy": "2025-07-15T13:07:32.599352Z",
     "iopub.status.idle": "2025-07-15T13:07:32.605526Z",
     "shell.execute_reply": "2025-07-15T13:07:32.604607Z"
    },
    "papermill": {
     "duration": 0.012507,
     "end_time": "2025-07-15T13:07:32.607050",
     "exception": false,
     "start_time": "2025-07-15T13:07:32.594543",
     "status": "completed"
    },
    "tags": []
   },
   "outputs": [
    {
     "data": {
      "text/plain": [
       "(768,)"
      ]
     },
     "execution_count": 9,
     "metadata": {},
     "output_type": "execute_result"
    }
   ],
   "source": [
    "y_train.shape"
   ]
  },
  {
   "cell_type": "code",
   "execution_count": 10,
   "id": "ddbac817",
   "metadata": {
    "execution": {
     "iopub.execute_input": "2025-07-15T13:07:32.617072Z",
     "iopub.status.busy": "2025-07-15T13:07:32.616003Z",
     "iopub.status.idle": "2025-07-15T13:07:32.622844Z",
     "shell.execute_reply": "2025-07-15T13:07:32.621981Z"
    },
    "papermill": {
     "duration": 0.014075,
     "end_time": "2025-07-15T13:07:32.625110",
     "exception": false,
     "start_time": "2025-07-15T13:07:32.611035",
     "status": "completed"
    },
    "tags": []
   },
   "outputs": [],
   "source": [
    "   from keras.utils import to_categorical\n",
    "\n",
    "   y_train = to_categorical(y_train, num_classes=3)\n",
    "   y_test = to_categorical(y_test, num_classes=3)\n",
    "   "
   ]
  },
  {
   "cell_type": "code",
   "execution_count": 11,
   "id": "27b07b3f",
   "metadata": {
    "execution": {
     "iopub.execute_input": "2025-07-15T13:07:32.640097Z",
     "iopub.status.busy": "2025-07-15T13:07:32.639671Z",
     "iopub.status.idle": "2025-07-15T13:09:31.582314Z",
     "shell.execute_reply": "2025-07-15T13:09:31.581367Z"
    },
    "papermill": {
     "duration": 118.954566,
     "end_time": "2025-07-15T13:09:31.587255",
     "exception": false,
     "start_time": "2025-07-15T13:07:32.632689",
     "status": "completed"
    },
    "tags": []
   },
   "outputs": [
    {
     "name": "stderr",
     "output_type": "stream",
     "text": [
      "/usr/local/lib/python3.11/dist-packages/keras/src/layers/core/dense.py:87: UserWarning: Do not pass an `input_shape`/`input_dim` argument to a layer. When using Sequential models, prefer using an `Input(shape)` object as the first layer in the model instead.\n",
      "  super().__init__(activity_regularizer=activity_regularizer, **kwargs)\n",
      "2025-07-15 13:07:32.653180: E external/local_xla/xla/stream_executor/cuda/cuda_driver.cc:152] failed call to cuInit: INTERNAL: CUDA error: Failed call to cuInit: UNKNOWN ERROR (303)\n"
     ]
    },
    {
     "name": "stdout",
     "output_type": "stream",
     "text": [
      "Accuracy =0.81\n"
     ]
    }
   ],
   "source": [
    "model = Sequential()\n",
    "model.add(Dense(16, input_dim=len(X.columns)))\n",
    "model.add(Activation('sigmoid'))\n",
    "model.add(Dense(3))\n",
    "model.add(Activation('softmax'))\n",
    "model.compile(optimizer='adam', loss='categorical_crossentropy', metrics=['accuracy'])\n",
    "model.fit(X_train, y_train, epochs=100, batch_size=1, verbose=0)\n",
    "loss, accuracy = model.evaluate(X_test,y_test, verbose=0)\n",
    "print(\"Accuracy ={:.2f}\".format(accuracy))"
   ]
  }
 ],
 "metadata": {
  "kaggle": {
   "accelerator": "none",
   "dataSources": [
    {
     "datasetId": 7699394,
     "sourceId": 12220869,
     "sourceType": "datasetVersion"
    }
   ],
   "dockerImageVersionId": 31089,
   "isGpuEnabled": false,
   "isInternetEnabled": true,
   "language": "python",
   "sourceType": "notebook"
  },
  "kernelspec": {
   "display_name": "Python 3",
   "language": "python",
   "name": "python3"
  },
  "language_info": {
   "codemirror_mode": {
    "name": "ipython",
    "version": 3
   },
   "file_extension": ".py",
   "mimetype": "text/x-python",
   "name": "python",
   "nbconvert_exporter": "python",
   "pygments_lexer": "ipython3",
   "version": "3.11.13"
  },
  "papermill": {
   "default_parameters": {},
   "duration": 148.198137,
   "end_time": "2025-07-15T13:09:34.656701",
   "environment_variables": {},
   "exception": null,
   "input_path": "__notebook__.ipynb",
   "output_path": "__notebook__.ipynb",
   "parameters": {},
   "start_time": "2025-07-15T13:07:06.458564",
   "version": "2.6.0"
  }
 },
 "nbformat": 4,
 "nbformat_minor": 5
}
