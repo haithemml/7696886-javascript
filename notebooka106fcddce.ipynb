{
 "cells": [
  {
   "cell_type": "code",
   "execution_count": 1,
   "id": "740fd34c",
   "metadata": {
    "_cell_guid": "b1076dfc-b9ad-4769-8c92-a6c4dae69d19",
    "_uuid": "8f2839f25d086af736a60e9eeb907d3b93b6e0e5",
    "execution": {
     "iopub.execute_input": "2025-06-12T10:04:57.004855Z",
     "iopub.status.busy": "2025-06-12T10:04:57.004484Z",
     "iopub.status.idle": "2025-06-12T10:04:59.008362Z",
     "shell.execute_reply": "2025-06-12T10:04:59.007404Z"
    },
    "papermill": {
     "duration": 2.009772,
     "end_time": "2025-06-12T10:04:59.009915",
     "exception": false,
     "start_time": "2025-06-12T10:04:57.000143",
     "status": "completed"
    },
    "tags": []
   },
   "outputs": [
    {
     "name": "stdout",
     "output_type": "stream",
     "text": [
      "/kaggle/input/nyc-yellow-taxi-trip-data/yellow_tripdata_2016-01.csv\n",
      "/kaggle/input/nyc-yellow-taxi-trip-data/yellow_tripdata_2016-03.csv\n",
      "/kaggle/input/nyc-yellow-taxi-trip-data/yellow_tripdata_2016-02.csv\n",
      "/kaggle/input/nyc-yellow-taxi-trip-data/yellow_tripdata_2015-01.csv\n"
     ]
    }
   ],
   "source": [
    "# This Python 3 environment comes with many helpful analytics libraries installed\n",
    "# It is defined by the kaggle/python Docker image: https://github.com/kaggle/docker-python\n",
    "# For example, here's several helpful packages to load\n",
    "\n",
    "import numpy as np # linear algebra\n",
    "import pandas as pd # data processing, CSV file I/O (e.g. pd.read_csv)\n",
    "\n",
    "# Input data files are available in the read-only \"../input/\" directory\n",
    "# For example, running this (by clicking run or pressing Shift+Enter) will list all files under the input directory\n",
    "\n",
    "import os\n",
    "for dirname, _, filenames in os.walk('/kaggle/input'):\n",
    "    for filename in filenames:\n",
    "        print(os.path.join(dirname, filename))\n",
    "\n",
    "# You can write up to 20GB to the current directory (/kaggle/working/) that gets preserved as output when you create a version using \"Save & Run All\" \n",
    "# You can also write temporary files to /kaggle/temp/, but they won't be saved outside of the current session"
   ]
  },
  {
   "cell_type": "code",
   "execution_count": 2,
   "id": "02409db6",
   "metadata": {
    "execution": {
     "iopub.execute_input": "2025-06-12T10:04:59.016512Z",
     "iopub.status.busy": "2025-06-12T10:04:59.016076Z",
     "iopub.status.idle": "2025-06-12T10:07:53.459399Z",
     "shell.execute_reply": "2025-06-12T10:07:53.458320Z"
    },
    "papermill": {
     "duration": 174.448661,
     "end_time": "2025-06-12T10:07:53.461462",
     "exception": false,
     "start_time": "2025-06-12T10:04:59.012801",
     "status": "completed"
    },
    "tags": []
   },
   "outputs": [
    {
     "name": "stderr",
     "output_type": "stream",
     "text": [
      "Setting default log level to \"WARN\".\n",
      "To adjust logging level use sc.setLogLevel(newLevel). For SparkR, use setLogLevel(newLevel).\n",
      "25/06/12 10:05:04 WARN NativeCodeLoader: Unable to load native-hadoop library for your platform... using builtin-java classes where applicable\n",
      "                                                                                                    \r"
     ]
    },
    {
     "name": "stdout",
     "output_type": "stream",
     "text": [
      "root\n",
      " |-- VendorID: string (nullable = true)\n",
      " |-- tpep_pickup_datetime: string (nullable = true)\n",
      " |-- tpep_dropoff_datetime: string (nullable = true)\n",
      " |-- passenger_count: string (nullable = true)\n",
      " |-- trip_distance: string (nullable = true)\n",
      " |-- pickup_longitude: string (nullable = true)\n",
      " |-- pickup_latitude: string (nullable = true)\n",
      " |-- RateCodeID: string (nullable = true)\n",
      " |-- store_and_fwd_flag: string (nullable = true)\n",
      " |-- dropoff_longitude: string (nullable = true)\n",
      " |-- dropoff_latitude: string (nullable = true)\n",
      " |-- payment_type: string (nullable = true)\n",
      " |-- fare_amount: string (nullable = true)\n",
      " |-- extra: string (nullable = true)\n",
      " |-- mta_tax: string (nullable = true)\n",
      " |-- tip_amount: string (nullable = true)\n",
      " |-- tolls_amount: string (nullable = true)\n",
      " |-- improvement_surcharge: string (nullable = true)\n",
      " |-- total_amount: string (nullable = true)\n",
      "\n",
      "+--------+--------------------+---------------------+---------------+-------------+-------------------+------------------+----------+------------------+-------------------+------------------+------------+-----------+-----+-------+----------+------------+---------------------+------------+\n",
      "|VendorID|tpep_pickup_datetime|tpep_dropoff_datetime|passenger_count|trip_distance|   pickup_longitude|   pickup_latitude|RateCodeID|store_and_fwd_flag|  dropoff_longitude|  dropoff_latitude|payment_type|fare_amount|extra|mta_tax|tip_amount|tolls_amount|improvement_surcharge|total_amount|\n",
      "+--------+--------------------+---------------------+---------------+-------------+-------------------+------------------+----------+------------------+-------------------+------------------+------------+-----------+-----+-------+----------+------------+---------------------+------------+\n",
      "|       2| 2015-01-15 19:05:39|  2015-01-15 19:23:42|              1|         1.59|   -73.993896484375|40.750110626220703|         1|                 N|-73.974784851074219|40.750617980957031|           1|         12|    1|    0.5|      3.25|           0|                  0.3|       17.05|\n",
      "|       1| 2015-01-10 20:33:38|  2015-01-10 20:53:28|              1|         3.30| -74.00164794921875|  40.7242431640625|         1|                 N|-73.994415283203125|40.759109497070313|           1|       14.5|  0.5|    0.5|         2|           0|                  0.3|        17.8|\n",
      "|       1| 2015-01-10 20:33:38|  2015-01-10 20:43:41|              1|         1.80|-73.963340759277344|40.802787780761719|         1|                 N|-73.951820373535156|40.824413299560547|           2|        9.5|  0.5|    0.5|         0|           0|                  0.3|        10.8|\n",
      "|       1| 2015-01-10 20:33:39|  2015-01-10 20:35:31|              1|          .50|-74.009086608886719|40.713817596435547|         1|                 N|-74.004325866699219|40.719985961914063|           2|        3.5|  0.5|    0.5|         0|           0|                  0.3|         4.8|\n",
      "|       1| 2015-01-10 20:33:39|  2015-01-10 20:52:58|              1|         3.00|-73.971176147460938|40.762428283691406|         1|                 N|-74.004180908203125|40.742652893066406|           2|         15|  0.5|    0.5|         0|           0|                  0.3|        16.3|\n",
      "+--------+--------------------+---------------------+---------------+-------------+-------------------+------------------+----------+------------------+-------------------+------------------+------------+-----------+-----+-------+----------+------------+---------------------+------------+\n",
      "only showing top 5 rows\n",
      "\n"
     ]
    }
   ],
   "source": [
    "from pyspark.sql import SparkSession\n",
    "\n",
    "spark = SparkSession.builder.appName(\"NYCTaxiBigData\").getOrCreate()\n",
    "\n",
    "# Lire plusieurs fichiers d’un coup avec Spark\n",
    "df = spark.read.csv([\n",
    "    \"/kaggle/input/nyc-yellow-taxi-trip-data/yellow_tripdata_2015-01.csv\",\n",
    "    \"/kaggle/input/nyc-yellow-taxi-trip-data/yellow_tripdata_2016-01.csv\",\n",
    "    \"/kaggle/input/nyc-yellow-taxi-trip-data/yellow_tripdata_2016-02.csv\",\n",
    "    \"/kaggle/input/nyc-yellow-taxi-trip-data/yellow_tripdata_2016-03.csv\"\n",
    "], header=True, inferSchema=True)\n",
    "\n",
    "df.printSchema()\n",
    "df.show(5)\n"
   ]
  },
  {
   "cell_type": "code",
   "execution_count": 3,
   "id": "c09f9713",
   "metadata": {
    "execution": {
     "iopub.execute_input": "2025-06-12T10:07:53.476751Z",
     "iopub.status.busy": "2025-06-12T10:07:53.475158Z",
     "iopub.status.idle": "2025-06-12T10:15:40.069130Z",
     "shell.execute_reply": "2025-06-12T10:15:40.067667Z"
    },
    "papermill": {
     "duration": 466.603354,
     "end_time": "2025-06-12T10:15:40.071896",
     "exception": false,
     "start_time": "2025-06-12T10:07:53.468542",
     "status": "completed"
    },
    "tags": []
   },
   "outputs": [
    {
     "name": "stdout",
     "output_type": "stream",
     "text": [
      "Selecting previously unselected package libxtst6:amd64.\r\n",
      "(Reading database ... 129184 files and directories currently installed.)\r\n",
      "Preparing to unpack .../libxtst6_2%3a1.2.3-1build4_amd64.deb ...\r\n",
      "Unpacking libxtst6:amd64 (2:1.2.3-1build4) ...\r\n",
      "Selecting previously unselected package openjdk-8-jre-headless:amd64.\r\n",
      "Preparing to unpack .../openjdk-8-jre-headless_8u452-ga~us1-0ubuntu1~22.04_amd64.deb ...\r\n",
      "Unpacking openjdk-8-jre-headless:amd64 (8u452-ga~us1-0ubuntu1~22.04) ...\r\n",
      "Selecting previously unselected package openjdk-8-jdk-headless:amd64.\r\n",
      "Preparing to unpack .../openjdk-8-jdk-headless_8u452-ga~us1-0ubuntu1~22.04_amd64.deb ...\r\n",
      "Unpacking openjdk-8-jdk-headless:amd64 (8u452-ga~us1-0ubuntu1~22.04) ...\r\n",
      "Setting up libxtst6:amd64 (2:1.2.3-1build4) ...\r\n",
      "Setting up openjdk-8-jre-headless:amd64 (8u452-ga~us1-0ubuntu1~22.04) ...\r\n",
      "update-alternatives: using /usr/lib/jvm/java-8-openjdk-amd64/jre/bin/orbd to provide /usr/bin/orbd (orbd) in auto mode\r\n",
      "update-alternatives: using /usr/lib/jvm/java-8-openjdk-amd64/jre/bin/servertool to provide /usr/bin/servertool (servertool) in auto mode\r\n",
      "update-alternatives: using /usr/lib/jvm/java-8-openjdk-amd64/jre/bin/tnameserv to provide /usr/bin/tnameserv (tnameserv) in auto mode\r\n",
      "Setting up openjdk-8-jdk-headless:amd64 (8u452-ga~us1-0ubuntu1~22.04) ...\r\n",
      "update-alternatives: using /usr/lib/jvm/java-8-openjdk-amd64/bin/clhsdb to provide /usr/bin/clhsdb (clhsdb) in auto mode\r\n",
      "update-alternatives: using /usr/lib/jvm/java-8-openjdk-amd64/bin/extcheck to provide /usr/bin/extcheck (extcheck) in auto mode\r\n",
      "update-alternatives: using /usr/lib/jvm/java-8-openjdk-amd64/bin/hsdb to provide /usr/bin/hsdb (hsdb) in auto mode\r\n",
      "update-alternatives: using /usr/lib/jvm/java-8-openjdk-amd64/bin/idlj to provide /usr/bin/idlj (idlj) in auto mode\r\n",
      "update-alternatives: using /usr/lib/jvm/java-8-openjdk-amd64/bin/javah to provide /usr/bin/javah (javah) in auto mode\r\n",
      "update-alternatives: using /usr/lib/jvm/java-8-openjdk-amd64/bin/jhat to provide /usr/bin/jhat (jhat) in auto mode\r\n",
      "update-alternatives: using /usr/lib/jvm/java-8-openjdk-amd64/bin/jsadebugd to provide /usr/bin/jsadebugd (jsadebugd) in auto mode\r\n",
      "update-alternatives: using /usr/lib/jvm/java-8-openjdk-amd64/bin/native2ascii to provide /usr/bin/native2ascii (native2ascii) in auto mode\r\n",
      "update-alternatives: using /usr/lib/jvm/java-8-openjdk-amd64/bin/schemagen to provide /usr/bin/schemagen (schemagen) in auto mode\r\n",
      "update-alternatives: using /usr/lib/jvm/java-8-openjdk-amd64/bin/wsgen to provide /usr/bin/wsgen (wsgen) in auto mode\r\n",
      "update-alternatives: using /usr/lib/jvm/java-8-openjdk-amd64/bin/wsimport to provide /usr/bin/wsimport (wsimport) in auto mode\r\n",
      "update-alternatives: using /usr/lib/jvm/java-8-openjdk-amd64/bin/xjc to provide /usr/bin/xjc (xjc) in auto mode\r\n",
      "Processing triggers for libc-bin (2.35-0ubuntu3.8) ...\r\n",
      "/sbin/ldconfig.real: /usr/local/lib/libumf.so.0 is not a symbolic link\r\n",
      "\r\n",
      "/sbin/ldconfig.real: /usr/local/lib/libtcm.so.1 is not a symbolic link\r\n",
      "\r\n",
      "/sbin/ldconfig.real: /usr/local/lib/libtcm_debug.so.1 is not a symbolic link\r\n",
      "\r\n",
      "/sbin/ldconfig.real: /usr/local/lib/libhwloc.so.15 is not a symbolic link\r\n",
      "\r\n",
      "/sbin/ldconfig.real: /usr/local/lib/libur_loader.so.0 is not a symbolic link\r\n",
      "\r\n",
      "/sbin/ldconfig.real: /usr/local/lib/libur_adapter_level_zero.so.0 is not a symbolic link\r\n",
      "\r\n",
      "/sbin/ldconfig.real: /usr/local/lib/libur_adapter_opencl.so.0 is not a symbolic link\r\n",
      "\r\n",
      "/sbin/ldconfig.real: /usr/local/lib/libtbbbind_2_5.so.3 is not a symbolic link\r\n",
      "\r\n",
      "/sbin/ldconfig.real: /usr/local/lib/libtbbbind.so.3 is not a symbolic link\r\n",
      "\r\n",
      "/sbin/ldconfig.real: /usr/local/lib/libtbbbind_2_0.so.3 is not a symbolic link\r\n",
      "\r\n",
      "/sbin/ldconfig.real: /usr/local/lib/libtbb.so.12 is not a symbolic link\r\n",
      "\r\n",
      "/sbin/ldconfig.real: /usr/local/lib/libtbbmalloc_proxy.so.2 is not a symbolic link\r\n",
      "\r\n",
      "/sbin/ldconfig.real: /usr/local/lib/libtbbmalloc.so.2 is not a symbolic link\r\n",
      "\r\n",
      "tar: spark-3.1.2-bin-hadoop2.7.tgz: Cannot open: No such file or directory\r\n",
      "tar: Error is not recoverable: exiting now\r\n"
     ]
    },
    {
     "name": "stderr",
     "output_type": "stream",
     "text": [
      "                                                                                                    \r"
     ]
    },
    {
     "name": "stdout",
     "output_type": "stream",
     "text": [
      "+-----------+-----------+------------------+------------------+\n",
      "|pickup_hour|trips_count|      avg_distance|          avg_fare|\n",
      "+-----------+-----------+------------------+------------------+\n",
      "|          0|    1378838| 3.957525329299027|14.753716448197695|\n",
      "|          1|    1012530| 8.920055919330801| 14.37393016503216|\n",
      "|          2|     746412| 3.858606506862158|14.219523185586521|\n",
      "|          3|     560907| 4.123082400469233|14.829198262813621|\n",
      "|          4|     423033| 4.894162937643153| 16.79495857297184|\n",
      "|          5|     381619| 6.385962963060005|18.372745644215822|\n",
      "|          6|     796736| 4.562933393244423|15.266456693308697|\n",
      "|          7|    1338193|3.5061472149383572|13.849665444371631|\n",
      "|          8|    1565729|3.6998037719171095|14.109377919167375|\n",
      "|          9|    1553771|10.914554030162455|  14.1866844470646|\n",
      "|         10|    1522968|17.824036329062352|14.297770189524671|\n",
      "|         11|    1583929| 4.677033945334677|14.370430688496777|\n",
      "|         12|    1670036|  3.38243664208438|14.367756305852096|\n",
      "|         13|    1681514|4.5920961823690325| 14.74140049384068|\n",
      "|         14|    1771622|11.580483178691424|15.403235063687411|\n",
      "|         15|    1748989| 23.10887061039245|15.317578263785547|\n",
      "|         16|    1589381| 6.101121675671265|15.208199059885587|\n",
      "|         17|    1878370|  9.10162697977491|14.585599157780424|\n",
      "|         18|    2222290| 5.729145246570043|13.844511314904901|\n",
      "|         19|    2233389|20.462936026818642|13.526080163375045|\n",
      "|         20|    2135203| 5.964079495017574|13.785209144048606|\n",
      "|         21|    2142185|16.616067869955156| 14.00840172067306|\n",
      "|         22|    2080913|  15.0476107074153|14.465234495627648|\n",
      "|         23|    1781845| 9.076437192909573|14.850264080209005|\n",
      "+-----------+-----------+------------------+------------------+\n",
      "\n"
     ]
    },
    {
     "name": "stderr",
     "output_type": "stream",
     "text": [
      "                                                                                                    \r"
     ]
    }
   ],
   "source": [
    "# 1. Installation & setup Spark\n",
    "!apt-get install -qq openjdk-8-jdk-headless\n",
    "!wget -q https://apache.osuosl.org/spark/spark-3.1.2/spark-3.1.2-bin-hadoop2.7.tgz\n",
    "!tar xf spark-3.1.2-bin-hadoop2.7.tgz\n",
    "!pip install -q findspark\n",
    "\n",
    "import os, findspark\n",
    "os.environ[\"JAVA_HOME\"] = \"/usr/lib/jvm/java-8-openjdk-amd64\"\n",
    "os.environ[\"SPARK_HOME\"] = \"/content/spark-3.1.2-bin-hadoop2.7\"\n",
    "findspark.init()\n",
    "\n",
    "from pyspark.sql import SparkSession\n",
    "spark = SparkSession.builder.appName(\"NYCTaxiBigData\").getOrCreate()\n",
    "\n",
    "df = spark.read.csv(\n",
    "    \"/kaggle/input/nyc-yellow-taxi-trip-data/yellow_tripdata_*.csv\",\n",
    "    header=True,\n",
    "    inferSchema=True\n",
    ")\n",
    "\n",
    "\n",
    "# 4. Nettoyage des données\n",
    "df = df.filter((df.trip_distance > 0) & (df.fare_amount > 0))\n",
    "\n",
    "# 5. Transformations & agrégations\n",
    "from pyspark.sql.functions import hour, avg, count\n",
    "\n",
    "df = df.withColumn(\"pickup_hour\", hour(\"tpep_pickup_datetime\"))\n",
    "df.groupBy(\"pickup_hour\").agg(\n",
    "    count(\"*\").alias(\"trips_count\"),\n",
    "    avg(\"trip_distance\").alias(\"avg_distance\"),\n",
    "    avg(\"fare_amount\").alias(\"avg_fare\")\n",
    ").orderBy(\"pickup_hour\").show(24)\n",
    "\n",
    "# 6. Sauvegarde optimisée\n",
    "df.write.parquet(\"nyc_taxi_cleaned.parquet\")\n"
   ]
  },
  {
   "cell_type": "code",
   "execution_count": 4,
   "id": "e0df4268",
   "metadata": {
    "execution": {
     "iopub.execute_input": "2025-06-12T10:15:40.098999Z",
     "iopub.status.busy": "2025-06-12T10:15:40.097914Z",
     "iopub.status.idle": "2025-06-12T10:16:49.577635Z",
     "shell.execute_reply": "2025-06-12T10:16:49.576499Z"
    },
    "papermill": {
     "duration": 69.496729,
     "end_time": "2025-06-12T10:16:49.580476",
     "exception": false,
     "start_time": "2025-06-12T10:15:40.083747",
     "status": "completed"
    },
    "tags": []
   },
   "outputs": [
    {
     "name": "stderr",
     "output_type": "stream",
     "text": [
      "                                                                                                    \r"
     ]
    },
    {
     "data": {
      "image/png": "[encoded data removed]",
      "text/plain": [
       "<Figure size 1200x600 with 2 Axes>"
      ]
     },
     "metadata": {},
     "output_type": "display_data"
    }
   ],
   "source": [
    "import matplotlib.pyplot as plt\n",
    "import pandas as pd\n",
    "\n",
    "# Exemple : convert spark dataframe in pandas\n",
    "pdf = df.groupBy(\"pickup_hour\").agg(\n",
    "    count(\"*\").alias(\"trips_count\"),\n",
    "    avg(\"trip_distance\").alias(\"avg_distance\"),\n",
    "    avg(\"fare_amount\").alias(\"avg_fare\")\n",
    ").orderBy(\"pickup_hour\").toPandas()\n",
    "\n",
    "fig, ax1 = plt.subplots(figsize=(12,6))\n",
    "\n",
    "ax1.bar(pdf['pickup_hour'], pdf['trips_count'], color='skyblue', alpha=0.7)\n",
    "ax1.set_ylabel('Trip number', color='blue')\n",
    "ax1.set_xlabel('Time of day')\n",
    "\n",
    "ax2 = ax1.twinx()\n",
    "ax2.plot(pdf['pickup_hour'], pdf['avg_distance'], color='green', marker='o', label='Distance moyenne (km)')\n",
    "ax2.plot(pdf['pickup_hour'], pdf['avg_fare'], color='red', marker='x', label='Tarif moyen ($)')\n",
    "ax2.set_ylabel('Distance / Price')\n",
    "\n",
    "ax2.legend(loc='upper right')\n",
    "plt.title('NYC Taxi Trip Analysis by Hour')\n",
    "plt.show()\n"
   ]
  },
  {
   "cell_type": "code",
   "execution_count": 5,
   "id": "e49b39bc",
   "metadata": {
    "execution": {
     "iopub.execute_input": "2025-06-12T10:16:49.610665Z",
     "iopub.status.busy": "2025-06-12T10:16:49.610387Z",
     "iopub.status.idle": "2025-06-12T10:17:45.814763Z",
     "shell.execute_reply": "2025-06-12T10:17:45.812164Z"
    },
    "papermill": {
     "duration": 56.222068,
     "end_time": "2025-06-12T10:17:45.817125",
     "exception": false,
     "start_time": "2025-06-12T10:16:49.595057",
     "status": "completed"
    },
    "tags": []
   },
   "outputs": [
    {
     "name": "stderr",
     "output_type": "stream",
     "text": [
      "[Stage 17:==========================================================================> (55 + 1) / 56]\r"
     ]
    },
    {
     "name": "stdout",
     "output_type": "stream",
     "text": [
      "+-----------+-----------+\n",
      "|fare_amount|trips_count|\n",
      "+-----------+-----------+\n",
      "|        7.5|    1942499|\n",
      "|          8|    1934955|\n",
      "|          7|    1866453|\n",
      "|        8.5|    1863517|\n",
      "|          9|    1769334|\n",
      "|        9.5|    1656516|\n",
      "|        6.5|    1631672|\n",
      "|         10|    1538467|\n",
      "|       10.5|    1407642|\n",
      "|         11|    1287846|\n",
      "+-----------+-----------+\n",
      "only showing top 10 rows\n",
      "\n"
     ]
    },
    {
     "name": "stderr",
     "output_type": "stream",
     "text": [
      "                                                                                                    \r"
     ]
    }
   ],
   "source": [
    "df.groupBy(\"fare_amount\").agg(count(\"*\").alias(\"trips_count\")) \\\n",
    "  .orderBy(\"trips_count\", ascending=False).show(10)\n"
   ]
  },
  {
   "cell_type": "code",
   "execution_count": 6,
   "id": "6e041902",
   "metadata": {
    "execution": {
     "iopub.execute_input": "2025-06-12T10:17:45.871917Z",
     "iopub.status.busy": "2025-06-12T10:17:45.871544Z",
     "iopub.status.idle": "2025-06-12T10:20:24.744251Z",
     "shell.execute_reply": "2025-06-12T10:20:24.743079Z"
    },
    "papermill": {
     "duration": 158.903005,
     "end_time": "2025-06-12T10:20:24.746347",
     "exception": false,
     "start_time": "2025-06-12T10:17:45.843342",
     "status": "completed"
    },
    "tags": []
   },
   "outputs": [
    {
     "name": "stderr",
     "output_type": "stream",
     "text": [
      "                                                                                                    \r"
     ]
    },
    {
     "name": "stdout",
     "output_type": "stream",
     "text": [
      "+-------+-----------------+------------------+\n",
      "|summary|    trip_distance|       fare_amount|\n",
      "+-------+-----------------+------------------+\n",
      "|  count|         35800402|          35800402|\n",
      "|   mean| 9.64141883965393|14.489307027055247|\n",
      "| stddev|7377.350447939826| 51.18385237688636|\n",
      "|    min|             1.00|                 1|\n",
      "|    max|            99.90|            999.98|\n",
      "+-------+-----------------+------------------+\n",
      "\n"
     ]
    },
    {
     "name": "stderr",
     "output_type": "stream",
     "text": [
      "[Stage 23:==========================================================================> (55 + 1) / 56]\r"
     ]
    },
    {
     "name": "stdout",
     "output_type": "stream",
     "text": [
      "+--------------------------------+\n",
      "|corr(trip_distance, fare_amount)|\n",
      "+--------------------------------+\n",
      "|            0.010706540678233326|\n",
      "+--------------------------------+\n",
      "\n"
     ]
    },
    {
     "name": "stderr",
     "output_type": "stream",
     "text": [
      "                                                                                                    \r"
     ]
    }
   ],
   "source": [
    "#corrélation distance/tarif\n",
    "df.select(\"trip_distance\", \"fare_amount\").describe().show()\n",
    "\n",
    "from pyspark.sql.functions import corr\n",
    "\n",
    "df.select(corr(\"trip_distance\", \"fare_amount\")).show()\n"
   ]
  },
  {
   "cell_type": "code",
   "execution_count": 7,
   "id": "efcd36c7",
   "metadata": {
    "execution": {
     "iopub.execute_input": "2025-06-12T10:20:24.815823Z",
     "iopub.status.busy": "2025-06-12T10:20:24.814653Z",
     "iopub.status.idle": "2025-06-12T10:21:41.141516Z",
     "shell.execute_reply": "2025-06-12T10:21:41.140489Z"
    },
    "papermill": {
     "duration": 76.513922,
     "end_time": "2025-06-12T10:21:41.294038",
     "exception": false,
     "start_time": "2025-06-12T10:20:24.780116",
     "status": "completed"
    },
    "tags": []
   },
   "outputs": [
    {
     "name": "stderr",
     "output_type": "stream",
     "text": [
      "/usr/local/lib/python3.11/dist-packages/sklearn/base.py:439: UserWarning: X does not have valid feature names, but IsolationForest was fitted with feature names\n",
      "  warnings.warn(\n"
     ]
    },
    {
     "name": "stdout",
     "output_type": "stream",
     "text": [
      "    trip_distance fare_amount  anomaly\n",
      "14          21.10          52       -1\n",
      "97          18.56          77       -1\n",
      "226         21.40          52       -1\n",
      "229         25.10         145       -1\n",
      "414         23.30          66       -1\n"
     ]
    }
   ],
   "source": [
    "\n",
    "#anamaly detection: Trips with zero or very short distances but high fares,\n",
    "#Trips with huge distances but very low fares,\n",
    "#Negative or inconsistent travel times.\n",
    "from sklearn.ensemble import IsolationForest\n",
    "import pandas as pd\n",
    "\n",
    "# sample pandas\n",
    "sample_pdf = df.select(\"trip_distance\", \"fare_amount\").sample(False, 0.01).toPandas()\n",
    "\n",
    "clf = IsolationForest(contamination=0.01, random_state=42)\n",
    "sample_pdf['anomaly'] = clf.fit_predict(sample_pdf[['trip_distance', 'fare_amount']])\n",
    "\n",
    "# -1 = anomaly, 1 = normal\n",
    "anomalies = sample_pdf[sample_pdf['anomaly'] == -1]\n",
    "print(anomalies.head())\n"
   ]
  }
 ],
 "metadata": {
  "kaggle": {
   "accelerator": "none",
   "dataSources": [
    {
     "datasetId": 1777799,
     "sourceId": 2905525,
     "sourceType": "datasetVersion"
    }
   ],
   "dockerImageVersionId": 31040,
   "isGpuEnabled": false,
   "isInternetEnabled": true,
   "language": "python",
   "sourceType": "notebook"
  },
  "kernelspec": {
   "display_name": "Python 3",
   "language": "python",
   "name": "python3"
  },
  "language_info": {
   "codemirror_mode": {
    "name": "ipython",
    "version": 3
   },
   "file_extension": ".py",
   "mimetype": "text/x-python",
   "name": "python",
   "nbconvert_exporter": "python",
   "pygments_lexer": "ipython3",
   "version": "3.11.11"
  },
  "papermill": {
   "default_parameters": {},
   "duration": 1011.929184,
   "end_time": "2025-06-12T10:21:43.935341",
   "environment_variables": {},
   "exception": null,
   "input_path": "__notebook__.ipynb",
   "output_path": "__notebook__.ipynb",
   "parameters": {},
   "start_time": "2025-06-12T10:04:52.006157",
   "version": "2.6.0"
  }
 },
 "nbformat": 4,
 "nbformat_minor": 5
}
