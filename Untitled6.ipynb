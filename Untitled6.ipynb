{
  "nbformat": 4,
  "nbformat_minor": 0,
  "metadata": {
    "colab": {
      "provenance": [],
      "authorship_tag": "ABX9TyMJ9mxHYVjjowpb2m9Pi9QX",
      "include_colab_link": true
    },
    "kernelspec": {
      "name": "python3",
      "display_name": "Python 3"
    },
    "language_info": {
      "name": "python"
    }
  },
  "cells": [
    {
      "cell_type": "markdown",
      "metadata": {
        "id": "view-in-github",
        "colab_type": "text"
      },
      "source": [
        "<a href=\"https://colab.research.google.com/github/haithemml/7696886-javascript/blob/main/Untitled6.ipynb\" target=\"_parent\"><img src=\"https://colab.research.google.com/assets/colab-badge.svg\" alt=\"Open In Colab\"/></a>"
      ]
    },
    {
      "cell_type": "code",
      "execution_count": 2,
      "metadata": {
        "colab": {
          "base_uri": "https://localhost:8080/"
        },
        "id": "3FS8JxTPMkH0",
        "outputId": "d56c7854-ed3d-4ee5-defa-a52999d61954"
      },
      "outputs": [
        {
          "output_type": "stream",
          "name": "stdout",
          "text": [
            "   Dairy  Nappy  Nectar  Omelet    Pie  Toast\n",
            "0   True  False   False   False  False   True\n",
            "1  False   True    True    True  False   True\n",
            "2   True   True    True   False   True  False\n",
            "3   True   True    True   False  False   True\n",
            "4   True   True   False   False   True   True\n"
          ]
        }
      ],
      "source": [
        "transactions = [['Toast', 'Dairy'],\n",
        " ['Toast', 'Nappy', 'Nectar', 'Omelet'],\n",
        " ['Dairy', 'Nappy', 'Nectar', 'Pie' ],\n",
        " ['Toast', 'Dairy', 'Nappy', 'Nectar'],\n",
        " ['Toast', 'Dairy', 'Nappy', 'Pie']]\n",
        "\n",
        "from mlxtend.preprocessing import TransactionEncoder\n",
        "\n",
        "te = TransactionEncoder()\n",
        "te_model = te.fit(transactions)\n",
        "rows=te_model.transform(transactions)\n",
        "\n",
        "import pandas as pd\n",
        "df = pd.DataFrame(rows, columns=te_model.columns_)\n",
        "print(df)"
      ]
    },
    {
      "cell_type": "code",
      "source": [
        "from mlxtend.frequent_patterns import apriori\n",
        "frequent_groups = apriori(df, min_support=0.4, use_colnames=True)\n",
        "frequent_groups['length'] =frequent_groups['itemsets'].apply(lambda x: len(x))\n",
        "\n",
        "print(frequent_groups)\n"
      ],
      "metadata": {
        "colab": {
          "base_uri": "https://localhost:8080/"
        },
        "id": "upDLuh2bP-O1",
        "outputId": "540928a8-9e8f-453c-8220-f4c649f6e652"
      },
      "execution_count": 3,
      "outputs": [
        {
          "output_type": "stream",
          "name": "stdout",
          "text": [
            "    support                itemsets  length\n",
            "0       0.8                 (Dairy)       1\n",
            "1       0.8                 (Nappy)       1\n",
            "2       0.6                (Nectar)       1\n",
            "3       0.4                   (Pie)       1\n",
            "4       0.8                 (Toast)       1\n",
            "5       0.6          (Nappy, Dairy)       2\n",
            "6       0.4         (Nectar, Dairy)       2\n",
            "7       0.4            (Dairy, Pie)       2\n",
            "8       0.6          (Dairy, Toast)       2\n",
            "9       0.6         (Nectar, Nappy)       2\n",
            "10      0.4            (Nappy, Pie)       2\n",
            "11      0.6          (Nappy, Toast)       2\n",
            "12      0.4         (Nectar, Toast)       2\n",
            "13      0.4  (Nectar, Nappy, Dairy)       3\n",
            "14      0.4     (Nappy, Dairy, Pie)       3\n",
            "15      0.4   (Nappy, Dairy, Toast)       3\n",
            "16      0.4  (Nectar, Nappy, Toast)       3\n"
          ]
        }
      ]
    },
    {
      "cell_type": "markdown",
      "source": [
        "This dataset presents itemsets along with their support values and lengths. The support indicates how frequently the itemsets occur in the dataset. The lengths represent the number of items in each itemset.\n",
        "\n",
        "Key Observations\n",
        "Single Itemsets:\n",
        "\n",
        "The highest support values are associated with single itemsets: Dairy, Nappy, and Toast, all with a support of 0.8.\n",
        "Nectar and Pie have lower support values of 0.6 and 0.4, respectively, indicating they are less frequently purchased individually.\n",
        "Two-Item Combinations:\n",
        "\n",
        "Among two-item combinations, the itemset (Dairy, Nappy) stands out with a support of 0.6.\n",
        "Other combinations involving Dairy, such as (Dairy, Toast) and (Nectar, Nappy), also show significant support, suggesting that Dairy is a common element in many purchases.\n",
        "Three-Item Combinations:\n",
        "\n",
        "Support for three-item combinations is uniformly lower, with a maximum of 0.4.\n",
        "The combinations (Nectar, Dairy, Nappy), (Pie, Dairy, Nappy), and (Toast, Dairy, Nappy) have the same support value, indicating that while these combinations exist, they are less frequent compared to two-item sets.\n",
        "Length Correlation:\n",
        "\n",
        "As the length of the itemsets increases, the support generally decreases. This trend suggests that while individual items and pairs are popular, larger combinations are less common among consumers.\n",
        "The highest support values correspond to itemsets of length 1, and the support declines consistently for lengths 2 and 3.\n",
        "Conclusion\n",
        "The analysis indicates a strong correlation between the popularity of individual items and their combinations. Dairy, Nappy, and Toast are key items that frequently appear both alone and in combination, while larger itemsets tend to have lower support. This insight could be beneficial for inventory management, promotional strategies, and understanding customer purchasing behavior."
      ],
      "metadata": {
        "id": "TfrWrKbaTAbp"
      }
    },
    {
      "cell_type": "code",
      "source": [
        "from mlxtend.frequent_patterns import association_rules\n",
        "combination = association_rules(frequent_groups,metric= \"confidence\", min_threshold=0.5)\n",
        "\n",
        "combination = combination.sort_values(['confidence'], ascending =[False])\n",
        "\n",
        "print(combination)"
      ],
      "metadata": {
        "colab": {
          "base_uri": "https://localhost:8080/"
        },
        "id": "uf5aSIVrTLkl",
        "outputId": "c914bf0a-945c-45fe-f89c-375739e9b801"
      },
      "execution_count": 4,
      "outputs": [
        {
          "output_type": "stream",
          "name": "stdout",
          "text": [
            "        antecedents      consequents  antecedent support  consequent support  \\\n",
            "5             (Pie)          (Dairy)                 0.4                 0.8   \n",
            "24     (Dairy, Pie)          (Nappy)                 0.4                 0.8   \n",
            "35  (Nectar, Toast)          (Nappy)                 0.4                 0.8   \n",
            "27            (Pie)   (Nappy, Dairy)                 0.4                 0.6   \n",
            "17  (Nectar, Dairy)          (Nappy)                 0.4                 0.8   \n",
            "23     (Nappy, Pie)          (Dairy)                 0.4                 0.8   \n",
            "11            (Pie)          (Nappy)                 0.4                 0.8   \n",
            "8          (Nectar)          (Nappy)                 0.6                 0.8   \n",
            "9           (Nappy)         (Nectar)                 0.8                 0.6   \n",
            "12          (Nappy)          (Toast)                 0.8                 0.8   \n",
            "0           (Nappy)          (Dairy)                 0.8                 0.8   \n",
            "7           (Toast)          (Dairy)                 0.8                 0.8   \n",
            "1           (Dairy)          (Nappy)                 0.8                 0.8   \n",
            "6           (Dairy)          (Toast)                 0.8                 0.8   \n",
            "13          (Toast)          (Nappy)                 0.8                 0.8   \n",
            "2          (Nectar)          (Dairy)                 0.6                 0.8   \n",
            "36   (Nappy, Toast)         (Nectar)                 0.6                 0.6   \n",
            "37         (Nectar)   (Nappy, Toast)                 0.6                 0.6   \n",
            "19         (Nectar)   (Nappy, Dairy)                 0.6                 0.6   \n",
            "16  (Nectar, Nappy)          (Dairy)                 0.6                 0.8   \n",
            "29   (Nappy, Toast)          (Dairy)                 0.6                 0.8   \n",
            "22   (Nappy, Dairy)            (Pie)                 0.6                 0.4   \n",
            "18   (Nappy, Dairy)         (Nectar)                 0.6                 0.6   \n",
            "14         (Nectar)          (Toast)                 0.6                 0.8   \n",
            "30   (Dairy, Toast)          (Nappy)                 0.6                 0.8   \n",
            "28   (Nappy, Dairy)          (Toast)                 0.6                 0.8   \n",
            "34  (Nectar, Nappy)          (Toast)                 0.6                 0.8   \n",
            "3           (Dairy)         (Nectar)                 0.8                 0.6   \n",
            "4           (Dairy)            (Pie)                 0.8                 0.4   \n",
            "21          (Dairy)  (Nectar, Nappy)                 0.8                 0.6   \n",
            "10          (Nappy)            (Pie)                 0.8                 0.4   \n",
            "15          (Toast)         (Nectar)                 0.8                 0.6   \n",
            "20          (Nappy)  (Nectar, Dairy)                 0.8                 0.4   \n",
            "31          (Nappy)   (Dairy, Toast)                 0.8                 0.6   \n",
            "25          (Nappy)     (Dairy, Pie)                 0.8                 0.4   \n",
            "26          (Dairy)     (Nappy, Pie)                 0.8                 0.4   \n",
            "32          (Dairy)   (Nappy, Toast)                 0.8                 0.6   \n",
            "33          (Toast)   (Nappy, Dairy)                 0.8                 0.6   \n",
            "38          (Nappy)  (Nectar, Toast)                 0.8                 0.4   \n",
            "39          (Toast)  (Nectar, Nappy)                 0.8                 0.6   \n",
            "\n",
            "    support  confidence      lift  representativity  leverage  conviction  \\\n",
            "5       0.4    1.000000  1.250000               1.0      0.08         inf   \n",
            "24      0.4    1.000000  1.250000               1.0      0.08         inf   \n",
            "35      0.4    1.000000  1.250000               1.0      0.08         inf   \n",
            "27      0.4    1.000000  1.666667               1.0      0.16         inf   \n",
            "17      0.4    1.000000  1.250000               1.0      0.08         inf   \n",
            "23      0.4    1.000000  1.250000               1.0      0.08         inf   \n",
            "11      0.4    1.000000  1.250000               1.0      0.08         inf   \n",
            "8       0.6    1.000000  1.250000               1.0      0.12         inf   \n",
            "9       0.6    0.750000  1.250000               1.0      0.12         1.6   \n",
            "12      0.6    0.750000  0.937500               1.0     -0.04         0.8   \n",
            "0       0.6    0.750000  0.937500               1.0     -0.04         0.8   \n",
            "7       0.6    0.750000  0.937500               1.0     -0.04         0.8   \n",
            "1       0.6    0.750000  0.937500               1.0     -0.04         0.8   \n",
            "6       0.6    0.750000  0.937500               1.0     -0.04         0.8   \n",
            "13      0.6    0.750000  0.937500               1.0     -0.04         0.8   \n",
            "2       0.4    0.666667  0.833333               1.0     -0.08         0.6   \n",
            "36      0.4    0.666667  1.111111               1.0      0.04         1.2   \n",
            "37      0.4    0.666667  1.111111               1.0      0.04         1.2   \n",
            "19      0.4    0.666667  1.111111               1.0      0.04         1.2   \n",
            "16      0.4    0.666667  0.833333               1.0     -0.08         0.6   \n",
            "29      0.4    0.666667  0.833333               1.0     -0.08         0.6   \n",
            "22      0.4    0.666667  1.666667               1.0      0.16         1.8   \n",
            "18      0.4    0.666667  1.111111               1.0      0.04         1.2   \n",
            "14      0.4    0.666667  0.833333               1.0     -0.08         0.6   \n",
            "30      0.4    0.666667  0.833333               1.0     -0.08         0.6   \n",
            "28      0.4    0.666667  0.833333               1.0     -0.08         0.6   \n",
            "34      0.4    0.666667  0.833333               1.0     -0.08         0.6   \n",
            "3       0.4    0.500000  0.833333               1.0     -0.08         0.8   \n",
            "4       0.4    0.500000  1.250000               1.0      0.08         1.2   \n",
            "21      0.4    0.500000  0.833333               1.0     -0.08         0.8   \n",
            "10      0.4    0.500000  1.250000               1.0      0.08         1.2   \n",
            "15      0.4    0.500000  0.833333               1.0     -0.08         0.8   \n",
            "20      0.4    0.500000  1.250000               1.0      0.08         1.2   \n",
            "31      0.4    0.500000  0.833333               1.0     -0.08         0.8   \n",
            "25      0.4    0.500000  1.250000               1.0      0.08         1.2   \n",
            "26      0.4    0.500000  1.250000               1.0      0.08         1.2   \n",
            "32      0.4    0.500000  0.833333               1.0     -0.08         0.8   \n",
            "33      0.4    0.500000  0.833333               1.0     -0.08         0.8   \n",
            "38      0.4    0.500000  1.250000               1.0      0.08         1.2   \n",
            "39      0.4    0.500000  0.833333               1.0     -0.08         0.8   \n",
            "\n",
            "    zhangs_metric   jaccard  certainty  kulczynski  \n",
            "5        0.333333  0.500000   1.000000    0.750000  \n",
            "24       0.333333  0.500000   1.000000    0.750000  \n",
            "35       0.333333  0.500000   1.000000    0.750000  \n",
            "27       0.666667  0.666667   1.000000    0.833333  \n",
            "17       0.333333  0.500000   1.000000    0.750000  \n",
            "23       0.333333  0.500000   1.000000    0.750000  \n",
            "11       0.333333  0.500000   1.000000    0.750000  \n",
            "8        0.500000  0.750000   1.000000    0.875000  \n",
            "9        1.000000  0.750000   0.375000    0.875000  \n",
            "12      -0.250000  0.600000  -0.250000    0.750000  \n",
            "0       -0.250000  0.600000  -0.250000    0.750000  \n",
            "7       -0.250000  0.600000  -0.250000    0.750000  \n",
            "1       -0.250000  0.600000  -0.250000    0.750000  \n",
            "6       -0.250000  0.600000  -0.250000    0.750000  \n",
            "13      -0.250000  0.600000  -0.250000    0.750000  \n",
            "2       -0.333333  0.400000  -0.666667    0.583333  \n",
            "36       0.250000  0.500000   0.166667    0.666667  \n",
            "37       0.250000  0.500000   0.166667    0.666667  \n",
            "19       0.250000  0.500000   0.166667    0.666667  \n",
            "16      -0.333333  0.400000  -0.666667    0.583333  \n",
            "29      -0.333333  0.400000  -0.666667    0.583333  \n",
            "22       1.000000  0.666667   0.444444    0.833333  \n",
            "18       0.250000  0.500000   0.166667    0.666667  \n",
            "14      -0.333333  0.400000  -0.666667    0.583333  \n",
            "30      -0.333333  0.400000  -0.666667    0.583333  \n",
            "28      -0.333333  0.400000  -0.666667    0.583333  \n",
            "34      -0.333333  0.400000  -0.666667    0.583333  \n",
            "3       -0.500000  0.400000  -0.250000    0.583333  \n",
            "4        1.000000  0.500000   0.166667    0.750000  \n",
            "21      -0.500000  0.400000  -0.250000    0.583333  \n",
            "10       1.000000  0.500000   0.166667    0.750000  \n",
            "15      -0.500000  0.400000  -0.250000    0.583333  \n",
            "20       1.000000  0.500000   0.166667    0.750000  \n",
            "31      -0.500000  0.400000  -0.250000    0.583333  \n",
            "25       1.000000  0.500000   0.166667    0.750000  \n",
            "26       1.000000  0.500000   0.166667    0.750000  \n",
            "32      -0.500000  0.400000  -0.250000    0.583333  \n",
            "33      -0.500000  0.400000  -0.250000    0.583333  \n",
            "38       1.000000  0.500000   0.166667    0.750000  \n",
            "39      -0.500000  0.400000  -0.250000    0.583333  \n"
          ]
        }
      ]
    },
    {
      "cell_type": "markdown",
      "source": [
        "This output presents a set of association rules derived from transaction data, including antecedents, consequents, and various support and confidence metrics. These rules help identify relationships between products based on consumer purchasing behavior.\n",
        "\n",
        "Key Observations\n",
        "High Confidence Rules:\n",
        "\n",
        "Many rules exhibit a confidence of 1.0, indicating a perfect correlation between the antecedents and their consequents. For example, the rule (Pie) → (Dairy) shows that every time Pie is purchased, Dairy is also purchased.\n",
        "This suggests strong dependencies among specific products, particularly involving Dairy and Nappy.\n",
        "Support Metrics:\n",
        "\n",
        "The support values for many rules are at 0.4 or higher, showing a reasonable frequency of the item combinations in the dataset. For instance, the rules involving (Nectar, Toast) leading to (Nappy) have a support of 0.4, indicating that this combination occurs frequently.\n",
        "Lift Values:\n",
        "\n",
        "Lift values greater than 1 indicate a positive association between antecedents and consequents. For instance, the rule (Pie) → (Dairy) has a lift of 1.25, suggesting that the likelihood of purchasing Dairy increases when Pie is purchased.\n",
        "However, several rules have lift values below 1, indicating no significant association, which could be worth exploring further for potential adjustments in marketing strategies.\n",
        "Diverse Antecedents:\n",
        "\n",
        "A variety of antecedents lead to the same consequent (e.g., Nappy). This suggests that multiple products are commonly purchased together with Nappy, including Dairy, Nectar, and Toast.\n",
        "Negative Metrics:\n",
        "\n",
        "Some metrics, such as certainty and zhangs_metric, show negative values for certain combinations. This indicates a weak or negative correlation, suggesting that these particular combinations may not be beneficial for marketing strategies.\n",
        "Conclusion\n",
        "The analysis reveals strong associations between certain products, especially Dairy and Nappy, with high confidence levels indicating reliable purchasing behavior. The rules can guide promotional strategies, such as bundling products that frequently appear together."
      ],
      "metadata": {
        "id": "G10_SjhCUitJ"
      }
    },
    {
      "cell_type": "code",
      "source": [
        " from matplotlib import pyplot as plt\n",
        " from pandas.plotting import parallel_coordinates\n",
        "\n",
        " def combination_to_coordinate(combination):\n",
        "  combination['antecedent'] = combination['antecedent'].apply(lambda antecedent:list(antecedent)[0])\n",
        "  combination['consequent'] = combination['consequent'].apply(lambda consequent : list(consequent)[0])\n",
        "  combination['combination_sets'] = combination.index\n",
        "\n",
        "  return combination[['antecedent', 'consequent', 'combination_sets']]\n",
        "\n",
        "  position = combination_to_coordinate(combination)\n",
        "  parallel_coordinates(position, 'combination_sets')\n",
        "\n",
        "plt.figure(figsize=(9, 6))\n",
        "plt.grid(True)\n",
        "plt.show()"
      ],
      "metadata": {
        "id": "IKcLycfUU2YV",
        "colab": {
          "base_uri": "https://localhost:8080/",
          "height": 528
        },
        "outputId": "b1efe03d-b5da-46ac-eaf9-8d3a03bd38ff"
      },
      "execution_count": 8,
      "outputs": [
        {
          "output_type": "display_data",
          "data": {
            "text/plain": [
              "<Figure size 900x600 with 1 Axes>"
            ],
            "image/png": "[encoded data removed]"
          },
          "metadata": {}
        }
      ]
    },
    {
      "cell_type": "markdown",
      "source": [],
      "metadata": {
        "id": "WHO-xYb5U_Bv"
      }
    }
  ]
}