{
 "cells": [
  {
   "cell_type": "code",
   "execution_count": 1,
   "id": "a3ad1e3c",
   "metadata": {
    "_cell_guid": "b1076dfc-b9ad-4769-8c92-a6c4dae69d19",
    "_uuid": "8f2839f25d086af736a60e9eeb907d3b93b6e0e5",
    "execution": {
     "iopub.execute_input": "2025-06-28T08:07:16.260571Z",
     "iopub.status.busy": "2025-06-28T08:07:16.260186Z",
     "iopub.status.idle": "2025-06-28T08:07:18.134009Z",
     "shell.execute_reply": "2025-06-28T08:07:18.132877Z"
    },
    "papermill": {
     "duration": 1.881677,
     "end_time": "2025-06-28T08:07:18.135615",
     "exception": false,
     "start_time": "2025-06-28T08:07:16.253938",
     "status": "completed"
    },
    "tags": []
   },
   "outputs": [
    {
     "name": "stdout",
     "output_type": "stream",
     "text": [
      "/kaggle/input/heart-attack-prediction/data.csv\n"
     ]
    }
   ],
   "source": [
    "# This Python 3 environment comes with many helpful analytics libraries installed\n",
    "# It is defined by the kaggle/python Docker image: https://github.com/kaggle/docker-python\n",
    "# For example, here's several helpful packages to load\n",
    "\n",
    "import numpy as np # linear algebra\n",
    "import pandas as pd # data processing, CSV file I/O (e.g. pd.read_csv)\n",
    "\n",
    "# Input data files are available in the read-only \"../input/\" directory\n",
    "# For example, running this (by clicking run or pressing Shift+Enter) will list all files under the input directory\n",
    "\n",
    "import os\n",
    "for dirname, _, filenames in os.walk('/kaggle/input'):\n",
    "    for filename in filenames:\n",
    "        print(os.path.join(dirname, filename))\n",
    "\n",
    "# You can write up to 20GB to the current directory (/kaggle/working/) that gets preserved as output when you create a version using \"Save & Run All\" \n",
    "# You can also write temporary files to /kaggle/temp/, but they won't be saved outside of the current session"
   ]
  },
  {
   "cell_type": "code",
   "execution_count": 2,
   "id": "9f7afded",
   "metadata": {
    "execution": {
     "iopub.execute_input": "2025-06-28T08:07:18.146187Z",
     "iopub.status.busy": "2025-06-28T08:07:18.145428Z",
     "iopub.status.idle": "2025-06-28T08:07:18.192233Z",
     "shell.execute_reply": "2025-06-28T08:07:18.191193Z"
    },
    "papermill": {
     "duration": 0.053701,
     "end_time": "2025-06-28T08:07:18.193897",
     "exception": false,
     "start_time": "2025-06-28T08:07:18.140196",
     "status": "completed"
    },
    "tags": []
   },
   "outputs": [
    {
     "name": "stderr",
     "output_type": "stream",
     "text": [
      "/usr/local/lib/python3.11/dist-packages/pandas/io/formats/format.py:1458: RuntimeWarning: invalid value encountered in greater\n",
      "  has_large_values = (abs_vals > 1e6).any()\n",
      "/usr/local/lib/python3.11/dist-packages/pandas/io/formats/format.py:1459: RuntimeWarning: invalid value encountered in less\n",
      "  has_small_values = ((abs_vals < 10 ** (-self.digits)) & (abs_vals > 0)).any()\n",
      "/usr/local/lib/python3.11/dist-packages/pandas/io/formats/format.py:1459: RuntimeWarning: invalid value encountered in greater\n",
      "  has_small_values = ((abs_vals < 10 ** (-self.digits)) & (abs_vals > 0)).any()\n"
     ]
    },
    {
     "data": {
      "text/html": [
       "<div>\n",
       "<style scoped>\n",
       "    .dataframe tbody tr th:only-of-type {\n",
       "        vertical-align: middle;\n",
       "    }\n",
       "\n",
       "    .dataframe tbody tr th {\n",
       "        vertical-align: top;\n",
       "    }\n",
       "\n",
       "    .dataframe thead th {\n",
       "        text-align: right;\n",
       "    }\n",
       "</style>\n",
       "<table border=\"1\" class=\"dataframe\">\n",
       "  <thead>\n",
       "    <tr style=\"text-align: right;\">\n",
       "      <th></th>\n",
       "      <th>age</th>\n",
       "      <th>sex</th>\n",
       "      <th>cp</th>\n",
       "      <th>trestbps</th>\n",
       "      <th>chol</th>\n",
       "      <th>fbs</th>\n",
       "      <th>restecg</th>\n",
       "      <th>thalach</th>\n",
       "      <th>exang</th>\n",
       "      <th>oldpeak</th>\n",
       "      <th>slope</th>\n",
       "      <th>ca</th>\n",
       "      <th>thal</th>\n",
       "      <th>num</th>\n",
       "    </tr>\n",
       "  </thead>\n",
       "  <tbody>\n",
       "    <tr>\n",
       "      <th>0</th>\n",
       "      <td>28</td>\n",
       "      <td>1</td>\n",
       "      <td>2</td>\n",
       "      <td>130.0</td>\n",
       "      <td>132.0</td>\n",
       "      <td>0.0</td>\n",
       "      <td>2.0</td>\n",
       "      <td>185.0</td>\n",
       "      <td>0.0</td>\n",
       "      <td>0.0</td>\n",
       "      <td>NaN</td>\n",
       "      <td>NaN</td>\n",
       "      <td>NaN</td>\n",
       "      <td>0</td>\n",
       "    </tr>\n",
       "    <tr>\n",
       "      <th>1</th>\n",
       "      <td>29</td>\n",
       "      <td>1</td>\n",
       "      <td>2</td>\n",
       "      <td>120.0</td>\n",
       "      <td>243.0</td>\n",
       "      <td>0.0</td>\n",
       "      <td>0.0</td>\n",
       "      <td>160.0</td>\n",
       "      <td>0.0</td>\n",
       "      <td>0.0</td>\n",
       "      <td>NaN</td>\n",
       "      <td>NaN</td>\n",
       "      <td>NaN</td>\n",
       "      <td>0</td>\n",
       "    </tr>\n",
       "    <tr>\n",
       "      <th>2</th>\n",
       "      <td>29</td>\n",
       "      <td>1</td>\n",
       "      <td>2</td>\n",
       "      <td>140.0</td>\n",
       "      <td>NaN</td>\n",
       "      <td>0.0</td>\n",
       "      <td>0.0</td>\n",
       "      <td>170.0</td>\n",
       "      <td>0.0</td>\n",
       "      <td>0.0</td>\n",
       "      <td>NaN</td>\n",
       "      <td>NaN</td>\n",
       "      <td>NaN</td>\n",
       "      <td>0</td>\n",
       "    </tr>\n",
       "    <tr>\n",
       "      <th>3</th>\n",
       "      <td>30</td>\n",
       "      <td>0</td>\n",
       "      <td>1</td>\n",
       "      <td>170.0</td>\n",
       "      <td>237.0</td>\n",
       "      <td>0.0</td>\n",
       "      <td>1.0</td>\n",
       "      <td>170.0</td>\n",
       "      <td>0.0</td>\n",
       "      <td>0.0</td>\n",
       "      <td>NaN</td>\n",
       "      <td>NaN</td>\n",
       "      <td>6.0</td>\n",
       "      <td>0</td>\n",
       "    </tr>\n",
       "    <tr>\n",
       "      <th>4</th>\n",
       "      <td>31</td>\n",
       "      <td>0</td>\n",
       "      <td>2</td>\n",
       "      <td>100.0</td>\n",
       "      <td>219.0</td>\n",
       "      <td>0.0</td>\n",
       "      <td>1.0</td>\n",
       "      <td>150.0</td>\n",
       "      <td>0.0</td>\n",
       "      <td>0.0</td>\n",
       "      <td>NaN</td>\n",
       "      <td>NaN</td>\n",
       "      <td>NaN</td>\n",
       "      <td>0</td>\n",
       "    </tr>\n",
       "  </tbody>\n",
       "</table>\n",
       "</div>"
      ],
      "text/plain": [
       "   age  sex  cp  trestbps   chol  fbs  restecg  thalach  exang  oldpeak  \\\n",
       "0   28    1   2     130.0  132.0  0.0      2.0    185.0    0.0      0.0   \n",
       "1   29    1   2     120.0  243.0  0.0      0.0    160.0    0.0      0.0   \n",
       "2   29    1   2     140.0    NaN  0.0      0.0    170.0    0.0      0.0   \n",
       "3   30    0   1     170.0  237.0  0.0      1.0    170.0    0.0      0.0   \n",
       "4   31    0   2     100.0  219.0  0.0      1.0    150.0    0.0      0.0   \n",
       "\n",
       "   slope  ca  thal  num         \n",
       "0    NaN NaN   NaN           0  \n",
       "1    NaN NaN   NaN           0  \n",
       "2    NaN NaN   NaN           0  \n",
       "3    NaN NaN   6.0           0  \n",
       "4    NaN NaN   NaN           0  "
      ]
     },
     "execution_count": 2,
     "metadata": {},
     "output_type": "execute_result"
    }
   ],
   "source": [
    "data = pd.read_csv('/kaggle/input/heart-attack-prediction/data.csv', na_values='?')\n",
    "data.head()"
   ]
  },
  {
   "cell_type": "code",
   "execution_count": 3,
   "id": "685b71cb",
   "metadata": {
    "execution": {
     "iopub.execute_input": "2025-06-28T08:07:18.205031Z",
     "iopub.status.busy": "2025-06-28T08:07:18.204451Z",
     "iopub.status.idle": "2025-06-28T08:07:18.214549Z",
     "shell.execute_reply": "2025-06-28T08:07:18.213675Z"
    },
    "papermill": {
     "duration": 0.017466,
     "end_time": "2025-06-28T08:07:18.216111",
     "exception": false,
     "start_time": "2025-06-28T08:07:18.198645",
     "status": "completed"
    },
    "tags": []
   },
   "outputs": [
    {
     "data": {
      "text/plain": [
       "age             0\n",
       "sex             0\n",
       "cp              0\n",
       "trestbps        1\n",
       "chol           23\n",
       "fbs             8\n",
       "restecg         1\n",
       "thalach         1\n",
       "exang           1\n",
       "oldpeak         0\n",
       "slope         190\n",
       "ca            291\n",
       "thal          266\n",
       "num             0\n",
       "dtype: int64"
      ]
     },
     "execution_count": 3,
     "metadata": {},
     "output_type": "execute_result"
    }
   ],
   "source": [
    "data.isnull().sum()"
   ]
  },
  {
   "cell_type": "code",
   "execution_count": 4,
   "id": "266f3267",
   "metadata": {
    "execution": {
     "iopub.execute_input": "2025-06-28T08:07:18.226990Z",
     "iopub.status.busy": "2025-06-28T08:07:18.226669Z",
     "iopub.status.idle": "2025-06-28T08:07:18.249820Z",
     "shell.execute_reply": "2025-06-28T08:07:18.248955Z"
    },
    "papermill": {
     "duration": 0.030213,
     "end_time": "2025-06-28T08:07:18.251255",
     "exception": false,
     "start_time": "2025-06-28T08:07:18.221042",
     "status": "completed"
    },
    "tags": []
   },
   "outputs": [
    {
     "name": "stderr",
     "output_type": "stream",
     "text": [
      "/usr/local/lib/python3.11/dist-packages/pandas/io/formats/format.py:1458: RuntimeWarning: invalid value encountered in greater\n",
      "  has_large_values = (abs_vals > 1e6).any()\n",
      "/usr/local/lib/python3.11/dist-packages/pandas/io/formats/format.py:1459: RuntimeWarning: invalid value encountered in less\n",
      "  has_small_values = ((abs_vals < 10 ** (-self.digits)) & (abs_vals > 0)).any()\n",
      "/usr/local/lib/python3.11/dist-packages/pandas/io/formats/format.py:1459: RuntimeWarning: invalid value encountered in greater\n",
      "  has_small_values = ((abs_vals < 10 ** (-self.digits)) & (abs_vals > 0)).any()\n"
     ]
    },
    {
     "data": {
      "text/html": [
       "<div>\n",
       "<style scoped>\n",
       "    .dataframe tbody tr th:only-of-type {\n",
       "        vertical-align: middle;\n",
       "    }\n",
       "\n",
       "    .dataframe tbody tr th {\n",
       "        vertical-align: top;\n",
       "    }\n",
       "\n",
       "    .dataframe thead th {\n",
       "        text-align: right;\n",
       "    }\n",
       "</style>\n",
       "<table border=\"1\" class=\"dataframe\">\n",
       "  <thead>\n",
       "    <tr style=\"text-align: right;\">\n",
       "      <th></th>\n",
       "      <th>age</th>\n",
       "      <th>sex</th>\n",
       "      <th>cp</th>\n",
       "      <th>trestbps</th>\n",
       "      <th>chol</th>\n",
       "      <th>fbs</th>\n",
       "      <th>restecg</th>\n",
       "      <th>thalach</th>\n",
       "      <th>exang</th>\n",
       "      <th>oldpeak</th>\n",
       "      <th>num</th>\n",
       "    </tr>\n",
       "  </thead>\n",
       "  <tbody>\n",
       "    <tr>\n",
       "      <th>0</th>\n",
       "      <td>28</td>\n",
       "      <td>1</td>\n",
       "      <td>2</td>\n",
       "      <td>130.0</td>\n",
       "      <td>132.0</td>\n",
       "      <td>0.0</td>\n",
       "      <td>2.0</td>\n",
       "      <td>185.0</td>\n",
       "      <td>0.0</td>\n",
       "      <td>0.0</td>\n",
       "      <td>0</td>\n",
       "    </tr>\n",
       "    <tr>\n",
       "      <th>1</th>\n",
       "      <td>29</td>\n",
       "      <td>1</td>\n",
       "      <td>2</td>\n",
       "      <td>120.0</td>\n",
       "      <td>243.0</td>\n",
       "      <td>0.0</td>\n",
       "      <td>0.0</td>\n",
       "      <td>160.0</td>\n",
       "      <td>0.0</td>\n",
       "      <td>0.0</td>\n",
       "      <td>0</td>\n",
       "    </tr>\n",
       "    <tr>\n",
       "      <th>2</th>\n",
       "      <td>29</td>\n",
       "      <td>1</td>\n",
       "      <td>2</td>\n",
       "      <td>140.0</td>\n",
       "      <td>NaN</td>\n",
       "      <td>0.0</td>\n",
       "      <td>0.0</td>\n",
       "      <td>170.0</td>\n",
       "      <td>0.0</td>\n",
       "      <td>0.0</td>\n",
       "      <td>0</td>\n",
       "    </tr>\n",
       "    <tr>\n",
       "      <th>3</th>\n",
       "      <td>30</td>\n",
       "      <td>0</td>\n",
       "      <td>1</td>\n",
       "      <td>170.0</td>\n",
       "      <td>237.0</td>\n",
       "      <td>0.0</td>\n",
       "      <td>1.0</td>\n",
       "      <td>170.0</td>\n",
       "      <td>0.0</td>\n",
       "      <td>0.0</td>\n",
       "      <td>0</td>\n",
       "    </tr>\n",
       "    <tr>\n",
       "      <th>4</th>\n",
       "      <td>31</td>\n",
       "      <td>0</td>\n",
       "      <td>2</td>\n",
       "      <td>100.0</td>\n",
       "      <td>219.0</td>\n",
       "      <td>0.0</td>\n",
       "      <td>1.0</td>\n",
       "      <td>150.0</td>\n",
       "      <td>0.0</td>\n",
       "      <td>0.0</td>\n",
       "      <td>0</td>\n",
       "    </tr>\n",
       "  </tbody>\n",
       "</table>\n",
       "</div>"
      ],
      "text/plain": [
       "   age  sex  cp  trestbps   chol  fbs  restecg  thalach  exang  oldpeak  \\\n",
       "0   28    1   2     130.0  132.0  0.0      2.0    185.0    0.0      0.0   \n",
       "1   29    1   2     120.0  243.0  0.0      0.0    160.0    0.0      0.0   \n",
       "2   29    1   2     140.0    NaN  0.0      0.0    170.0    0.0      0.0   \n",
       "3   30    0   1     170.0  237.0  0.0      1.0    170.0    0.0      0.0   \n",
       "4   31    0   2     100.0  219.0  0.0      1.0    150.0    0.0      0.0   \n",
       "\n",
       "   num         \n",
       "0           0  \n",
       "1           0  \n",
       "2           0  \n",
       "3           0  \n",
       "4           0  "
      ]
     },
     "execution_count": 4,
     "metadata": {},
     "output_type": "execute_result"
    }
   ],
   "source": [
    "data = data.drop(['slope', 'ca', 'thal'], axis=1)\n",
    "data.head()"
   ]
  },
  {
   "cell_type": "code",
   "execution_count": 5,
   "id": "d6fff400",
   "metadata": {
    "execution": {
     "iopub.execute_input": "2025-06-28T08:07:18.262663Z",
     "iopub.status.busy": "2025-06-28T08:07:18.262325Z",
     "iopub.status.idle": "2025-06-28T08:07:18.268000Z",
     "shell.execute_reply": "2025-06-28T08:07:18.267158Z"
    },
    "papermill": {
     "duration": 0.013158,
     "end_time": "2025-06-28T08:07:18.269324",
     "exception": false,
     "start_time": "2025-06-28T08:07:18.256166",
     "status": "completed"
    },
    "tags": []
   },
   "outputs": [],
   "source": [
    "data['trestbps'] = data['trestbps'].fillna(data['trestbps'].median())"
   ]
  },
  {
   "cell_type": "code",
   "execution_count": 6,
   "id": "bce13e9f",
   "metadata": {
    "execution": {
     "iopub.execute_input": "2025-06-28T08:07:18.280105Z",
     "iopub.status.busy": "2025-06-28T08:07:18.279798Z",
     "iopub.status.idle": "2025-06-28T08:07:18.285248Z",
     "shell.execute_reply": "2025-06-28T08:07:18.284368Z"
    },
    "papermill": {
     "duration": 0.012538,
     "end_time": "2025-06-28T08:07:18.286657",
     "exception": false,
     "start_time": "2025-06-28T08:07:18.274119",
     "status": "completed"
    },
    "tags": []
   },
   "outputs": [],
   "source": [
    "data['chol'] = data['chol'].fillna(data['chol'].median())"
   ]
  },
  {
   "cell_type": "code",
   "execution_count": 7,
   "id": "5cef10cd",
   "metadata": {
    "execution": {
     "iopub.execute_input": "2025-06-28T08:07:18.297139Z",
     "iopub.status.busy": "2025-06-28T08:07:18.296882Z",
     "iopub.status.idle": "2025-06-28T08:07:18.301990Z",
     "shell.execute_reply": "2025-06-28T08:07:18.301100Z"
    },
    "papermill": {
     "duration": 0.011775,
     "end_time": "2025-06-28T08:07:18.303315",
     "exception": false,
     "start_time": "2025-06-28T08:07:18.291540",
     "status": "completed"
    },
    "tags": []
   },
   "outputs": [],
   "source": [
    "data['fbs'] = data['fbs'].fillna(data['fbs'].median())"
   ]
  },
  {
   "cell_type": "code",
   "execution_count": 8,
   "id": "32b39d09",
   "metadata": {
    "execution": {
     "iopub.execute_input": "2025-06-28T08:07:18.313725Z",
     "iopub.status.busy": "2025-06-28T08:07:18.313412Z",
     "iopub.status.idle": "2025-06-28T08:07:18.318250Z",
     "shell.execute_reply": "2025-06-28T08:07:18.317571Z"
    },
    "papermill": {
     "duration": 0.011515,
     "end_time": "2025-06-28T08:07:18.319500",
     "exception": false,
     "start_time": "2025-06-28T08:07:18.307985",
     "status": "completed"
    },
    "tags": []
   },
   "outputs": [],
   "source": [
    "data['restecg'] = data['restecg'].fillna(data['restecg'].median())"
   ]
  },
  {
   "cell_type": "code",
   "execution_count": 9,
   "id": "fb8eefd2",
   "metadata": {
    "execution": {
     "iopub.execute_input": "2025-06-28T08:07:18.330515Z",
     "iopub.status.busy": "2025-06-28T08:07:18.329651Z",
     "iopub.status.idle": "2025-06-28T08:07:18.334724Z",
     "shell.execute_reply": "2025-06-28T08:07:18.333906Z"
    },
    "papermill": {
     "duration": 0.011856,
     "end_time": "2025-06-28T08:07:18.336063",
     "exception": false,
     "start_time": "2025-06-28T08:07:18.324207",
     "status": "completed"
    },
    "tags": []
   },
   "outputs": [],
   "source": [
    "data['thalach'] = data['thalach'].fillna(data['thalach'].median())"
   ]
  },
  {
   "cell_type": "code",
   "execution_count": 10,
   "id": "1e85ce43",
   "metadata": {
    "execution": {
     "iopub.execute_input": "2025-06-28T08:07:18.347275Z",
     "iopub.status.busy": "2025-06-28T08:07:18.346315Z",
     "iopub.status.idle": "2025-06-28T08:07:18.354478Z",
     "shell.execute_reply": "2025-06-28T08:07:18.353792Z"
    },
    "papermill": {
     "duration": 0.014822,
     "end_time": "2025-06-28T08:07:18.355840",
     "exception": false,
     "start_time": "2025-06-28T08:07:18.341018",
     "status": "completed"
    },
    "tags": []
   },
   "outputs": [],
   "source": [
    "data['exang'] = data['exang'].fillna(data['exang'].mode()[0])"
   ]
  },
  {
   "cell_type": "code",
   "execution_count": 11,
   "id": "67451093",
   "metadata": {
    "execution": {
     "iopub.execute_input": "2025-06-28T08:07:18.366291Z",
     "iopub.status.busy": "2025-06-28T08:07:18.366020Z",
     "iopub.status.idle": "2025-06-28T08:07:18.380160Z",
     "shell.execute_reply": "2025-06-28T08:07:18.379435Z"
    },
    "papermill": {
     "duration": 0.020927,
     "end_time": "2025-06-28T08:07:18.381458",
     "exception": false,
     "start_time": "2025-06-28T08:07:18.360531",
     "status": "completed"
    },
    "tags": []
   },
   "outputs": [
    {
     "data": {
      "text/html": [
       "<div>\n",
       "<style scoped>\n",
       "    .dataframe tbody tr th:only-of-type {\n",
       "        vertical-align: middle;\n",
       "    }\n",
       "\n",
       "    .dataframe tbody tr th {\n",
       "        vertical-align: top;\n",
       "    }\n",
       "\n",
       "    .dataframe thead th {\n",
       "        text-align: right;\n",
       "    }\n",
       "</style>\n",
       "<table border=\"1\" class=\"dataframe\">\n",
       "  <thead>\n",
       "    <tr style=\"text-align: right;\">\n",
       "      <th></th>\n",
       "      <th>age</th>\n",
       "      <th>sex</th>\n",
       "      <th>cp</th>\n",
       "      <th>trestbps</th>\n",
       "      <th>chol</th>\n",
       "      <th>fbs</th>\n",
       "      <th>restecg</th>\n",
       "      <th>thalach</th>\n",
       "      <th>exang</th>\n",
       "      <th>oldpeak</th>\n",
       "      <th>num</th>\n",
       "    </tr>\n",
       "  </thead>\n",
       "  <tbody>\n",
       "    <tr>\n",
       "      <th>0</th>\n",
       "      <td>28</td>\n",
       "      <td>1</td>\n",
       "      <td>2</td>\n",
       "      <td>130.0</td>\n",
       "      <td>132.0</td>\n",
       "      <td>0.0</td>\n",
       "      <td>2.0</td>\n",
       "      <td>185.0</td>\n",
       "      <td>0.0</td>\n",
       "      <td>0.0</td>\n",
       "      <td>0</td>\n",
       "    </tr>\n",
       "    <tr>\n",
       "      <th>1</th>\n",
       "      <td>29</td>\n",
       "      <td>1</td>\n",
       "      <td>2</td>\n",
       "      <td>120.0</td>\n",
       "      <td>243.0</td>\n",
       "      <td>0.0</td>\n",
       "      <td>0.0</td>\n",
       "      <td>160.0</td>\n",
       "      <td>0.0</td>\n",
       "      <td>0.0</td>\n",
       "      <td>0</td>\n",
       "    </tr>\n",
       "    <tr>\n",
       "      <th>2</th>\n",
       "      <td>29</td>\n",
       "      <td>1</td>\n",
       "      <td>2</td>\n",
       "      <td>140.0</td>\n",
       "      <td>243.0</td>\n",
       "      <td>0.0</td>\n",
       "      <td>0.0</td>\n",
       "      <td>170.0</td>\n",
       "      <td>0.0</td>\n",
       "      <td>0.0</td>\n",
       "      <td>0</td>\n",
       "    </tr>\n",
       "    <tr>\n",
       "      <th>3</th>\n",
       "      <td>30</td>\n",
       "      <td>0</td>\n",
       "      <td>1</td>\n",
       "      <td>170.0</td>\n",
       "      <td>237.0</td>\n",
       "      <td>0.0</td>\n",
       "      <td>1.0</td>\n",
       "      <td>170.0</td>\n",
       "      <td>0.0</td>\n",
       "      <td>0.0</td>\n",
       "      <td>0</td>\n",
       "    </tr>\n",
       "    <tr>\n",
       "      <th>4</th>\n",
       "      <td>31</td>\n",
       "      <td>0</td>\n",
       "      <td>2</td>\n",
       "      <td>100.0</td>\n",
       "      <td>219.0</td>\n",
       "      <td>0.0</td>\n",
       "      <td>1.0</td>\n",
       "      <td>150.0</td>\n",
       "      <td>0.0</td>\n",
       "      <td>0.0</td>\n",
       "      <td>0</td>\n",
       "    </tr>\n",
       "  </tbody>\n",
       "</table>\n",
       "</div>"
      ],
      "text/plain": [
       "   age  sex  cp  trestbps   chol  fbs  restecg  thalach  exang  oldpeak  \\\n",
       "0   28    1   2     130.0  132.0  0.0      2.0    185.0    0.0      0.0   \n",
       "1   29    1   2     120.0  243.0  0.0      0.0    160.0    0.0      0.0   \n",
       "2   29    1   2     140.0  243.0  0.0      0.0    170.0    0.0      0.0   \n",
       "3   30    0   1     170.0  237.0  0.0      1.0    170.0    0.0      0.0   \n",
       "4   31    0   2     100.0  219.0  0.0      1.0    150.0    0.0      0.0   \n",
       "\n",
       "   num         \n",
       "0           0  \n",
       "1           0  \n",
       "2           0  \n",
       "3           0  \n",
       "4           0  "
      ]
     },
     "execution_count": 11,
     "metadata": {},
     "output_type": "execute_result"
    }
   ],
   "source": [
    "data.head()"
   ]
  },
  {
   "cell_type": "code",
   "execution_count": 12,
   "id": "ada7b7b9",
   "metadata": {
    "execution": {
     "iopub.execute_input": "2025-06-28T08:07:18.392336Z",
     "iopub.status.busy": "2025-06-28T08:07:18.392079Z",
     "iopub.status.idle": "2025-06-28T08:07:19.799424Z",
     "shell.execute_reply": "2025-06-28T08:07:19.798726Z"
    },
    "papermill": {
     "duration": 1.414606,
     "end_time": "2025-06-28T08:07:19.800940",
     "exception": false,
     "start_time": "2025-06-28T08:07:18.386334",
     "status": "completed"
    },
    "tags": []
   },
   "outputs": [],
   "source": [
    "from sklearn.preprocessing import StandardScaler\n",
    "\n",
    "# choose numerical column\n",
    "num_cols = ['age', 'trestbps', 'chol', 'thalach', 'oldpeak']\n",
    "\n",
    "scaler = StandardScaler()\n",
    "data[num_cols] = scaler.fit_transform(data[num_cols])\n"
   ]
  },
  {
   "cell_type": "code",
   "execution_count": 13,
   "id": "aee85e78",
   "metadata": {
    "execution": {
     "iopub.execute_input": "2025-06-28T08:07:19.812027Z",
     "iopub.status.busy": "2025-06-28T08:07:19.811436Z",
     "iopub.status.idle": "2025-06-28T08:07:19.825312Z",
     "shell.execute_reply": "2025-06-28T08:07:19.824511Z"
    },
    "papermill": {
     "duration": 0.020882,
     "end_time": "2025-06-28T08:07:19.826740",
     "exception": false,
     "start_time": "2025-06-28T08:07:19.805858",
     "status": "completed"
    },
    "tags": []
   },
   "outputs": [
    {
     "data": {
      "text/html": [
       "<div>\n",
       "<style scoped>\n",
       "    .dataframe tbody tr th:only-of-type {\n",
       "        vertical-align: middle;\n",
       "    }\n",
       "\n",
       "    .dataframe tbody tr th {\n",
       "        vertical-align: top;\n",
       "    }\n",
       "\n",
       "    .dataframe thead th {\n",
       "        text-align: right;\n",
       "    }\n",
       "</style>\n",
       "<table border=\"1\" class=\"dataframe\">\n",
       "  <thead>\n",
       "    <tr style=\"text-align: right;\">\n",
       "      <th></th>\n",
       "      <th>age</th>\n",
       "      <th>sex</th>\n",
       "      <th>cp</th>\n",
       "      <th>trestbps</th>\n",
       "      <th>chol</th>\n",
       "      <th>fbs</th>\n",
       "      <th>restecg</th>\n",
       "      <th>thalach</th>\n",
       "      <th>exang</th>\n",
       "      <th>oldpeak</th>\n",
       "      <th>num</th>\n",
       "    </tr>\n",
       "  </thead>\n",
       "  <tbody>\n",
       "    <tr>\n",
       "      <th>0</th>\n",
       "      <td>-2.542347</td>\n",
       "      <td>1</td>\n",
       "      <td>2</td>\n",
       "      <td>-0.146571</td>\n",
       "      <td>-1.822595</td>\n",
       "      <td>0.0</td>\n",
       "      <td>2.0</td>\n",
       "      <td>1.951019</td>\n",
       "      <td>0.0</td>\n",
       "      <td>-0.646074</td>\n",
       "      <td>0</td>\n",
       "    </tr>\n",
       "    <tr>\n",
       "      <th>1</th>\n",
       "      <td>-2.414117</td>\n",
       "      <td>1</td>\n",
       "      <td>2</td>\n",
       "      <td>-0.715815</td>\n",
       "      <td>-0.111523</td>\n",
       "      <td>0.0</td>\n",
       "      <td>0.0</td>\n",
       "      <td>0.887616</td>\n",
       "      <td>0.0</td>\n",
       "      <td>-0.646074</td>\n",
       "      <td>0</td>\n",
       "    </tr>\n",
       "    <tr>\n",
       "      <th>2</th>\n",
       "      <td>-2.414117</td>\n",
       "      <td>1</td>\n",
       "      <td>2</td>\n",
       "      <td>0.422673</td>\n",
       "      <td>-0.111523</td>\n",
       "      <td>0.0</td>\n",
       "      <td>0.0</td>\n",
       "      <td>1.312977</td>\n",
       "      <td>0.0</td>\n",
       "      <td>-0.646074</td>\n",
       "      <td>0</td>\n",
       "    </tr>\n",
       "    <tr>\n",
       "      <th>3</th>\n",
       "      <td>-2.285888</td>\n",
       "      <td>0</td>\n",
       "      <td>1</td>\n",
       "      <td>2.130406</td>\n",
       "      <td>-0.204014</td>\n",
       "      <td>0.0</td>\n",
       "      <td>1.0</td>\n",
       "      <td>1.312977</td>\n",
       "      <td>0.0</td>\n",
       "      <td>-0.646074</td>\n",
       "      <td>0</td>\n",
       "    </tr>\n",
       "    <tr>\n",
       "      <th>4</th>\n",
       "      <td>-2.157658</td>\n",
       "      <td>0</td>\n",
       "      <td>2</td>\n",
       "      <td>-1.854303</td>\n",
       "      <td>-0.481485</td>\n",
       "      <td>0.0</td>\n",
       "      <td>1.0</td>\n",
       "      <td>0.462255</td>\n",
       "      <td>0.0</td>\n",
       "      <td>-0.646074</td>\n",
       "      <td>0</td>\n",
       "    </tr>\n",
       "  </tbody>\n",
       "</table>\n",
       "</div>"
      ],
      "text/plain": [
       "        age  sex  cp  trestbps      chol  fbs  restecg   thalach  exang  \\\n",
       "0 -2.542347    1   2 -0.146571 -1.822595  0.0      2.0  1.951019    0.0   \n",
       "1 -2.414117    1   2 -0.715815 -0.111523  0.0      0.0  0.887616    0.0   \n",
       "2 -2.414117    1   2  0.422673 -0.111523  0.0      0.0  1.312977    0.0   \n",
       "3 -2.285888    0   1  2.130406 -0.204014  0.0      1.0  1.312977    0.0   \n",
       "4 -2.157658    0   2 -1.854303 -0.481485  0.0      1.0  0.462255    0.0   \n",
       "\n",
       "    oldpeak  num         \n",
       "0 -0.646074           0  \n",
       "1 -0.646074           0  \n",
       "2 -0.646074           0  \n",
       "3 -0.646074           0  \n",
       "4 -0.646074           0  "
      ]
     },
     "execution_count": 13,
     "metadata": {},
     "output_type": "execute_result"
    }
   ],
   "source": [
    "data.head()"
   ]
  },
  {
   "cell_type": "code",
   "execution_count": 14,
   "id": "f6d88913",
   "metadata": {
    "execution": {
     "iopub.execute_input": "2025-06-28T08:07:19.839117Z",
     "iopub.status.busy": "2025-06-28T08:07:19.838780Z",
     "iopub.status.idle": "2025-06-28T08:07:19.844397Z",
     "shell.execute_reply": "2025-06-28T08:07:19.843640Z"
    },
    "papermill": {
     "duration": 0.01363,
     "end_time": "2025-06-28T08:07:19.845746",
     "exception": false,
     "start_time": "2025-06-28T08:07:19.832116",
     "status": "completed"
    },
    "tags": []
   },
   "outputs": [
    {
     "data": {
      "text/plain": [
       "Index(['age', 'sex', 'cp', 'trestbps', 'chol', 'fbs', 'restecg', 'thalach',\n",
       "       'exang', 'oldpeak', 'num       '],\n",
       "      dtype='object')"
      ]
     },
     "execution_count": 14,
     "metadata": {},
     "output_type": "execute_result"
    }
   ],
   "source": [
    "data.columns"
   ]
  },
  {
   "cell_type": "code",
   "execution_count": 15,
   "id": "46eebcbf",
   "metadata": {
    "execution": {
     "iopub.execute_input": "2025-06-28T08:07:19.857087Z",
     "iopub.status.busy": "2025-06-28T08:07:19.856808Z",
     "iopub.status.idle": "2025-06-28T08:07:19.861384Z",
     "shell.execute_reply": "2025-06-28T08:07:19.860382Z"
    },
    "papermill": {
     "duration": 0.011874,
     "end_time": "2025-06-28T08:07:19.862845",
     "exception": false,
     "start_time": "2025-06-28T08:07:19.850971",
     "status": "completed"
    },
    "tags": []
   },
   "outputs": [],
   "source": [
    "data.columns = data.columns.str.strip()  # Delete spaces\n"
   ]
  },
  {
   "cell_type": "code",
   "execution_count": 16,
   "id": "3767f174",
   "metadata": {
    "execution": {
     "iopub.execute_input": "2025-06-28T08:07:19.874786Z",
     "iopub.status.busy": "2025-06-28T08:07:19.874367Z",
     "iopub.status.idle": "2025-06-28T08:07:19.879784Z",
     "shell.execute_reply": "2025-06-28T08:07:19.879019Z"
    },
    "papermill": {
     "duration": 0.013179,
     "end_time": "2025-06-28T08:07:19.881194",
     "exception": false,
     "start_time": "2025-06-28T08:07:19.868015",
     "status": "completed"
    },
    "tags": []
   },
   "outputs": [],
   "source": [
    "#separate features and target(main)\n",
    "X = data.drop('num', axis=1)\n",
    "y = data['num']\n"
   ]
  },
  {
   "cell_type": "code",
   "execution_count": 17,
   "id": "c486a594",
   "metadata": {
    "execution": {
     "iopub.execute_input": "2025-06-28T08:07:19.892743Z",
     "iopub.status.busy": "2025-06-28T08:07:19.892127Z",
     "iopub.status.idle": "2025-06-28T08:07:20.000906Z",
     "shell.execute_reply": "2025-06-28T08:07:20.000046Z"
    },
    "papermill": {
     "duration": 0.116255,
     "end_time": "2025-06-28T08:07:20.002502",
     "exception": false,
     "start_time": "2025-06-28T08:07:19.886247",
     "status": "completed"
    },
    "tags": []
   },
   "outputs": [],
   "source": [
    "from sklearn.model_selection import train_test_split\n",
    "\n",
    "X_train, X_test, y_train, y_test = train_test_split(X, y, test_size=0.3, random_state=42)\n"
   ]
  },
  {
   "cell_type": "code",
   "execution_count": 18,
   "id": "ddbdc62b",
   "metadata": {
    "execution": {
     "iopub.execute_input": "2025-06-28T08:07:20.014187Z",
     "iopub.status.busy": "2025-06-28T08:07:20.013894Z",
     "iopub.status.idle": "2025-06-28T08:07:20.018801Z",
     "shell.execute_reply": "2025-06-28T08:07:20.017806Z"
    },
    "papermill": {
     "duration": 0.012592,
     "end_time": "2025-06-28T08:07:20.020365",
     "exception": false,
     "start_time": "2025-06-28T08:07:20.007773",
     "status": "completed"
    },
    "tags": []
   },
   "outputs": [
    {
     "name": "stdout",
     "output_type": "stream",
     "text": [
      "\n",
      "Data for training !\n",
      "X_train shape: (205, 10)\n",
      "X_test shape: (89, 10)\n"
     ]
    }
   ],
   "source": [
    "# 9. Display\n",
    "print(\"\\nData for training !\")\n",
    "print(\"X_train shape:\", X_train.shape)\n",
    "print(\"X_test shape:\", X_test.shape)"
   ]
  },
  {
   "cell_type": "code",
   "execution_count": 19,
   "id": "38d0606e",
   "metadata": {
    "execution": {
     "iopub.execute_input": "2025-06-28T08:07:20.032184Z",
     "iopub.status.busy": "2025-06-28T08:07:20.031840Z",
     "iopub.status.idle": "2025-06-28T08:07:20.178696Z",
     "shell.execute_reply": "2025-06-28T08:07:20.176924Z"
    },
    "papermill": {
     "duration": 0.154997,
     "end_time": "2025-06-28T08:07:20.180636",
     "exception": false,
     "start_time": "2025-06-28T08:07:20.025639",
     "status": "completed"
    },
    "tags": []
   },
   "outputs": [
    {
     "name": "stdout",
     "output_type": "stream",
     "text": [
      "Accuracy: 0.8202247191011236\n",
      "\n",
      "Classification Report:\n",
      "               precision    recall  f1-score   support\n",
      "\n",
      "           0       0.87      0.87      0.87        61\n",
      "           1       0.71      0.71      0.71        28\n",
      "\n",
      "    accuracy                           0.82        89\n",
      "   macro avg       0.79      0.79      0.79        89\n",
      "weighted avg       0.82      0.82      0.82        89\n",
      "\n",
      "\n",
      "Confusion Matrix:\n",
      " [[53  8]\n",
      " [ 8 20]]\n"
     ]
    }
   ],
   "source": [
    "from sklearn.linear_model import LogisticRegression\n",
    "from sklearn.metrics import accuracy_score, classification_report, confusion_matrix\n",
    "\n",
    "# Create and training the model\n",
    "model = LogisticRegression()\n",
    "model.fit(X_train, y_train)\n",
    "\n",
    "# Predict on test data\n",
    "y_pred = model.predict(X_test)\n",
    "\n",
    "# Evaluate performance\n",
    "print(\"Accuracy:\", accuracy_score(y_test, y_pred))\n",
    "print(\"\\nClassification Report:\\n\", classification_report(y_test, y_pred))\n",
    "print(\"\\nConfusion Matrix:\\n\", confusion_matrix(y_test, y_pred))\n",
    "\n"
   ]
  },
  {
   "cell_type": "code",
   "execution_count": 20,
   "id": "7b9dad31",
   "metadata": {
    "execution": {
     "iopub.execute_input": "2025-06-28T08:07:20.199133Z",
     "iopub.status.busy": "2025-06-28T08:07:20.198784Z",
     "iopub.status.idle": "2025-06-28T08:07:30.497209Z",
     "shell.execute_reply": "2025-06-28T08:07:30.496201Z"
    },
    "papermill": {
     "duration": 10.309457,
     "end_time": "2025-06-28T08:07:30.498787",
     "exception": false,
     "start_time": "2025-06-28T08:07:20.189330",
     "status": "completed"
    },
    "tags": []
   },
   "outputs": [
    {
     "name": "stdout",
     "output_type": "stream",
     "text": [
      "Fitting 5 folds for each of 12 candidates, totalling 60 fits\n",
      "Best params founded : {'max_depth': 8, 'n_estimators': 100, 'random_state': 42}\n",
      "best recall : 0.6933333333333334\n"
     ]
    }
   ],
   "source": [
    "from sklearn.ensemble import RandomForestClassifier\n",
    "from sklearn.model_selection import GridSearchCV\n",
    "from sklearn.metrics import classification_report, confusion_matrix, accuracy_score\n",
    "\n",
    "# Define the hyperparameters to test\n",
    "param_grid = {\n",
    "    'n_estimators': [100, 200, 300],\n",
    "    'max_depth': [5, 8, 10, None],\n",
    "    'random_state': [42]  \n",
    "}\n",
    "\n",
    "# Define the classifier\n",
    "rf = RandomForestClassifier()\n",
    "\n",
    "# GridSearch with recall-based scoring\n",
    "grid_search = GridSearchCV(\n",
    "    estimator=rf,\n",
    "    param_grid=param_grid,\n",
    "    scoring='recall',  \n",
    "    cv=5,\n",
    "    n_jobs=-1,\n",
    "    verbose=1\n",
    ")\n",
    "\n",
    "# Training\n",
    "grid_search.fit(X_train, y_train)\n",
    "\n",
    "# Results\n",
    "print(\"Best params founded :\", grid_search.best_params_)\n",
    "print(\"best recall :\", grid_search.best_score_)"
   ]
  },
  {
   "cell_type": "code",
   "execution_count": 21,
   "id": "dffe94d7",
   "metadata": {
    "execution": {
     "iopub.execute_input": "2025-06-28T08:07:30.511343Z",
     "iopub.status.busy": "2025-06-28T08:07:30.510524Z",
     "iopub.status.idle": "2025-06-28T08:07:30.532417Z",
     "shell.execute_reply": "2025-06-28T08:07:30.531162Z"
    },
    "papermill": {
     "duration": 0.029877,
     "end_time": "2025-06-28T08:07:30.534120",
     "exception": false,
     "start_time": "2025-06-28T08:07:30.504243",
     "status": "completed"
    },
    "tags": []
   },
   "outputs": [
    {
     "name": "stdout",
     "output_type": "stream",
     "text": [
      "\n",
      "Evaluation on the test :\n",
      "Accuracy: 0.7865168539325843\n",
      "\n",
      "Classification Report:\n",
      "               precision    recall  f1-score   support\n",
      "\n",
      "           0       0.85      0.84      0.84        61\n",
      "           1       0.66      0.68      0.67        28\n",
      "\n",
      "    accuracy                           0.79        89\n",
      "   macro avg       0.75      0.76      0.75        89\n",
      "weighted avg       0.79      0.79      0.79        89\n",
      "\n",
      "\n",
      "Confusion Matrix:\n",
      " [[51 10]\n",
      " [ 9 19]]\n"
     ]
    }
   ],
   "source": [
    "# Evaluate the best model on the test set\n",
    "best_model = grid_search.best_estimator_\n",
    "y_pred = best_model.predict(X_test)\n",
    "\n",
    "# Display\n",
    "print(\"\\nEvaluation on the test :\")\n",
    "print(\"Accuracy:\", accuracy_score(y_test, y_pred))\n",
    "print(\"\\nClassification Report:\\n\", classification_report(y_test, y_pred))\n",
    "print(\"\\nConfusion Matrix:\\n\", confusion_matrix(y_test, y_pred))\n"
   ]
  },
  {
   "cell_type": "markdown",
   "id": "c0813640",
   "metadata": {
    "papermill": {
     "duration": 0.00734,
     "end_time": "2025-06-28T08:07:30.549986",
     "exception": false,
     "start_time": "2025-06-28T08:07:30.542646",
     "status": "completed"
    },
    "tags": []
   },
   "source": [
    "Between the two models: we gain in recall for class 1 (detected cases of disease) → fewer false negatives, which is a medical positive\n",
    "\n",
    "We lose a little in precision → more false positives, but less dangerous\n",
    "\n",
    "The overall accuracy decreases slightly, but in a medical context, class 1 recall is often higher"
   ]
  },
  {
   "cell_type": "markdown",
   "id": "d6fe8062",
   "metadata": {
    "papermill": {
     "duration": 0.005147,
     "end_time": "2025-06-28T08:07:30.560599",
     "exception": false,
     "start_time": "2025-06-28T08:07:30.555452",
     "status": "completed"
    },
    "tags": []
   },
   "source": []
  }
 ],
 "metadata": {
  "kaggle": {
   "accelerator": "none",
   "dataSources": [
    {
     "datasetId": 23651,
     "sourceId": 30233,
     "sourceType": "datasetVersion"
    }
   ],
   "dockerImageVersionId": 31040,
   "isGpuEnabled": false,
   "isInternetEnabled": true,
   "language": "python",
   "sourceType": "notebook"
  },
  "kernelspec": {
   "display_name": "Python 3",
   "language": "python",
   "name": "python3"
  },
  "language_info": {
   "codemirror_mode": {
    "name": "ipython",
    "version": 3
   },
   "file_extension": ".py",
   "mimetype": "text/x-python",
   "name": "python",
   "nbconvert_exporter": "python",
   "pygments_lexer": "ipython3",
   "version": "3.11.11"
  },
  "papermill": {
   "default_parameters": {},
   "duration": 21.619148,
   "end_time": "2025-06-28T08:07:33.188725",
   "environment_variables": {},
   "exception": null,
   "input_path": "__notebook__.ipynb",
   "output_path": "__notebook__.ipynb",
   "parameters": {},
   "start_time": "2025-06-28T08:07:11.569577",
   "version": "2.6.0"
  }
 },
 "nbformat": 4,
 "nbformat_minor": 5
}
