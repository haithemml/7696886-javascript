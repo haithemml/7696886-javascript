{
 "cells": [
  {
   "cell_type": "code",
   "execution_count": 1,
   "id": "1d85b6b3",
   "metadata": {
    "_cell_guid": "b1076dfc-b9ad-4769-8c92-a6c4dae69d19",
    "_uuid": "8f2839f25d086af736a60e9eeb907d3b93b6e0e5",
    "execution": {
     "iopub.execute_input": "2025-06-27T23:13:12.054402Z",
     "iopub.status.busy": "2025-06-27T23:13:12.054014Z",
     "iopub.status.idle": "2025-06-27T23:13:13.894825Z",
     "shell.execute_reply": "2025-06-27T23:13:13.893744Z"
    },
    "papermill": {
     "duration": 1.848743,
     "end_time": "2025-06-27T23:13:13.896408",
     "exception": false,
     "start_time": "2025-06-27T23:13:12.047665",
     "status": "completed"
    },
    "tags": []
   },
   "outputs": [
    {
     "name": "stdout",
     "output_type": "stream",
     "text": [
      "/kaggle/input/heart-attack-prediction/data.csv\n"
     ]
    }
   ],
   "source": [
    "# This Python 3 environment comes with many helpful analytics libraries installed\n",
    "# It is defined by the kaggle/python Docker image: https://github.com/kaggle/docker-python\n",
    "# For example, here's several helpful packages to load\n",
    "\n",
    "import numpy as np # linear algebra\n",
    "import pandas as pd # data processing, CSV file I/O (e.g. pd.read_csv)\n",
    "\n",
    "# Input data files are available in the read-only \"../input/\" directory\n",
    "# For example, running this (by clicking run or pressing Shift+Enter) will list all files under the input directory\n",
    "\n",
    "import os\n",
    "for dirname, _, filenames in os.walk('/kaggle/input'):\n",
    "    for filename in filenames:\n",
    "        print(os.path.join(dirname, filename))\n",
    "\n",
    "# You can write up to 20GB to the current directory (/kaggle/working/) that gets preserved as output when you create a version using \"Save & Run All\" \n",
    "# You can also write temporary files to /kaggle/temp/, but they won't be saved outside of the current session"
   ]
  },
  {
   "cell_type": "code",
   "execution_count": 2,
   "id": "49a8fb59",
   "metadata": {
    "execution": {
     "iopub.execute_input": "2025-06-27T23:13:13.906323Z",
     "iopub.status.busy": "2025-06-27T23:13:13.905876Z",
     "iopub.status.idle": "2025-06-27T23:13:13.953890Z",
     "shell.execute_reply": "2025-06-27T23:13:13.952996Z"
    },
    "papermill": {
     "duration": 0.054712,
     "end_time": "2025-06-27T23:13:13.955442",
     "exception": false,
     "start_time": "2025-06-27T23:13:13.900730",
     "status": "completed"
    },
    "tags": []
   },
   "outputs": [
    {
     "name": "stderr",
     "output_type": "stream",
     "text": [
      "/usr/local/lib/python3.11/dist-packages/pandas/io/formats/format.py:1458: RuntimeWarning: invalid value encountered in greater\n",
      "  has_large_values = (abs_vals > 1e6).any()\n",
      "/usr/local/lib/python3.11/dist-packages/pandas/io/formats/format.py:1459: RuntimeWarning: invalid value encountered in less\n",
      "  has_small_values = ((abs_vals < 10 ** (-self.digits)) & (abs_vals > 0)).any()\n",
      "/usr/local/lib/python3.11/dist-packages/pandas/io/formats/format.py:1459: RuntimeWarning: invalid value encountered in greater\n",
      "  has_small_values = ((abs_vals < 10 ** (-self.digits)) & (abs_vals > 0)).any()\n"
     ]
    },
    {
     "data": {
      "text/html": [
       "<div>\n",
       "<style scoped>\n",
       "    .dataframe tbody tr th:only-of-type {\n",
       "        vertical-align: middle;\n",
       "    }\n",
       "\n",
       "    .dataframe tbody tr th {\n",
       "        vertical-align: top;\n",
       "    }\n",
       "\n",
       "    .dataframe thead th {\n",
       "        text-align: right;\n",
       "    }\n",
       "</style>\n",
       "<table border=\"1\" class=\"dataframe\">\n",
       "  <thead>\n",
       "    <tr style=\"text-align: right;\">\n",
       "      <th></th>\n",
       "      <th>age</th>\n",
       "      <th>sex</th>\n",
       "      <th>cp</th>\n",
       "      <th>trestbps</th>\n",
       "      <th>chol</th>\n",
       "      <th>fbs</th>\n",
       "      <th>restecg</th>\n",
       "      <th>thalach</th>\n",
       "      <th>exang</th>\n",
       "      <th>oldpeak</th>\n",
       "      <th>slope</th>\n",
       "      <th>ca</th>\n",
       "      <th>thal</th>\n",
       "      <th>num</th>\n",
       "    </tr>\n",
       "  </thead>\n",
       "  <tbody>\n",
       "    <tr>\n",
       "      <th>0</th>\n",
       "      <td>28</td>\n",
       "      <td>1</td>\n",
       "      <td>2</td>\n",
       "      <td>130.0</td>\n",
       "      <td>132.0</td>\n",
       "      <td>0.0</td>\n",
       "      <td>2.0</td>\n",
       "      <td>185.0</td>\n",
       "      <td>0.0</td>\n",
       "      <td>0.0</td>\n",
       "      <td>NaN</td>\n",
       "      <td>NaN</td>\n",
       "      <td>NaN</td>\n",
       "      <td>0</td>\n",
       "    </tr>\n",
       "    <tr>\n",
       "      <th>1</th>\n",
       "      <td>29</td>\n",
       "      <td>1</td>\n",
       "      <td>2</td>\n",
       "      <td>120.0</td>\n",
       "      <td>243.0</td>\n",
       "      <td>0.0</td>\n",
       "      <td>0.0</td>\n",
       "      <td>160.0</td>\n",
       "      <td>0.0</td>\n",
       "      <td>0.0</td>\n",
       "      <td>NaN</td>\n",
       "      <td>NaN</td>\n",
       "      <td>NaN</td>\n",
       "      <td>0</td>\n",
       "    </tr>\n",
       "    <tr>\n",
       "      <th>2</th>\n",
       "      <td>29</td>\n",
       "      <td>1</td>\n",
       "      <td>2</td>\n",
       "      <td>140.0</td>\n",
       "      <td>NaN</td>\n",
       "      <td>0.0</td>\n",
       "      <td>0.0</td>\n",
       "      <td>170.0</td>\n",
       "      <td>0.0</td>\n",
       "      <td>0.0</td>\n",
       "      <td>NaN</td>\n",
       "      <td>NaN</td>\n",
       "      <td>NaN</td>\n",
       "      <td>0</td>\n",
       "    </tr>\n",
       "    <tr>\n",
       "      <th>3</th>\n",
       "      <td>30</td>\n",
       "      <td>0</td>\n",
       "      <td>1</td>\n",
       "      <td>170.0</td>\n",
       "      <td>237.0</td>\n",
       "      <td>0.0</td>\n",
       "      <td>1.0</td>\n",
       "      <td>170.0</td>\n",
       "      <td>0.0</td>\n",
       "      <td>0.0</td>\n",
       "      <td>NaN</td>\n",
       "      <td>NaN</td>\n",
       "      <td>6.0</td>\n",
       "      <td>0</td>\n",
       "    </tr>\n",
       "    <tr>\n",
       "      <th>4</th>\n",
       "      <td>31</td>\n",
       "      <td>0</td>\n",
       "      <td>2</td>\n",
       "      <td>100.0</td>\n",
       "      <td>219.0</td>\n",
       "      <td>0.0</td>\n",
       "      <td>1.0</td>\n",
       "      <td>150.0</td>\n",
       "      <td>0.0</td>\n",
       "      <td>0.0</td>\n",
       "      <td>NaN</td>\n",
       "      <td>NaN</td>\n",
       "      <td>NaN</td>\n",
       "      <td>0</td>\n",
       "    </tr>\n",
       "  </tbody>\n",
       "</table>\n",
       "</div>"
      ],
      "text/plain": [
       "   age  sex  cp  trestbps   chol  fbs  restecg  thalach  exang  oldpeak  \\\n",
       "0   28    1   2     130.0  132.0  0.0      2.0    185.0    0.0      0.0   \n",
       "1   29    1   2     120.0  243.0  0.0      0.0    160.0    0.0      0.0   \n",
       "2   29    1   2     140.0    NaN  0.0      0.0    170.0    0.0      0.0   \n",
       "3   30    0   1     170.0  237.0  0.0      1.0    170.0    0.0      0.0   \n",
       "4   31    0   2     100.0  219.0  0.0      1.0    150.0    0.0      0.0   \n",
       "\n",
       "   slope  ca  thal  num         \n",
       "0    NaN NaN   NaN           0  \n",
       "1    NaN NaN   NaN           0  \n",
       "2    NaN NaN   NaN           0  \n",
       "3    NaN NaN   6.0           0  \n",
       "4    NaN NaN   NaN           0  "
      ]
     },
     "execution_count": 2,
     "metadata": {},
     "output_type": "execute_result"
    }
   ],
   "source": [
    "data = pd.read_csv('/kaggle/input/heart-attack-prediction/data.csv', na_values='?')\n",
    "data.head()"
   ]
  },
  {
   "cell_type": "code",
   "execution_count": 3,
   "id": "d35f4a3f",
   "metadata": {
    "execution": {
     "iopub.execute_input": "2025-06-27T23:13:13.965328Z",
     "iopub.status.busy": "2025-06-27T23:13:13.965027Z",
     "iopub.status.idle": "2025-06-27T23:13:13.973112Z",
     "shell.execute_reply": "2025-06-27T23:13:13.972422Z"
    },
    "papermill": {
     "duration": 0.014483,
     "end_time": "2025-06-27T23:13:13.974334",
     "exception": false,
     "start_time": "2025-06-27T23:13:13.959851",
     "status": "completed"
    },
    "tags": []
   },
   "outputs": [
    {
     "data": {
      "text/plain": [
       "age             0\n",
       "sex             0\n",
       "cp              0\n",
       "trestbps        1\n",
       "chol           23\n",
       "fbs             8\n",
       "restecg         1\n",
       "thalach         1\n",
       "exang           1\n",
       "oldpeak         0\n",
       "slope         190\n",
       "ca            291\n",
       "thal          266\n",
       "num             0\n",
       "dtype: int64"
      ]
     },
     "execution_count": 3,
     "metadata": {},
     "output_type": "execute_result"
    }
   ],
   "source": [
    "data.isnull().sum()"
   ]
  },
  {
   "cell_type": "code",
   "execution_count": 4,
   "id": "d23f9379",
   "metadata": {
    "execution": {
     "iopub.execute_input": "2025-06-27T23:13:13.984967Z",
     "iopub.status.busy": "2025-06-27T23:13:13.984099Z",
     "iopub.status.idle": "2025-06-27T23:13:14.006996Z",
     "shell.execute_reply": "2025-06-27T23:13:14.006120Z"
    },
    "papermill": {
     "duration": 0.02958,
     "end_time": "2025-06-27T23:13:14.008356",
     "exception": false,
     "start_time": "2025-06-27T23:13:13.978776",
     "status": "completed"
    },
    "tags": []
   },
   "outputs": [
    {
     "name": "stderr",
     "output_type": "stream",
     "text": [
      "/usr/local/lib/python3.11/dist-packages/pandas/io/formats/format.py:1458: RuntimeWarning: invalid value encountered in greater\n",
      "  has_large_values = (abs_vals > 1e6).any()\n",
      "/usr/local/lib/python3.11/dist-packages/pandas/io/formats/format.py:1459: RuntimeWarning: invalid value encountered in less\n",
      "  has_small_values = ((abs_vals < 10 ** (-self.digits)) & (abs_vals > 0)).any()\n",
      "/usr/local/lib/python3.11/dist-packages/pandas/io/formats/format.py:1459: RuntimeWarning: invalid value encountered in greater\n",
      "  has_small_values = ((abs_vals < 10 ** (-self.digits)) & (abs_vals > 0)).any()\n"
     ]
    },
    {
     "data": {
      "text/html": [
       "<div>\n",
       "<style scoped>\n",
       "    .dataframe tbody tr th:only-of-type {\n",
       "        vertical-align: middle;\n",
       "    }\n",
       "\n",
       "    .dataframe tbody tr th {\n",
       "        vertical-align: top;\n",
       "    }\n",
       "\n",
       "    .dataframe thead th {\n",
       "        text-align: right;\n",
       "    }\n",
       "</style>\n",
       "<table border=\"1\" class=\"dataframe\">\n",
       "  <thead>\n",
       "    <tr style=\"text-align: right;\">\n",
       "      <th></th>\n",
       "      <th>age</th>\n",
       "      <th>sex</th>\n",
       "      <th>cp</th>\n",
       "      <th>trestbps</th>\n",
       "      <th>chol</th>\n",
       "      <th>fbs</th>\n",
       "      <th>restecg</th>\n",
       "      <th>thalach</th>\n",
       "      <th>exang</th>\n",
       "      <th>oldpeak</th>\n",
       "      <th>num</th>\n",
       "    </tr>\n",
       "  </thead>\n",
       "  <tbody>\n",
       "    <tr>\n",
       "      <th>0</th>\n",
       "      <td>28</td>\n",
       "      <td>1</td>\n",
       "      <td>2</td>\n",
       "      <td>130.0</td>\n",
       "      <td>132.0</td>\n",
       "      <td>0.0</td>\n",
       "      <td>2.0</td>\n",
       "      <td>185.0</td>\n",
       "      <td>0.0</td>\n",
       "      <td>0.0</td>\n",
       "      <td>0</td>\n",
       "    </tr>\n",
       "    <tr>\n",
       "      <th>1</th>\n",
       "      <td>29</td>\n",
       "      <td>1</td>\n",
       "      <td>2</td>\n",
       "      <td>120.0</td>\n",
       "      <td>243.0</td>\n",
       "      <td>0.0</td>\n",
       "      <td>0.0</td>\n",
       "      <td>160.0</td>\n",
       "      <td>0.0</td>\n",
       "      <td>0.0</td>\n",
       "      <td>0</td>\n",
       "    </tr>\n",
       "    <tr>\n",
       "      <th>2</th>\n",
       "      <td>29</td>\n",
       "      <td>1</td>\n",
       "      <td>2</td>\n",
       "      <td>140.0</td>\n",
       "      <td>NaN</td>\n",
       "      <td>0.0</td>\n",
       "      <td>0.0</td>\n",
       "      <td>170.0</td>\n",
       "      <td>0.0</td>\n",
       "      <td>0.0</td>\n",
       "      <td>0</td>\n",
       "    </tr>\n",
       "    <tr>\n",
       "      <th>3</th>\n",
       "      <td>30</td>\n",
       "      <td>0</td>\n",
       "      <td>1</td>\n",
       "      <td>170.0</td>\n",
       "      <td>237.0</td>\n",
       "      <td>0.0</td>\n",
       "      <td>1.0</td>\n",
       "      <td>170.0</td>\n",
       "      <td>0.0</td>\n",
       "      <td>0.0</td>\n",
       "      <td>0</td>\n",
       "    </tr>\n",
       "    <tr>\n",
       "      <th>4</th>\n",
       "      <td>31</td>\n",
       "      <td>0</td>\n",
       "      <td>2</td>\n",
       "      <td>100.0</td>\n",
       "      <td>219.0</td>\n",
       "      <td>0.0</td>\n",
       "      <td>1.0</td>\n",
       "      <td>150.0</td>\n",
       "      <td>0.0</td>\n",
       "      <td>0.0</td>\n",
       "      <td>0</td>\n",
       "    </tr>\n",
       "  </tbody>\n",
       "</table>\n",
       "</div>"
      ],
      "text/plain": [
       "   age  sex  cp  trestbps   chol  fbs  restecg  thalach  exang  oldpeak  \\\n",
       "0   28    1   2     130.0  132.0  0.0      2.0    185.0    0.0      0.0   \n",
       "1   29    1   2     120.0  243.0  0.0      0.0    160.0    0.0      0.0   \n",
       "2   29    1   2     140.0    NaN  0.0      0.0    170.0    0.0      0.0   \n",
       "3   30    0   1     170.0  237.0  0.0      1.0    170.0    0.0      0.0   \n",
       "4   31    0   2     100.0  219.0  0.0      1.0    150.0    0.0      0.0   \n",
       "\n",
       "   num         \n",
       "0           0  \n",
       "1           0  \n",
       "2           0  \n",
       "3           0  \n",
       "4           0  "
      ]
     },
     "execution_count": 4,
     "metadata": {},
     "output_type": "execute_result"
    }
   ],
   "source": [
    "data = data.drop(['slope', 'ca', 'thal'], axis=1)\n",
    "data.head()"
   ]
  },
  {
   "cell_type": "code",
   "execution_count": 5,
   "id": "cc1b1533",
   "metadata": {
    "execution": {
     "iopub.execute_input": "2025-06-27T23:13:14.018820Z",
     "iopub.status.busy": "2025-06-27T23:13:14.018486Z",
     "iopub.status.idle": "2025-06-27T23:13:14.023986Z",
     "shell.execute_reply": "2025-06-27T23:13:14.023190Z"
    },
    "papermill": {
     "duration": 0.012172,
     "end_time": "2025-06-27T23:13:14.025275",
     "exception": false,
     "start_time": "2025-06-27T23:13:14.013103",
     "status": "completed"
    },
    "tags": []
   },
   "outputs": [],
   "source": [
    "data['trestbps'] = data['trestbps'].fillna(data['trestbps'].median())"
   ]
  },
  {
   "cell_type": "code",
   "execution_count": 6,
   "id": "2b4193d3",
   "metadata": {
    "execution": {
     "iopub.execute_input": "2025-06-27T23:13:14.035602Z",
     "iopub.status.busy": "2025-06-27T23:13:14.034835Z",
     "iopub.status.idle": "2025-06-27T23:13:14.039817Z",
     "shell.execute_reply": "2025-06-27T23:13:14.038978Z"
    },
    "papermill": {
     "duration": 0.011504,
     "end_time": "2025-06-27T23:13:14.041205",
     "exception": false,
     "start_time": "2025-06-27T23:13:14.029701",
     "status": "completed"
    },
    "tags": []
   },
   "outputs": [],
   "source": [
    "data['chol'] = data['chol'].fillna(data['chol'].median())"
   ]
  },
  {
   "cell_type": "code",
   "execution_count": 7,
   "id": "abd0db3f",
   "metadata": {
    "execution": {
     "iopub.execute_input": "2025-06-27T23:13:14.052245Z",
     "iopub.status.busy": "2025-06-27T23:13:14.051384Z",
     "iopub.status.idle": "2025-06-27T23:13:14.056820Z",
     "shell.execute_reply": "2025-06-27T23:13:14.055970Z"
    },
    "papermill": {
     "duration": 0.012188,
     "end_time": "2025-06-27T23:13:14.058182",
     "exception": false,
     "start_time": "2025-06-27T23:13:14.045994",
     "status": "completed"
    },
    "tags": []
   },
   "outputs": [],
   "source": [
    "data['fbs'] = data['fbs'].fillna(data['fbs'].median())"
   ]
  },
  {
   "cell_type": "code",
   "execution_count": 8,
   "id": "c4bc42cf",
   "metadata": {
    "execution": {
     "iopub.execute_input": "2025-06-27T23:13:14.070187Z",
     "iopub.status.busy": "2025-06-27T23:13:14.069368Z",
     "iopub.status.idle": "2025-06-27T23:13:14.074638Z",
     "shell.execute_reply": "2025-06-27T23:13:14.073839Z"
    },
    "papermill": {
     "duration": 0.013338,
     "end_time": "2025-06-27T23:13:14.076111",
     "exception": false,
     "start_time": "2025-06-27T23:13:14.062773",
     "status": "completed"
    },
    "tags": []
   },
   "outputs": [],
   "source": [
    "data['restecg'] = data['restecg'].fillna(data['restecg'].median())"
   ]
  },
  {
   "cell_type": "code",
   "execution_count": 9,
   "id": "948cd860",
   "metadata": {
    "execution": {
     "iopub.execute_input": "2025-06-27T23:13:14.086460Z",
     "iopub.status.busy": "2025-06-27T23:13:14.086132Z",
     "iopub.status.idle": "2025-06-27T23:13:14.091111Z",
     "shell.execute_reply": "2025-06-27T23:13:14.090281Z"
    },
    "papermill": {
     "duration": 0.011765,
     "end_time": "2025-06-27T23:13:14.092497",
     "exception": false,
     "start_time": "2025-06-27T23:13:14.080732",
     "status": "completed"
    },
    "tags": []
   },
   "outputs": [],
   "source": [
    "data['thalach'] = data['thalach'].fillna(data['thalach'].median())"
   ]
  },
  {
   "cell_type": "code",
   "execution_count": 10,
   "id": "c8248090",
   "metadata": {
    "execution": {
     "iopub.execute_input": "2025-06-27T23:13:14.102794Z",
     "iopub.status.busy": "2025-06-27T23:13:14.102532Z",
     "iopub.status.idle": "2025-06-27T23:13:14.110622Z",
     "shell.execute_reply": "2025-06-27T23:13:14.109665Z"
    },
    "papermill": {
     "duration": 0.014825,
     "end_time": "2025-06-27T23:13:14.112088",
     "exception": false,
     "start_time": "2025-06-27T23:13:14.097263",
     "status": "completed"
    },
    "tags": []
   },
   "outputs": [],
   "source": [
    "data['exang'] = data['exang'].fillna(data['exang'].mode()[0])"
   ]
  },
  {
   "cell_type": "code",
   "execution_count": 11,
   "id": "f5297d17",
   "metadata": {
    "execution": {
     "iopub.execute_input": "2025-06-27T23:13:14.122396Z",
     "iopub.status.busy": "2025-06-27T23:13:14.122132Z",
     "iopub.status.idle": "2025-06-27T23:13:14.135212Z",
     "shell.execute_reply": "2025-06-27T23:13:14.134437Z"
    },
    "papermill": {
     "duration": 0.019764,
     "end_time": "2025-06-27T23:13:14.136586",
     "exception": false,
     "start_time": "2025-06-27T23:13:14.116822",
     "status": "completed"
    },
    "tags": []
   },
   "outputs": [
    {
     "data": {
      "text/html": [
       "<div>\n",
       "<style scoped>\n",
       "    .dataframe tbody tr th:only-of-type {\n",
       "        vertical-align: middle;\n",
       "    }\n",
       "\n",
       "    .dataframe tbody tr th {\n",
       "        vertical-align: top;\n",
       "    }\n",
       "\n",
       "    .dataframe thead th {\n",
       "        text-align: right;\n",
       "    }\n",
       "</style>\n",
       "<table border=\"1\" class=\"dataframe\">\n",
       "  <thead>\n",
       "    <tr style=\"text-align: right;\">\n",
       "      <th></th>\n",
       "      <th>age</th>\n",
       "      <th>sex</th>\n",
       "      <th>cp</th>\n",
       "      <th>trestbps</th>\n",
       "      <th>chol</th>\n",
       "      <th>fbs</th>\n",
       "      <th>restecg</th>\n",
       "      <th>thalach</th>\n",
       "      <th>exang</th>\n",
       "      <th>oldpeak</th>\n",
       "      <th>num</th>\n",
       "    </tr>\n",
       "  </thead>\n",
       "  <tbody>\n",
       "    <tr>\n",
       "      <th>0</th>\n",
       "      <td>28</td>\n",
       "      <td>1</td>\n",
       "      <td>2</td>\n",
       "      <td>130.0</td>\n",
       "      <td>132.0</td>\n",
       "      <td>0.0</td>\n",
       "      <td>2.0</td>\n",
       "      <td>185.0</td>\n",
       "      <td>0.0</td>\n",
       "      <td>0.0</td>\n",
       "      <td>0</td>\n",
       "    </tr>\n",
       "    <tr>\n",
       "      <th>1</th>\n",
       "      <td>29</td>\n",
       "      <td>1</td>\n",
       "      <td>2</td>\n",
       "      <td>120.0</td>\n",
       "      <td>243.0</td>\n",
       "      <td>0.0</td>\n",
       "      <td>0.0</td>\n",
       "      <td>160.0</td>\n",
       "      <td>0.0</td>\n",
       "      <td>0.0</td>\n",
       "      <td>0</td>\n",
       "    </tr>\n",
       "    <tr>\n",
       "      <th>2</th>\n",
       "      <td>29</td>\n",
       "      <td>1</td>\n",
       "      <td>2</td>\n",
       "      <td>140.0</td>\n",
       "      <td>243.0</td>\n",
       "      <td>0.0</td>\n",
       "      <td>0.0</td>\n",
       "      <td>170.0</td>\n",
       "      <td>0.0</td>\n",
       "      <td>0.0</td>\n",
       "      <td>0</td>\n",
       "    </tr>\n",
       "    <tr>\n",
       "      <th>3</th>\n",
       "      <td>30</td>\n",
       "      <td>0</td>\n",
       "      <td>1</td>\n",
       "      <td>170.0</td>\n",
       "      <td>237.0</td>\n",
       "      <td>0.0</td>\n",
       "      <td>1.0</td>\n",
       "      <td>170.0</td>\n",
       "      <td>0.0</td>\n",
       "      <td>0.0</td>\n",
       "      <td>0</td>\n",
       "    </tr>\n",
       "    <tr>\n",
       "      <th>4</th>\n",
       "      <td>31</td>\n",
       "      <td>0</td>\n",
       "      <td>2</td>\n",
       "      <td>100.0</td>\n",
       "      <td>219.0</td>\n",
       "      <td>0.0</td>\n",
       "      <td>1.0</td>\n",
       "      <td>150.0</td>\n",
       "      <td>0.0</td>\n",
       "      <td>0.0</td>\n",
       "      <td>0</td>\n",
       "    </tr>\n",
       "  </tbody>\n",
       "</table>\n",
       "</div>"
      ],
      "text/plain": [
       "   age  sex  cp  trestbps   chol  fbs  restecg  thalach  exang  oldpeak  \\\n",
       "0   28    1   2     130.0  132.0  0.0      2.0    185.0    0.0      0.0   \n",
       "1   29    1   2     120.0  243.0  0.0      0.0    160.0    0.0      0.0   \n",
       "2   29    1   2     140.0  243.0  0.0      0.0    170.0    0.0      0.0   \n",
       "3   30    0   1     170.0  237.0  0.0      1.0    170.0    0.0      0.0   \n",
       "4   31    0   2     100.0  219.0  0.0      1.0    150.0    0.0      0.0   \n",
       "\n",
       "   num         \n",
       "0           0  \n",
       "1           0  \n",
       "2           0  \n",
       "3           0  \n",
       "4           0  "
      ]
     },
     "execution_count": 11,
     "metadata": {},
     "output_type": "execute_result"
    }
   ],
   "source": [
    "data.head()"
   ]
  },
  {
   "cell_type": "code",
   "execution_count": 12,
   "id": "6c450c83",
   "metadata": {
    "execution": {
     "iopub.execute_input": "2025-06-27T23:13:14.147347Z",
     "iopub.status.busy": "2025-06-27T23:13:14.147043Z",
     "iopub.status.idle": "2025-06-27T23:13:15.614284Z",
     "shell.execute_reply": "2025-06-27T23:13:15.613383Z"
    },
    "papermill": {
     "duration": 1.474486,
     "end_time": "2025-06-27T23:13:15.615994",
     "exception": false,
     "start_time": "2025-06-27T23:13:14.141508",
     "status": "completed"
    },
    "tags": []
   },
   "outputs": [],
   "source": [
    "from sklearn.preprocessing import StandardScaler\n",
    "\n",
    "# choose numerical column\n",
    "num_cols = ['age', 'trestbps', 'chol', 'thalach', 'oldpeak']\n",
    "\n",
    "scaler = StandardScaler()\n",
    "data[num_cols] = scaler.fit_transform(data[num_cols])\n"
   ]
  },
  {
   "cell_type": "code",
   "execution_count": 13,
   "id": "8cce79a7",
   "metadata": {
    "execution": {
     "iopub.execute_input": "2025-06-27T23:13:15.626832Z",
     "iopub.status.busy": "2025-06-27T23:13:15.626403Z",
     "iopub.status.idle": "2025-06-27T23:13:15.640431Z",
     "shell.execute_reply": "2025-06-27T23:13:15.639452Z"
    },
    "papermill": {
     "duration": 0.02127,
     "end_time": "2025-06-27T23:13:15.641966",
     "exception": false,
     "start_time": "2025-06-27T23:13:15.620696",
     "status": "completed"
    },
    "tags": []
   },
   "outputs": [
    {
     "data": {
      "text/html": [
       "<div>\n",
       "<style scoped>\n",
       "    .dataframe tbody tr th:only-of-type {\n",
       "        vertical-align: middle;\n",
       "    }\n",
       "\n",
       "    .dataframe tbody tr th {\n",
       "        vertical-align: top;\n",
       "    }\n",
       "\n",
       "    .dataframe thead th {\n",
       "        text-align: right;\n",
       "    }\n",
       "</style>\n",
       "<table border=\"1\" class=\"dataframe\">\n",
       "  <thead>\n",
       "    <tr style=\"text-align: right;\">\n",
       "      <th></th>\n",
       "      <th>age</th>\n",
       "      <th>sex</th>\n",
       "      <th>cp</th>\n",
       "      <th>trestbps</th>\n",
       "      <th>chol</th>\n",
       "      <th>fbs</th>\n",
       "      <th>restecg</th>\n",
       "      <th>thalach</th>\n",
       "      <th>exang</th>\n",
       "      <th>oldpeak</th>\n",
       "      <th>num</th>\n",
       "    </tr>\n",
       "  </thead>\n",
       "  <tbody>\n",
       "    <tr>\n",
       "      <th>0</th>\n",
       "      <td>-2.542347</td>\n",
       "      <td>1</td>\n",
       "      <td>2</td>\n",
       "      <td>-0.146571</td>\n",
       "      <td>-1.822595</td>\n",
       "      <td>0.0</td>\n",
       "      <td>2.0</td>\n",
       "      <td>1.951019</td>\n",
       "      <td>0.0</td>\n",
       "      <td>-0.646074</td>\n",
       "      <td>0</td>\n",
       "    </tr>\n",
       "    <tr>\n",
       "      <th>1</th>\n",
       "      <td>-2.414117</td>\n",
       "      <td>1</td>\n",
       "      <td>2</td>\n",
       "      <td>-0.715815</td>\n",
       "      <td>-0.111523</td>\n",
       "      <td>0.0</td>\n",
       "      <td>0.0</td>\n",
       "      <td>0.887616</td>\n",
       "      <td>0.0</td>\n",
       "      <td>-0.646074</td>\n",
       "      <td>0</td>\n",
       "    </tr>\n",
       "    <tr>\n",
       "      <th>2</th>\n",
       "      <td>-2.414117</td>\n",
       "      <td>1</td>\n",
       "      <td>2</td>\n",
       "      <td>0.422673</td>\n",
       "      <td>-0.111523</td>\n",
       "      <td>0.0</td>\n",
       "      <td>0.0</td>\n",
       "      <td>1.312977</td>\n",
       "      <td>0.0</td>\n",
       "      <td>-0.646074</td>\n",
       "      <td>0</td>\n",
       "    </tr>\n",
       "    <tr>\n",
       "      <th>3</th>\n",
       "      <td>-2.285888</td>\n",
       "      <td>0</td>\n",
       "      <td>1</td>\n",
       "      <td>2.130406</td>\n",
       "      <td>-0.204014</td>\n",
       "      <td>0.0</td>\n",
       "      <td>1.0</td>\n",
       "      <td>1.312977</td>\n",
       "      <td>0.0</td>\n",
       "      <td>-0.646074</td>\n",
       "      <td>0</td>\n",
       "    </tr>\n",
       "    <tr>\n",
       "      <th>4</th>\n",
       "      <td>-2.157658</td>\n",
       "      <td>0</td>\n",
       "      <td>2</td>\n",
       "      <td>-1.854303</td>\n",
       "      <td>-0.481485</td>\n",
       "      <td>0.0</td>\n",
       "      <td>1.0</td>\n",
       "      <td>0.462255</td>\n",
       "      <td>0.0</td>\n",
       "      <td>-0.646074</td>\n",
       "      <td>0</td>\n",
       "    </tr>\n",
       "  </tbody>\n",
       "</table>\n",
       "</div>"
      ],
      "text/plain": [
       "        age  sex  cp  trestbps      chol  fbs  restecg   thalach  exang  \\\n",
       "0 -2.542347    1   2 -0.146571 -1.822595  0.0      2.0  1.951019    0.0   \n",
       "1 -2.414117    1   2 -0.715815 -0.111523  0.0      0.0  0.887616    0.0   \n",
       "2 -2.414117    1   2  0.422673 -0.111523  0.0      0.0  1.312977    0.0   \n",
       "3 -2.285888    0   1  2.130406 -0.204014  0.0      1.0  1.312977    0.0   \n",
       "4 -2.157658    0   2 -1.854303 -0.481485  0.0      1.0  0.462255    0.0   \n",
       "\n",
       "    oldpeak  num         \n",
       "0 -0.646074           0  \n",
       "1 -0.646074           0  \n",
       "2 -0.646074           0  \n",
       "3 -0.646074           0  \n",
       "4 -0.646074           0  "
      ]
     },
     "execution_count": 13,
     "metadata": {},
     "output_type": "execute_result"
    }
   ],
   "source": [
    "data.head()"
   ]
  },
  {
   "cell_type": "code",
   "execution_count": 14,
   "id": "7baf75b3",
   "metadata": {
    "execution": {
     "iopub.execute_input": "2025-06-27T23:13:15.652798Z",
     "iopub.status.busy": "2025-06-27T23:13:15.652528Z",
     "iopub.status.idle": "2025-06-27T23:13:15.658396Z",
     "shell.execute_reply": "2025-06-27T23:13:15.657492Z"
    },
    "papermill": {
     "duration": 0.012776,
     "end_time": "2025-06-27T23:13:15.659773",
     "exception": false,
     "start_time": "2025-06-27T23:13:15.646997",
     "status": "completed"
    },
    "tags": []
   },
   "outputs": [
    {
     "data": {
      "text/plain": [
       "Index(['age', 'sex', 'cp', 'trestbps', 'chol', 'fbs', 'restecg', 'thalach',\n",
       "       'exang', 'oldpeak', 'num       '],\n",
       "      dtype='object')"
      ]
     },
     "execution_count": 14,
     "metadata": {},
     "output_type": "execute_result"
    }
   ],
   "source": [
    "data.columns"
   ]
  },
  {
   "cell_type": "code",
   "execution_count": 15,
   "id": "95859239",
   "metadata": {
    "execution": {
     "iopub.execute_input": "2025-06-27T23:13:15.672001Z",
     "iopub.status.busy": "2025-06-27T23:13:15.671047Z",
     "iopub.status.idle": "2025-06-27T23:13:15.675845Z",
     "shell.execute_reply": "2025-06-27T23:13:15.674996Z"
    },
    "papermill": {
     "duration": 0.012007,
     "end_time": "2025-06-27T23:13:15.677328",
     "exception": false,
     "start_time": "2025-06-27T23:13:15.665321",
     "status": "completed"
    },
    "tags": []
   },
   "outputs": [],
   "source": [
    "data.columns = data.columns.str.strip()  # Delete spaces\n"
   ]
  },
  {
   "cell_type": "code",
   "execution_count": 16,
   "id": "adab79aa",
   "metadata": {
    "execution": {
     "iopub.execute_input": "2025-06-27T23:13:15.688429Z",
     "iopub.status.busy": "2025-06-27T23:13:15.687887Z",
     "iopub.status.idle": "2025-06-27T23:13:15.693742Z",
     "shell.execute_reply": "2025-06-27T23:13:15.692926Z"
    },
    "papermill": {
     "duration": 0.013014,
     "end_time": "2025-06-27T23:13:15.695262",
     "exception": false,
     "start_time": "2025-06-27T23:13:15.682248",
     "status": "completed"
    },
    "tags": []
   },
   "outputs": [],
   "source": [
    "#separate features and target(main)\n",
    "X = data.drop('num', axis=1)\n",
    "y = data['num']\n"
   ]
  },
  {
   "cell_type": "code",
   "execution_count": 17,
   "id": "d7dd60ba",
   "metadata": {
    "execution": {
     "iopub.execute_input": "2025-06-27T23:13:15.706482Z",
     "iopub.status.busy": "2025-06-27T23:13:15.706166Z",
     "iopub.status.idle": "2025-06-27T23:13:15.826489Z",
     "shell.execute_reply": "2025-06-27T23:13:15.825391Z"
    },
    "papermill": {
     "duration": 0.127876,
     "end_time": "2025-06-27T23:13:15.828134",
     "exception": false,
     "start_time": "2025-06-27T23:13:15.700258",
     "status": "completed"
    },
    "tags": []
   },
   "outputs": [],
   "source": [
    "from sklearn.model_selection import train_test_split\n",
    "\n",
    "X_train, X_test, y_train, y_test = train_test_split(X, y, test_size=0.3, random_state=42)\n"
   ]
  },
  {
   "cell_type": "code",
   "execution_count": 18,
   "id": "6f2e3934",
   "metadata": {
    "execution": {
     "iopub.execute_input": "2025-06-27T23:13:15.839410Z",
     "iopub.status.busy": "2025-06-27T23:13:15.838714Z",
     "iopub.status.idle": "2025-06-27T23:13:15.843820Z",
     "shell.execute_reply": "2025-06-27T23:13:15.842897Z"
    },
    "papermill": {
     "duration": 0.012336,
     "end_time": "2025-06-27T23:13:15.845416",
     "exception": false,
     "start_time": "2025-06-27T23:13:15.833080",
     "status": "completed"
    },
    "tags": []
   },
   "outputs": [
    {
     "name": "stdout",
     "output_type": "stream",
     "text": [
      "\n",
      "Data for training !\n",
      "X_train shape: (205, 10)\n",
      "X_test shape: (89, 10)\n"
     ]
    }
   ],
   "source": [
    "# 9. Display\n",
    "print(\"\\nData for training !\")\n",
    "print(\"X_train shape:\", X_train.shape)\n",
    "print(\"X_test shape:\", X_test.shape)"
   ]
  },
  {
   "cell_type": "code",
   "execution_count": 19,
   "id": "c519f5b9",
   "metadata": {
    "execution": {
     "iopub.execute_input": "2025-06-27T23:13:15.856534Z",
     "iopub.status.busy": "2025-06-27T23:13:15.856220Z",
     "iopub.status.idle": "2025-06-27T23:13:16.001339Z",
     "shell.execute_reply": "2025-06-27T23:13:15.999585Z"
    },
    "papermill": {
     "duration": 0.152973,
     "end_time": "2025-06-27T23:13:16.003424",
     "exception": false,
     "start_time": "2025-06-27T23:13:15.850451",
     "status": "completed"
    },
    "tags": []
   },
   "outputs": [
    {
     "name": "stdout",
     "output_type": "stream",
     "text": [
      "Accuracy: 0.8202247191011236\n",
      "\n",
      "Classification Report:\n",
      "               precision    recall  f1-score   support\n",
      "\n",
      "           0       0.87      0.87      0.87        61\n",
      "           1       0.71      0.71      0.71        28\n",
      "\n",
      "    accuracy                           0.82        89\n",
      "   macro avg       0.79      0.79      0.79        89\n",
      "weighted avg       0.82      0.82      0.82        89\n",
      "\n",
      "\n",
      "Confusion Matrix:\n",
      " [[53  8]\n",
      " [ 8 20]]\n"
     ]
    }
   ],
   "source": [
    "from sklearn.linear_model import LogisticRegression\n",
    "from sklearn.metrics import accuracy_score, classification_report, confusion_matrix\n",
    "\n",
    "# Create and training the model\n",
    "model = LogisticRegression()\n",
    "model.fit(X_train, y_train)\n",
    "\n",
    "# Predict on test data\n",
    "y_pred = model.predict(X_test)\n",
    "\n",
    "# Evaluate performance\n",
    "print(\"Accuracy:\", accuracy_score(y_test, y_pred))\n",
    "print(\"\\nClassification Report:\\n\", classification_report(y_test, y_pred))\n",
    "print(\"\\nConfusion Matrix:\\n\", confusion_matrix(y_test, y_pred))\n",
    "\n"
   ]
  },
  {
   "cell_type": "code",
   "execution_count": 20,
   "id": "a6cfbda8",
   "metadata": {
    "execution": {
     "iopub.execute_input": "2025-06-27T23:13:16.021132Z",
     "iopub.status.busy": "2025-06-27T23:13:16.020798Z",
     "iopub.status.idle": "2025-06-27T23:13:26.140282Z",
     "shell.execute_reply": "2025-06-27T23:13:26.139376Z"
    },
    "papermill": {
     "duration": 10.130147,
     "end_time": "2025-06-27T23:13:26.141800",
     "exception": false,
     "start_time": "2025-06-27T23:13:16.011653",
     "status": "completed"
    },
    "tags": []
   },
   "outputs": [
    {
     "name": "stdout",
     "output_type": "stream",
     "text": [
      "Fitting 5 folds for each of 12 candidates, totalling 60 fits\n",
      "Best params founded : {'max_depth': 8, 'n_estimators': 100, 'random_state': 42}\n",
      "best recall : 0.6933333333333334\n",
      "\n",
      "Evaluation on the test :\n",
      "Accuracy: 0.7865168539325843\n",
      "\n",
      "Classification Report:\n",
      "               precision    recall  f1-score   support\n",
      "\n",
      "           0       0.85      0.84      0.84        61\n",
      "           1       0.66      0.68      0.67        28\n",
      "\n",
      "    accuracy                           0.79        89\n",
      "   macro avg       0.75      0.76      0.75        89\n",
      "weighted avg       0.79      0.79      0.79        89\n",
      "\n",
      "\n",
      "Confusion Matrix:\n",
      " [[51 10]\n",
      " [ 9 19]]\n"
     ]
    }
   ],
   "source": [
    "from sklearn.ensemble import RandomForestClassifier\n",
    "from sklearn.model_selection import GridSearchCV\n",
    "from sklearn.metrics import classification_report, confusion_matrix, accuracy_score\n",
    "\n",
    "# Define the hyperparameters to test\n",
    "param_grid = {\n",
    "    'n_estimators': [100, 200, 300],\n",
    "    'max_depth': [5, 8, 10, None],\n",
    "    'random_state': [42]  \n",
    "}\n",
    "\n",
    "# Define the classifier\n",
    "rf = RandomForestClassifier()\n",
    "\n",
    "# GridSearch with recall-based scoring\n",
    "grid_search = GridSearchCV(\n",
    "    estimator=rf,\n",
    "    param_grid=param_grid,\n",
    "    scoring='recall',  \n",
    "    cv=5,\n",
    "    n_jobs=-1,\n",
    "    verbose=1\n",
    ")\n",
    "\n",
    "# Training\n",
    "grid_search.fit(X_train, y_train)\n",
    "\n",
    "# Results\n",
    "print(\"Best params founded :\", grid_search.best_params_)\n",
    "print(\"best recall :\", grid_search.best_score_)\n",
    "\n",
    "# Evaluate the best model on the test set\n",
    "best_model = grid_search.best_estimator_\n",
    "y_pred = best_model.predict(X_test)\n",
    "\n",
    "# Display\n",
    "print(\"\\nEvaluation on the test :\")\n",
    "print(\"Accuracy:\", accuracy_score(y_test, y_pred))\n",
    "print(\"\\nClassification Report:\\n\", classification_report(y_test, y_pred))\n",
    "print(\"\\nConfusion Matrix:\\n\", confusion_matrix(y_test, y_pred))\n"
   ]
  },
  {
   "cell_type": "markdown",
   "id": "69231c02",
   "metadata": {
    "papermill": {
     "duration": 0.004861,
     "end_time": "2025-06-27T23:13:26.152025",
     "exception": false,
     "start_time": "2025-06-27T23:13:26.147164",
     "status": "completed"
    },
    "tags": []
   },
   "source": [
    "Between the two models: we gain in recall for class 1 (detected cases of disease) → fewer false negatives, which is a medical positive\n",
    "\n",
    "We lose a little in precision → more false positives, but less dangerous\n",
    "\n",
    "The overall accuracy decreases slightly, but in a medical context, class 1 recall is often higher"
   ]
  },
  {
   "cell_type": "markdown",
   "id": "b4f19b0c",
   "metadata": {
    "papermill": {
     "duration": 0.004832,
     "end_time": "2025-06-27T23:13:26.161952",
     "exception": false,
     "start_time": "2025-06-27T23:13:26.157120",
     "status": "completed"
    },
    "tags": []
   },
   "source": []
  }
 ],
 "metadata": {
  "kaggle": {
   "accelerator": "none",
   "dataSources": [
    {
     "datasetId": 23651,
     "sourceId": 30233,
     "sourceType": "datasetVersion"
    }
   ],
   "dockerImageVersionId": 31040,
   "isGpuEnabled": false,
   "isInternetEnabled": true,
   "language": "python",
   "sourceType": "notebook"
  },
  "kernelspec": {
   "display_name": "Python 3",
   "language": "python",
   "name": "python3"
  },
  "language_info": {
   "codemirror_mode": {
    "name": "ipython",
    "version": 3
   },
   "file_extension": ".py",
   "mimetype": "text/x-python",
   "name": "python",
   "nbconvert_exporter": "python",
   "pygments_lexer": "ipython3",
   "version": "3.11.11"
  },
  "papermill": {
   "default_parameters": {},
   "duration": 21.383731,
   "end_time": "2025-06-27T23:13:28.786407",
   "environment_variables": {},
   "exception": null,
   "input_path": "__notebook__.ipynb",
   "output_path": "__notebook__.ipynb",
   "parameters": {},
   "start_time": "2025-06-27T23:13:07.402676",
   "version": "2.6.0"
  }
 },
 "nbformat": 4,
 "nbformat_minor": 5
}
