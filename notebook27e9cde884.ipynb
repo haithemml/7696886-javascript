{
 "cells": [
  {
   "cell_type": "code",
   "execution_count": 1,
   "id": "d994e091",
   "metadata": {
    "_cell_guid": "b1076dfc-b9ad-4769-8c92-a6c4dae69d19",
    "_uuid": "8f2839f25d086af736a60e9eeb907d3b93b6e0e5",
    "execution": {
     "iopub.execute_input": "2025-04-18T23:51:57.738804Z",
     "iopub.status.busy": "2025-04-18T23:51:57.737966Z",
     "iopub.status.idle": "2025-04-18T23:51:59.730808Z",
     "shell.execute_reply": "2025-04-18T23:51:59.729711Z"
    },
    "papermill": {
     "duration": 1.999137,
     "end_time": "2025-04-18T23:51:59.732375",
     "exception": false,
     "start_time": "2025-04-18T23:51:57.733238",
     "status": "completed"
    },
    "tags": []
   },
   "outputs": [
    {
     "name": "stdout",
     "output_type": "stream",
     "text": [
      "/kaggle/input/email-phishing-dataset/email_phishing_data.csv\n"
     ]
    }
   ],
   "source": [
    "# This Python 3 environment comes with many helpful analytics libraries installed\n",
    "# It is defined by the kaggle/python Docker image: https://github.com/kaggle/docker-python\n",
    "# For example, here's several helpful packages to load\n",
    "\n",
    "import numpy as np # linear algebra\n",
    "import pandas as pd # data processing, CSV file I/O (e.g. pd.read_csv)\n",
    "\n",
    "# Input data files are available in the read-only \"../input/\" directory\n",
    "# For example, running this (by clicking run or pressing Shift+Enter) will list all files under the input directory\n",
    "\n",
    "import os\n",
    "for dirname, _, filenames in os.walk('/kaggle/input'):\n",
    "    for filename in filenames:\n",
    "        print(os.path.join(dirname, filename))\n",
    "\n",
    "# You can write up to 20GB to the current directory (/kaggle/working/) that gets preserved as output when you create a version using \"Save & Run All\" \n",
    "# You can also write temporary files to /kaggle/temp/, but they won't be saved outside of the current session"
   ]
  },
  {
   "cell_type": "code",
   "execution_count": 2,
   "id": "822e3cee",
   "metadata": {
    "execution": {
     "iopub.execute_input": "2025-04-18T23:51:59.739935Z",
     "iopub.status.busy": "2025-04-18T23:51:59.739506Z",
     "iopub.status.idle": "2025-04-18T23:52:00.336760Z",
     "shell.execute_reply": "2025-04-18T23:52:00.335643Z"
    },
    "papermill": {
     "duration": 0.602447,
     "end_time": "2025-04-18T23:52:00.338266",
     "exception": false,
     "start_time": "2025-04-18T23:51:59.735819",
     "status": "completed"
    },
    "tags": []
   },
   "outputs": [
    {
     "data": {
      "text/html": [
       "<div>\n",
       "<style scoped>\n",
       "    .dataframe tbody tr th:only-of-type {\n",
       "        vertical-align: middle;\n",
       "    }\n",
       "\n",
       "    .dataframe tbody tr th {\n",
       "        vertical-align: top;\n",
       "    }\n",
       "\n",
       "    .dataframe thead th {\n",
       "        text-align: right;\n",
       "    }\n",
       "</style>\n",
       "<table border=\"1\" class=\"dataframe\">\n",
       "  <thead>\n",
       "    <tr style=\"text-align: right;\">\n",
       "      <th></th>\n",
       "      <th>num_words</th>\n",
       "      <th>num_unique_words</th>\n",
       "      <th>num_stopwords</th>\n",
       "      <th>num_links</th>\n",
       "      <th>num_unique_domains</th>\n",
       "      <th>num_email_addresses</th>\n",
       "      <th>num_spelling_errors</th>\n",
       "      <th>num_urgent_keywords</th>\n",
       "      <th>label</th>\n",
       "    </tr>\n",
       "  </thead>\n",
       "  <tbody>\n",
       "    <tr>\n",
       "      <th>0</th>\n",
       "      <td>140</td>\n",
       "      <td>94</td>\n",
       "      <td>52</td>\n",
       "      <td>0</td>\n",
       "      <td>0</td>\n",
       "      <td>0</td>\n",
       "      <td>0</td>\n",
       "      <td>0</td>\n",
       "      <td>0</td>\n",
       "    </tr>\n",
       "    <tr>\n",
       "      <th>1</th>\n",
       "      <td>5</td>\n",
       "      <td>5</td>\n",
       "      <td>1</td>\n",
       "      <td>0</td>\n",
       "      <td>0</td>\n",
       "      <td>0</td>\n",
       "      <td>0</td>\n",
       "      <td>0</td>\n",
       "      <td>0</td>\n",
       "    </tr>\n",
       "    <tr>\n",
       "      <th>2</th>\n",
       "      <td>34</td>\n",
       "      <td>32</td>\n",
       "      <td>15</td>\n",
       "      <td>0</td>\n",
       "      <td>0</td>\n",
       "      <td>0</td>\n",
       "      <td>0</td>\n",
       "      <td>0</td>\n",
       "      <td>0</td>\n",
       "    </tr>\n",
       "    <tr>\n",
       "      <th>3</th>\n",
       "      <td>6</td>\n",
       "      <td>6</td>\n",
       "      <td>2</td>\n",
       "      <td>0</td>\n",
       "      <td>0</td>\n",
       "      <td>0</td>\n",
       "      <td>0</td>\n",
       "      <td>0</td>\n",
       "      <td>0</td>\n",
       "    </tr>\n",
       "    <tr>\n",
       "      <th>4</th>\n",
       "      <td>9</td>\n",
       "      <td>9</td>\n",
       "      <td>2</td>\n",
       "      <td>0</td>\n",
       "      <td>0</td>\n",
       "      <td>0</td>\n",
       "      <td>0</td>\n",
       "      <td>0</td>\n",
       "      <td>0</td>\n",
       "    </tr>\n",
       "  </tbody>\n",
       "</table>\n",
       "</div>"
      ],
      "text/plain": [
       "   num_words  num_unique_words  num_stopwords  num_links  num_unique_domains  \\\n",
       "0        140                94             52          0                   0   \n",
       "1          5                 5              1          0                   0   \n",
       "2         34                32             15          0                   0   \n",
       "3          6                 6              2          0                   0   \n",
       "4          9                 9              2          0                   0   \n",
       "\n",
       "   num_email_addresses  num_spelling_errors  num_urgent_keywords  label  \n",
       "0                    0                    0                    0      0  \n",
       "1                    0                    0                    0      0  \n",
       "2                    0                    0                    0      0  \n",
       "3                    0                    0                    0      0  \n",
       "4                    0                    0                    0      0  "
      ]
     },
     "execution_count": 2,
     "metadata": {},
     "output_type": "execute_result"
    }
   ],
   "source": [
    "#load data\n",
    "df = pd.read_csv(\"/kaggle/input/email-phishing-dataset/email_phishing_data.csv\")\n",
    "df.head(5)"
   ]
  },
  {
   "cell_type": "code",
   "execution_count": 3,
   "id": "cf6382ac",
   "metadata": {
    "execution": {
     "iopub.execute_input": "2025-04-18T23:52:00.345613Z",
     "iopub.status.busy": "2025-04-18T23:52:00.345256Z",
     "iopub.status.idle": "2025-04-18T23:52:00.521886Z",
     "shell.execute_reply": "2025-04-18T23:52:00.520894Z"
    },
    "papermill": {
     "duration": 0.182271,
     "end_time": "2025-04-18T23:52:00.523612",
     "exception": false,
     "start_time": "2025-04-18T23:52:00.341341",
     "status": "completed"
    },
    "tags": []
   },
   "outputs": [
    {
     "data": {
      "text/plain": [
       "319794"
      ]
     },
     "execution_count": 3,
     "metadata": {},
     "output_type": "execute_result"
    }
   ],
   "source": [
    "df.duplicated().sum()"
   ]
  },
  {
   "cell_type": "code",
   "execution_count": 4,
   "id": "4b42475a",
   "metadata": {
    "execution": {
     "iopub.execute_input": "2025-04-18T23:52:00.531452Z",
     "iopub.status.busy": "2025-04-18T23:52:00.531106Z",
     "iopub.status.idle": "2025-04-18T23:52:00.538311Z",
     "shell.execute_reply": "2025-04-18T23:52:00.537578Z"
    },
    "papermill": {
     "duration": 0.012703,
     "end_time": "2025-04-18T23:52:00.539683",
     "exception": false,
     "start_time": "2025-04-18T23:52:00.526980",
     "status": "completed"
    },
    "tags": []
   },
   "outputs": [
    {
     "data": {
      "text/plain": [
       "Index(['num_words', 'num_unique_words', 'num_stopwords', 'num_links',\n",
       "       'num_unique_domains', 'num_email_addresses', 'num_spelling_errors',\n",
       "       'num_urgent_keywords', 'label'],\n",
       "      dtype='object')"
      ]
     },
     "execution_count": 4,
     "metadata": {},
     "output_type": "execute_result"
    }
   ],
   "source": [
    "df.columns"
   ]
  },
  {
   "cell_type": "markdown",
   "id": "e5190fdc",
   "metadata": {
    "papermill": {
     "duration": 0.002933,
     "end_time": "2025-04-18T23:52:00.545775",
     "exception": false,
     "start_time": "2025-04-18T23:52:00.542842",
     "status": "completed"
    },
    "tags": []
   },
   "source": [
    "Data Aggregation\n",
    "Group data by category to reduce the size of the dataset.\n",
    "Example: Group sales by month instead of by day."
   ]
  },
  {
   "cell_type": "code",
   "execution_count": 5,
   "id": "9833cea2",
   "metadata": {
    "execution": {
     "iopub.execute_input": "2025-04-18T23:52:00.554699Z",
     "iopub.status.busy": "2025-04-18T23:52:00.554021Z",
     "iopub.status.idle": "2025-04-18T23:52:02.946592Z",
     "shell.execute_reply": "2025-04-18T23:52:02.945738Z"
    },
    "papermill": {
     "duration": 2.399353,
     "end_time": "2025-04-18T23:52:02.948138",
     "exception": false,
     "start_time": "2025-04-18T23:52:00.548785",
     "status": "completed"
    },
    "tags": []
   },
   "outputs": [],
   "source": [
    "from sklearn.decomposition import PCA\n",
    "import matplotlib.pyplot as plt\n",
    "import seaborn as sns\n",
    "\n",
    "data = pd.DataFrame(df)\n"
   ]
  },
  {
   "cell_type": "code",
   "execution_count": 6,
   "id": "908c74e3",
   "metadata": {
    "execution": {
     "iopub.execute_input": "2025-04-18T23:52:02.956637Z",
     "iopub.status.busy": "2025-04-18T23:52:02.956120Z",
     "iopub.status.idle": "2025-04-18T23:52:03.993451Z",
     "shell.execute_reply": "2025-04-18T23:52:03.992263Z"
    },
    "papermill": {
     "duration": 1.043536,
     "end_time": "2025-04-18T23:52:03.995112",
     "exception": false,
     "start_time": "2025-04-18T23:52:02.951576",
     "status": "completed"
    },
    "tags": []
   },
   "outputs": [
    {
     "name": "stdout",
     "output_type": "stream",
     "text": [
      "Charges des composantes principales :\n",
      "                          PC1       PC2\n",
      "num_words            0.931102  0.321395\n",
      "num_unique_words     0.758100 -0.292885\n",
      "num_stopwords        0.914212  0.338314\n",
      "num_links            0.299549 -0.758227\n",
      "num_unique_domains   0.304873 -0.765572\n",
      "num_email_addresses  0.127984 -0.175760\n",
      "num_spelling_errors  0.871380  0.292931\n",
      "num_urgent_keywords  0.340604 -0.466045\n",
      "label               -0.000192  0.002083\n"
     ]
    }
   ],
   "source": [
    "#Standarization\n",
    "from sklearn.preprocessing import StandardScaler\n",
    "scaler = StandardScaler()\n",
    "data_scaled = scaler.fit_transform(data)\n",
    "\n",
    "# PCA\n",
    "pca = PCA(n_components=2)\n",
    "principal_components = pca.fit_transform(data_scaled)\n",
    "\n",
    "# Creating a DataFrame for the Principal Components\n",
    "data_pca = pd.DataFrame(data=principal_components, columns=['PC1', 'PC2'])\n",
    "\n",
    "# Load Components\n",
    "loadings = pca.components_.T * np.sqrt(pca.explained_variance_)\n",
    "loadings_data = pd.DataFrame(loadings, columns=['PC1', 'PC2'], index=data.columns)\n",
    "\n",
    "# Load Display\n",
    "print(\"Charges des composantes principales :\")\n",
    "print(loadings_data)"
   ]
  },
  {
   "cell_type": "code",
   "execution_count": 7,
   "id": "15140b5a",
   "metadata": {
    "execution": {
     "iopub.execute_input": "2025-04-18T23:52:04.002589Z",
     "iopub.status.busy": "2025-04-18T23:52:04.002240Z",
     "iopub.status.idle": "2025-04-18T23:52:04.372164Z",
     "shell.execute_reply": "2025-04-18T23:52:04.371225Z"
    },
    "papermill": {
     "duration": 0.375645,
     "end_time": "2025-04-18T23:52:04.373969",
     "exception": false,
     "start_time": "2025-04-18T23:52:03.998324",
     "status": "completed"
    },
    "tags": []
   },
   "outputs": [
    {
     "name": "stderr",
     "output_type": "stream",
     "text": [
      "/usr/local/lib/python3.11/dist-packages/matplotlib/colors.py:721: RuntimeWarning: invalid value encountered in less\n",
      "  xa[xa < 0] = -1\n"
     ]
    },
    {
     "data": {
      "image/png": "[encoded data removed]",
      "text/plain": [
       "<Figure size 1000x600 with 2 Axes>"
      ]
     },
     "metadata": {},
     "output_type": "display_data"
    }
   ],
   "source": [
    "# Visualization of loads\n",
    "plt.figure(figsize=(10, 6))\n",
    "sns.heatmap(loadings_data, annot=True, cmap='coolwarm', center=0)\n",
    "plt.title('Charges des Composantes Principales')\n",
    "plt.show()"
   ]
  },
  {
   "cell_type": "markdown",
   "id": "f71b3f35",
   "metadata": {
    "papermill": {
     "duration": 0.005337,
     "end_time": "2025-04-18T23:52:04.386634",
     "exception": false,
     "start_time": "2025-04-18T23:52:04.381297",
     "status": "completed"
    },
    "tags": []
   },
   "source": [
    "The variables num_words, num_stopwords, and num_spelling_errors have high loadings on PC1  they strongly influence this component.\n",
    "\n",
    "num_links and num_unique_domains have significant negative loadings on PC2  they could indicate behavior typical of phishing emails.\n",
    "\n",
    "label has a very low loading on both components  the principal components do not directly capture the label, but this is expected, since the PCA is unsupervised."
   ]
  },
  {
   "cell_type": "code",
   "execution_count": 8,
   "id": "df6dfd15",
   "metadata": {
    "execution": {
     "iopub.execute_input": "2025-04-18T23:52:04.397515Z",
     "iopub.status.busy": "2025-04-18T23:52:04.397138Z",
     "iopub.status.idle": "2025-04-18T23:52:21.888754Z",
     "shell.execute_reply": "2025-04-18T23:52:21.887514Z"
    },
    "papermill": {
     "duration": 17.499021,
     "end_time": "2025-04-18T23:52:21.890667",
     "exception": false,
     "start_time": "2025-04-18T23:52:04.391646",
     "status": "completed"
    },
    "tags": []
   },
   "outputs": [
    {
     "name": "stderr",
     "output_type": "stream",
     "text": [
      "2025-04-18 23:52:06.180495: E external/local_xla/xla/stream_executor/cuda/cuda_fft.cc:477] Unable to register cuFFT factory: Attempting to register factory for plugin cuFFT when one has already been registered\n",
      "WARNING: All log messages before absl::InitializeLog() is called are written to STDERR\n",
      "E0000 00:00:1745020326.444575      14 cuda_dnn.cc:8310] Unable to register cuDNN factory: Attempting to register factory for plugin cuDNN when one has already been registered\n",
      "E0000 00:00:1745020326.521928      14 cuda_blas.cc:1418] Unable to register cuBLAS factory: Attempting to register factory for plugin cuBLAS when one has already been registered\n"
     ]
    }
   ],
   "source": [
    "\n",
    "from sklearn.model_selection import train_test_split\n",
    "import tensorflow as tf\n",
    "from tensorflow.keras import layers, models\n",
    "\n",
    "# Selection of relevant features\n",
    "features = [\n",
    "    'num_words',\n",
    "    'num_unique_words',\n",
    "    'num_stopwords',\n",
    "    'num_links',\n",
    "    'num_unique_domains',\n",
    "    'num_email_addresses',\n",
    "    'num_spelling_errors',\n",
    "    'num_urgent_keywords'\n",
    "]\n",
    "\n",
    "X = df[features]\n",
    "y = df['label']\n",
    "\n",
    "# Data Standarization\n",
    "scaler = StandardScaler()\n",
    "X_scaled = scaler.fit_transform(X)\n",
    "\n",
    "# Division into training and test game\n",
    "X_train, X_test, y_train, y_test = train_test_split(\n",
    "    X_scaled, y, test_size=0.2, random_state=42\n",
    ")\n"
   ]
  },
  {
   "cell_type": "code",
   "execution_count": 9,
   "id": "9bf28dcb",
   "metadata": {
    "execution": {
     "iopub.execute_input": "2025-04-18T23:52:21.901075Z",
     "iopub.status.busy": "2025-04-18T23:52:21.900400Z",
     "iopub.status.idle": "2025-04-18T23:57:24.418483Z",
     "shell.execute_reply": "2025-04-18T23:57:24.417547Z"
    },
    "papermill": {
     "duration": 302.524976,
     "end_time": "2025-04-18T23:57:24.420161",
     "exception": false,
     "start_time": "2025-04-18T23:52:21.895185",
     "status": "completed"
    },
    "tags": []
   },
   "outputs": [
    {
     "name": "stderr",
     "output_type": "stream",
     "text": [
      "2025-04-18 23:52:21.913346: E external/local_xla/xla/stream_executor/cuda/cuda_driver.cc:152] failed call to cuInit: INTERNAL: CUDA error: Failed call to cuInit: UNKNOWN ERROR (303)\n"
     ]
    },
    {
     "name": "stdout",
     "output_type": "stream",
     "text": [
      "Epoch 1/20\n",
      "\u001b[1m10497/10497\u001b[0m \u001b[32m━━━━━━━━━━━━━━━━━━━━\u001b[0m\u001b[37m\u001b[0m \u001b[1m22s\u001b[0m 2ms/step - accuracy: 0.9840 - loss: 0.0887 - val_accuracy: 0.9869 - val_loss: 0.0662\n",
      "Epoch 2/20\n",
      "\u001b[1m10497/10497\u001b[0m \u001b[32m━━━━━━━━━━━━━━━━━━━━\u001b[0m\u001b[37m\u001b[0m \u001b[1m20s\u001b[0m 2ms/step - accuracy: 0.9869 - loss: 0.0668 - val_accuracy: 0.9869 - val_loss: 0.0652\n",
      "Epoch 3/20\n",
      "\u001b[1m10497/10497\u001b[0m \u001b[32m━━━━━━━━━━━━━━━━━━━━\u001b[0m\u001b[37m\u001b[0m \u001b[1m19s\u001b[0m 2ms/step - accuracy: 0.9866 - loss: 0.0672 - val_accuracy: 0.9869 - val_loss: 0.0663\n",
      "Epoch 4/20\n",
      "\u001b[1m10497/10497\u001b[0m \u001b[32m━━━━━━━━━━━━━━━━━━━━\u001b[0m\u001b[37m\u001b[0m \u001b[1m21s\u001b[0m 2ms/step - accuracy: 0.9868 - loss: 0.0645 - val_accuracy: 0.9869 - val_loss: 0.0625\n",
      "Epoch 5/20\n",
      "\u001b[1m10497/10497\u001b[0m \u001b[32m━━━━━━━━━━━━━━━━━━━━\u001b[0m\u001b[37m\u001b[0m \u001b[1m20s\u001b[0m 2ms/step - accuracy: 0.9867 - loss: 0.0643 - val_accuracy: 0.9869 - val_loss: 0.0628\n",
      "Epoch 6/20\n",
      "\u001b[1m10497/10497\u001b[0m \u001b[32m━━━━━━━━━━━━━━━━━━━━\u001b[0m\u001b[37m\u001b[0m \u001b[1m20s\u001b[0m 2ms/step - accuracy: 0.9869 - loss: 0.0632 - val_accuracy: 0.9870 - val_loss: 0.0622\n",
      "Epoch 7/20\n",
      "\u001b[1m10497/10497\u001b[0m \u001b[32m━━━━━━━━━━━━━━━━━━━━\u001b[0m\u001b[37m\u001b[0m \u001b[1m20s\u001b[0m 2ms/step - accuracy: 0.9871 - loss: 0.0622 - val_accuracy: 0.9870 - val_loss: 0.0616\n",
      "Epoch 8/20\n",
      "\u001b[1m10497/10497\u001b[0m \u001b[32m━━━━━━━━━━━━━━━━━━━━\u001b[0m\u001b[37m\u001b[0m \u001b[1m19s\u001b[0m 2ms/step - accuracy: 0.9867 - loss: 0.0634 - val_accuracy: 0.9870 - val_loss: 0.0612\n",
      "Epoch 9/20\n",
      "\u001b[1m10497/10497\u001b[0m \u001b[32m━━━━━━━━━━━━━━━━━━━━\u001b[0m\u001b[37m\u001b[0m \u001b[1m20s\u001b[0m 2ms/step - accuracy: 0.9868 - loss: 0.0626 - val_accuracy: 0.9870 - val_loss: 0.0612\n",
      "Epoch 10/20\n",
      "\u001b[1m10497/10497\u001b[0m \u001b[32m━━━━━━━━━━━━━━━━━━━━\u001b[0m\u001b[37m\u001b[0m \u001b[1m20s\u001b[0m 2ms/step - accuracy: 0.9870 - loss: 0.0618 - val_accuracy: 0.9870 - val_loss: 0.0612\n",
      "Epoch 11/20\n",
      "\u001b[1m10497/10497\u001b[0m \u001b[32m━━━━━━━━━━━━━━━━━━━━\u001b[0m\u001b[37m\u001b[0m \u001b[1m20s\u001b[0m 2ms/step - accuracy: 0.9870 - loss: 0.0614 - val_accuracy: 0.9870 - val_loss: 0.0618\n",
      "Epoch 12/20\n",
      "\u001b[1m10497/10497\u001b[0m \u001b[32m━━━━━━━━━━━━━━━━━━━━\u001b[0m\u001b[37m\u001b[0m \u001b[1m20s\u001b[0m 2ms/step - accuracy: 0.9867 - loss: 0.0629 - val_accuracy: 0.9870 - val_loss: 0.0608\n",
      "Epoch 13/20\n",
      "\u001b[1m10497/10497\u001b[0m \u001b[32m━━━━━━━━━━━━━━━━━━━━\u001b[0m\u001b[37m\u001b[0m \u001b[1m20s\u001b[0m 2ms/step - accuracy: 0.9866 - loss: 0.0628 - val_accuracy: 0.9870 - val_loss: 0.0613\n",
      "Epoch 14/20\n",
      "\u001b[1m10497/10497\u001b[0m \u001b[32m━━━━━━━━━━━━━━━━━━━━\u001b[0m\u001b[37m\u001b[0m \u001b[1m21s\u001b[0m 2ms/step - accuracy: 0.9868 - loss: 0.0621 - val_accuracy: 0.9870 - val_loss: 0.0629\n",
      "Epoch 15/20\n",
      "\u001b[1m10497/10497\u001b[0m \u001b[32m━━━━━━━━━━━━━━━━━━━━\u001b[0m\u001b[37m\u001b[0m \u001b[1m20s\u001b[0m 2ms/step - accuracy: 0.9869 - loss: 0.0618 - val_accuracy: 0.9870 - val_loss: 0.0613\n"
     ]
    }
   ],
   "source": [
    "# Model definition\n",
    "model = models.Sequential([\n",
    "    layers.Input(shape=(X_train.shape[1],)),  # 8 characteristic\n",
    "    layers.Dense(64, activation='relu'),\n",
    "    layers.Dropout(0.3),\n",
    "    layers.Dense(32, activation='relu'),\n",
    "    layers.Dropout(0.2),\n",
    "    layers.Dense(1, activation='sigmoid')  # binary output\n",
    "])\n",
    "\n",
    "# Model Compilation\n",
    "model.compile(\n",
    "    optimizer='adam',\n",
    "    loss='binary_crossentropy',\n",
    "    metrics=['accuracy']\n",
    ")\n",
    "\n",
    "# training\n",
    "history = model.fit(\n",
    "    X_train, y_train,\n",
    "    validation_split=0.2,\n",
    "    epochs=20,\n",
    "    batch_size=32,\n",
    "    callbacks=[tf.keras.callbacks.EarlyStopping(patience=3, restore_best_weights=True)]\n",
    ")\n"
   ]
  },
  {
   "cell_type": "code",
   "execution_count": 10,
   "id": "e3110ccf",
   "metadata": {
    "execution": {
     "iopub.execute_input": "2025-04-18T23:57:25.018908Z",
     "iopub.status.busy": "2025-04-18T23:57:25.018385Z",
     "iopub.status.idle": "2025-04-18T23:57:28.613233Z",
     "shell.execute_reply": "2025-04-18T23:57:28.612436Z"
    },
    "papermill": {
     "duration": 3.863313,
     "end_time": "2025-04-18T23:57:28.614706",
     "exception": false,
     "start_time": "2025-04-18T23:57:24.751393",
     "status": "completed"
    },
    "tags": []
   },
   "outputs": [
    {
     "name": "stdout",
     "output_type": "stream",
     "text": [
      "\u001b[1m3281/3281\u001b[0m \u001b[32m━━━━━━━━━━━━━━━━━━━━\u001b[0m\u001b[37m\u001b[0m \u001b[1m4s\u001b[0m 1ms/step - accuracy: 0.9872 - loss: 0.0597\n",
      "Accuracy on the test set : 0.99\n"
     ]
    }
   ],
   "source": [
    "loss, accuracy = model.evaluate(X_test, y_test)\n",
    "print(f\"Accuracy on the test set : {accuracy:.2f}\")\n"
   ]
  }
 ],
 "metadata": {
  "kaggle": {
   "accelerator": "none",
   "dataSources": [
    {
     "datasetId": 7016979,
     "sourceId": 11233177,
     "sourceType": "datasetVersion"
    }
   ],
   "dockerImageVersionId": 31012,
   "isGpuEnabled": false,
   "isInternetEnabled": true,
   "language": "python",
   "sourceType": "notebook"
  },
  "kernelspec": {
   "display_name": "Python 3",
   "language": "python",
   "name": "python3"
  },
  "language_info": {
   "codemirror_mode": {
    "name": "ipython",
    "version": 3
   },
   "file_extension": ".py",
   "mimetype": "text/x-python",
   "name": "python",
   "nbconvert_exporter": "python",
   "pygments_lexer": "ipython3",
   "version": "3.11.11"
  },
  "papermill": {
   "default_parameters": {},
   "duration": 339.36348,
   "end_time": "2025-04-18T23:57:32.028976",
   "environment_variables": {},
   "exception": null,
   "input_path": "__notebook__.ipynb",
   "output_path": "__notebook__.ipynb",
   "parameters": {},
   "start_time": "2025-04-18T23:51:52.665496",
   "version": "2.6.0"
  }
 },
 "nbformat": 4,
 "nbformat_minor": 5
}
